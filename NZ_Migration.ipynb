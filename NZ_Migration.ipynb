{
  "nbformat": 4,
  "nbformat_minor": 0,
  "metadata": {
    "colab": {
      "provenance": [],
      "collapsed_sections": [
        "OR43QiEuVXmn",
        "VWZAFxWrzt79"
      ],
      "toc_visible": true,
      "include_colab_link": true
    },
    "kernelspec": {
      "name": "python3",
      "display_name": "Python 3"
    },
    "language_info": {
      "name": "python"
    }
  },
  "cells": [
    {
      "cell_type": "markdown",
      "metadata": {
        "id": "view-in-github",
        "colab_type": "text"
      },
      "source": [
        "<a href=\"https://colab.research.google.com/github/TahminaAnondi/migration_ML/blob/main/NZ_Migration.ipynb\" target=\"_parent\"><img src=\"https://colab.research.google.com/assets/colab-badge.svg\" alt=\"Open In Colab\"/></a>"
      ]
    },
    {
      "cell_type": "markdown",
      "source": [
        "#**Import the libraries.**"
      ],
      "metadata": {
        "id": "vqwEr0YtEYAW"
      }
    },
    {
      "cell_type": "code",
      "source": [
        "import pandas as pd\n",
        "from sklearn.model_selection import train_test_split\n",
        "#from sklearn import svm # it is a supervised machine learning algorithm used for classification and regression tasks.\n",
        "import seaborn as sns\n",
        "import matplotlib.pyplot as plt\n",
        "#from sklearn.metrics import mean_squared_error\n",
        "import numpy as np\n",
        "from sklearn.ensemble import RandomForestRegressor #It's based on the idea of constructing multiple decision trees during training and combining their predictions to improve accuracy and reduce overfitting.\n",
        "import plotly.express as px"
      ],
      "metadata": {
        "id": "JmmpBSDIEXEx"
      },
      "execution_count": 1,
      "outputs": []
    },
    {
      "cell_type": "markdown",
      "source": [
        "#Load the Data"
      ],
      "metadata": {
        "id": "2DhqJLjzEmpK"
      }
    },
    {
      "cell_type": "code",
      "source": [
        "migration = pd.read_excel('Net_Migration.xlsx')\n",
        "migration.head()"
      ],
      "metadata": {
        "colab": {
          "base_uri": "https://localhost:8080/",
          "height": 206
        },
        "id": "TcMtQZACEnea",
        "outputId": "c3a08859-00f1-47bd-d268-3dcf7e83d86c"
      },
      "execution_count": 2,
      "outputs": [
        {
          "output_type": "execute_result",
          "data": {
            "text/plain": [
              "      Country             Citizenship  Year    Value\n",
              "0     Oceania     New Zealand Citizen  1979 -32716.0\n",
              "1     Oceania      Australian Citizen  1979    411.0\n",
              "2     Oceania  Total All Citizenships  1979 -33512.0\n",
              "3  Antarctica     New Zealand Citizen  1979     -1.0\n",
              "4  Antarctica      Australian Citizen  1979      0.0"
            ],
            "text/html": [
              "\n",
              "  <div id=\"df-84724305-61ff-424a-9b22-66c5150b4590\" class=\"colab-df-container\">\n",
              "    <div>\n",
              "<style scoped>\n",
              "    .dataframe tbody tr th:only-of-type {\n",
              "        vertical-align: middle;\n",
              "    }\n",
              "\n",
              "    .dataframe tbody tr th {\n",
              "        vertical-align: top;\n",
              "    }\n",
              "\n",
              "    .dataframe thead th {\n",
              "        text-align: right;\n",
              "    }\n",
              "</style>\n",
              "<table border=\"1\" class=\"dataframe\">\n",
              "  <thead>\n",
              "    <tr style=\"text-align: right;\">\n",
              "      <th></th>\n",
              "      <th>Country</th>\n",
              "      <th>Citizenship</th>\n",
              "      <th>Year</th>\n",
              "      <th>Value</th>\n",
              "    </tr>\n",
              "  </thead>\n",
              "  <tbody>\n",
              "    <tr>\n",
              "      <th>0</th>\n",
              "      <td>Oceania</td>\n",
              "      <td>New Zealand Citizen</td>\n",
              "      <td>1979</td>\n",
              "      <td>-32716.0</td>\n",
              "    </tr>\n",
              "    <tr>\n",
              "      <th>1</th>\n",
              "      <td>Oceania</td>\n",
              "      <td>Australian Citizen</td>\n",
              "      <td>1979</td>\n",
              "      <td>411.0</td>\n",
              "    </tr>\n",
              "    <tr>\n",
              "      <th>2</th>\n",
              "      <td>Oceania</td>\n",
              "      <td>Total All Citizenships</td>\n",
              "      <td>1979</td>\n",
              "      <td>-33512.0</td>\n",
              "    </tr>\n",
              "    <tr>\n",
              "      <th>3</th>\n",
              "      <td>Antarctica</td>\n",
              "      <td>New Zealand Citizen</td>\n",
              "      <td>1979</td>\n",
              "      <td>-1.0</td>\n",
              "    </tr>\n",
              "    <tr>\n",
              "      <th>4</th>\n",
              "      <td>Antarctica</td>\n",
              "      <td>Australian Citizen</td>\n",
              "      <td>1979</td>\n",
              "      <td>0.0</td>\n",
              "    </tr>\n",
              "  </tbody>\n",
              "</table>\n",
              "</div>\n",
              "    <div class=\"colab-df-buttons\">\n",
              "\n",
              "  <div class=\"colab-df-container\">\n",
              "    <button class=\"colab-df-convert\" onclick=\"convertToInteractive('df-84724305-61ff-424a-9b22-66c5150b4590')\"\n",
              "            title=\"Convert this dataframe to an interactive table.\"\n",
              "            style=\"display:none;\">\n",
              "\n",
              "  <svg xmlns=\"http://www.w3.org/2000/svg\" height=\"24px\" viewBox=\"0 -960 960 960\">\n",
              "    <path d=\"M120-120v-720h720v720H120Zm60-500h600v-160H180v160Zm220 220h160v-160H400v160Zm0 220h160v-160H400v160ZM180-400h160v-160H180v160Zm440 0h160v-160H620v160ZM180-180h160v-160H180v160Zm440 0h160v-160H620v160Z\"/>\n",
              "  </svg>\n",
              "    </button>\n",
              "\n",
              "  <style>\n",
              "    .colab-df-container {\n",
              "      display:flex;\n",
              "      gap: 12px;\n",
              "    }\n",
              "\n",
              "    .colab-df-convert {\n",
              "      background-color: #E8F0FE;\n",
              "      border: none;\n",
              "      border-radius: 50%;\n",
              "      cursor: pointer;\n",
              "      display: none;\n",
              "      fill: #1967D2;\n",
              "      height: 32px;\n",
              "      padding: 0 0 0 0;\n",
              "      width: 32px;\n",
              "    }\n",
              "\n",
              "    .colab-df-convert:hover {\n",
              "      background-color: #E2EBFA;\n",
              "      box-shadow: 0px 1px 2px rgba(60, 64, 67, 0.3), 0px 1px 3px 1px rgba(60, 64, 67, 0.15);\n",
              "      fill: #174EA6;\n",
              "    }\n",
              "\n",
              "    .colab-df-buttons div {\n",
              "      margin-bottom: 4px;\n",
              "    }\n",
              "\n",
              "    [theme=dark] .colab-df-convert {\n",
              "      background-color: #3B4455;\n",
              "      fill: #D2E3FC;\n",
              "    }\n",
              "\n",
              "    [theme=dark] .colab-df-convert:hover {\n",
              "      background-color: #434B5C;\n",
              "      box-shadow: 0px 1px 3px 1px rgba(0, 0, 0, 0.15);\n",
              "      filter: drop-shadow(0px 1px 2px rgba(0, 0, 0, 0.3));\n",
              "      fill: #FFFFFF;\n",
              "    }\n",
              "  </style>\n",
              "\n",
              "    <script>\n",
              "      const buttonEl =\n",
              "        document.querySelector('#df-84724305-61ff-424a-9b22-66c5150b4590 button.colab-df-convert');\n",
              "      buttonEl.style.display =\n",
              "        google.colab.kernel.accessAllowed ? 'block' : 'none';\n",
              "\n",
              "      async function convertToInteractive(key) {\n",
              "        const element = document.querySelector('#df-84724305-61ff-424a-9b22-66c5150b4590');\n",
              "        const dataTable =\n",
              "          await google.colab.kernel.invokeFunction('convertToInteractive',\n",
              "                                                    [key], {});\n",
              "        if (!dataTable) return;\n",
              "\n",
              "        const docLinkHtml = 'Like what you see? Visit the ' +\n",
              "          '<a target=\"_blank\" href=https://colab.research.google.com/notebooks/data_table.ipynb>data table notebook</a>'\n",
              "          + ' to learn more about interactive tables.';\n",
              "        element.innerHTML = '';\n",
              "        dataTable['output_type'] = 'display_data';\n",
              "        await google.colab.output.renderOutput(dataTable, element);\n",
              "        const docLink = document.createElement('div');\n",
              "        docLink.innerHTML = docLinkHtml;\n",
              "        element.appendChild(docLink);\n",
              "      }\n",
              "    </script>\n",
              "  </div>\n",
              "\n",
              "\n",
              "<div id=\"df-5e973300-c450-4b35-a461-97ef5a429eaa\">\n",
              "  <button class=\"colab-df-quickchart\" onclick=\"quickchart('df-5e973300-c450-4b35-a461-97ef5a429eaa')\"\n",
              "            title=\"Suggest charts\"\n",
              "            style=\"display:none;\">\n",
              "\n",
              "<svg xmlns=\"http://www.w3.org/2000/svg\" height=\"24px\"viewBox=\"0 0 24 24\"\n",
              "     width=\"24px\">\n",
              "    <g>\n",
              "        <path d=\"M19 3H5c-1.1 0-2 .9-2 2v14c0 1.1.9 2 2 2h14c1.1 0 2-.9 2-2V5c0-1.1-.9-2-2-2zM9 17H7v-7h2v7zm4 0h-2V7h2v10zm4 0h-2v-4h2v4z\"/>\n",
              "    </g>\n",
              "</svg>\n",
              "  </button>\n",
              "\n",
              "<style>\n",
              "  .colab-df-quickchart {\n",
              "      --bg-color: #E8F0FE;\n",
              "      --fill-color: #1967D2;\n",
              "      --hover-bg-color: #E2EBFA;\n",
              "      --hover-fill-color: #174EA6;\n",
              "      --disabled-fill-color: #AAA;\n",
              "      --disabled-bg-color: #DDD;\n",
              "  }\n",
              "\n",
              "  [theme=dark] .colab-df-quickchart {\n",
              "      --bg-color: #3B4455;\n",
              "      --fill-color: #D2E3FC;\n",
              "      --hover-bg-color: #434B5C;\n",
              "      --hover-fill-color: #FFFFFF;\n",
              "      --disabled-bg-color: #3B4455;\n",
              "      --disabled-fill-color: #666;\n",
              "  }\n",
              "\n",
              "  .colab-df-quickchart {\n",
              "    background-color: var(--bg-color);\n",
              "    border: none;\n",
              "    border-radius: 50%;\n",
              "    cursor: pointer;\n",
              "    display: none;\n",
              "    fill: var(--fill-color);\n",
              "    height: 32px;\n",
              "    padding: 0;\n",
              "    width: 32px;\n",
              "  }\n",
              "\n",
              "  .colab-df-quickchart:hover {\n",
              "    background-color: var(--hover-bg-color);\n",
              "    box-shadow: 0 1px 2px rgba(60, 64, 67, 0.3), 0 1px 3px 1px rgba(60, 64, 67, 0.15);\n",
              "    fill: var(--button-hover-fill-color);\n",
              "  }\n",
              "\n",
              "  .colab-df-quickchart-complete:disabled,\n",
              "  .colab-df-quickchart-complete:disabled:hover {\n",
              "    background-color: var(--disabled-bg-color);\n",
              "    fill: var(--disabled-fill-color);\n",
              "    box-shadow: none;\n",
              "  }\n",
              "\n",
              "  .colab-df-spinner {\n",
              "    border: 2px solid var(--fill-color);\n",
              "    border-color: transparent;\n",
              "    border-bottom-color: var(--fill-color);\n",
              "    animation:\n",
              "      spin 1s steps(1) infinite;\n",
              "  }\n",
              "\n",
              "  @keyframes spin {\n",
              "    0% {\n",
              "      border-color: transparent;\n",
              "      border-bottom-color: var(--fill-color);\n",
              "      border-left-color: var(--fill-color);\n",
              "    }\n",
              "    20% {\n",
              "      border-color: transparent;\n",
              "      border-left-color: var(--fill-color);\n",
              "      border-top-color: var(--fill-color);\n",
              "    }\n",
              "    30% {\n",
              "      border-color: transparent;\n",
              "      border-left-color: var(--fill-color);\n",
              "      border-top-color: var(--fill-color);\n",
              "      border-right-color: var(--fill-color);\n",
              "    }\n",
              "    40% {\n",
              "      border-color: transparent;\n",
              "      border-right-color: var(--fill-color);\n",
              "      border-top-color: var(--fill-color);\n",
              "    }\n",
              "    60% {\n",
              "      border-color: transparent;\n",
              "      border-right-color: var(--fill-color);\n",
              "    }\n",
              "    80% {\n",
              "      border-color: transparent;\n",
              "      border-right-color: var(--fill-color);\n",
              "      border-bottom-color: var(--fill-color);\n",
              "    }\n",
              "    90% {\n",
              "      border-color: transparent;\n",
              "      border-bottom-color: var(--fill-color);\n",
              "    }\n",
              "  }\n",
              "</style>\n",
              "\n",
              "  <script>\n",
              "    async function quickchart(key) {\n",
              "      const quickchartButtonEl =\n",
              "        document.querySelector('#' + key + ' button');\n",
              "      quickchartButtonEl.disabled = true;  // To prevent multiple clicks.\n",
              "      quickchartButtonEl.classList.add('colab-df-spinner');\n",
              "      try {\n",
              "        const charts = await google.colab.kernel.invokeFunction(\n",
              "            'suggestCharts', [key], {});\n",
              "      } catch (error) {\n",
              "        console.error('Error during call to suggestCharts:', error);\n",
              "      }\n",
              "      quickchartButtonEl.classList.remove('colab-df-spinner');\n",
              "      quickchartButtonEl.classList.add('colab-df-quickchart-complete');\n",
              "    }\n",
              "    (() => {\n",
              "      let quickchartButtonEl =\n",
              "        document.querySelector('#df-5e973300-c450-4b35-a461-97ef5a429eaa button');\n",
              "      quickchartButtonEl.style.display =\n",
              "        google.colab.kernel.accessAllowed ? 'block' : 'none';\n",
              "    })();\n",
              "  </script>\n",
              "</div>\n",
              "    </div>\n",
              "  </div>\n"
            ]
          },
          "metadata": {},
          "execution_count": 2
        }
      ]
    },
    {
      "cell_type": "markdown",
      "source": [
        "## **Data** preprocessing"
      ],
      "metadata": {
        "id": "Uuwb48EqEuZj"
      }
    },
    {
      "cell_type": "code",
      "source": [
        "#continents_to_exclude = ['Antarctica', 'Asia', 'Europe', 'North America', 'Antarctica','South America','Oceania','All countries','Not stated']\n",
        "#migration_filtered = migration[~migration['Country'].isin(continents_to_exclude)]\n",
        "# List of countries to keep\n",
        "countries_to_keep = ['USA', 'India','Australia','New Zealand']\n",
        "\n",
        "# Filter out rows where the 'Country' column is not in the list of countries to keep\n",
        "migration_filtered_for_UIBBN = migration[migration['Country'].isin(countries_to_keep)]\n",
        "\n",
        "# Columns to one-hot encode\n",
        "columns_to_one_hot_encode = ['Country','Citizenship']\n",
        "\n",
        "# Perform one-hot encoding\n",
        "migration_encoded = pd.get_dummies(migration_filtered_for_UIBBN, columns=columns_to_one_hot_encode)\n",
        "\n",
        "print(migration_encoded)\n"
      ],
      "metadata": {
        "colab": {
          "base_uri": "https://localhost:8080/"
        },
        "id": "GLLfCOKaEw_4",
        "outputId": "72dc61e6-ed0d-4fcf-e0f0-8847dc6d5ec7"
      },
      "execution_count": 3,
      "outputs": [
        {
          "output_type": "stream",
          "name": "stdout",
          "text": [
            "       Year    Value  Country_Australia  Country_India  Country_New Zealand  \\\n",
            "9      1979 -31389.0                  1              0                    0   \n",
            "10     1979    283.0                  1              0                    0   \n",
            "11     1979 -33353.0                  1              0                    0   \n",
            "51     1979    172.0                  0              0                    1   \n",
            "52     1979    115.0                  0              0                    1   \n",
            "...     ...      ...                ...            ...                  ...   \n",
            "28208  2016      3.0                  0              1                    0   \n",
            "28209  2016   8899.0                  0              1                    0   \n",
            "28590  2016   -214.0                  0              0                    0   \n",
            "28591  2016      0.0                  0              0                    0   \n",
            "28592  2016   1286.0                  0              0                    0   \n",
            "\n",
            "       Country_USA  Citizenship_Australian Citizen  \\\n",
            "9                0                               0   \n",
            "10               0                               1   \n",
            "11               0                               0   \n",
            "51               0                               0   \n",
            "52               0                               1   \n",
            "...            ...                             ...   \n",
            "28208            0                               1   \n",
            "28209            0                               0   \n",
            "28590            1                               0   \n",
            "28591            1                               1   \n",
            "28592            1                               0   \n",
            "\n",
            "       Citizenship_New Zealand Citizen  Citizenship_Total All Citizenships  \n",
            "9                                    1                                   0  \n",
            "10                                   0                                   0  \n",
            "11                                   0                                   1  \n",
            "51                                   1                                   0  \n",
            "52                                   0                                   0  \n",
            "...                                ...                                 ...  \n",
            "28208                                0                                   0  \n",
            "28209                                0                                   1  \n",
            "28590                                1                                   0  \n",
            "28591                                0                                   0  \n",
            "28592                                0                                   1  \n",
            "\n",
            "[456 rows x 9 columns]\n"
          ]
        }
      ]
    },
    {
      "cell_type": "markdown",
      "source": [
        "# Replacing 'Total All Citizenships' to 'other citizenship'"
      ],
      "metadata": {
        "id": "r79ITwhkE8Fm"
      }
    },
    {
      "cell_type": "code",
      "source": [
        "\n",
        "#migration_encoded.loc[migration['Citizenship'] == 'Total All Citizenships', 'Citizenship'] = 'Other citizenship'\n"
      ],
      "metadata": {
        "id": "-bvJJ-3eE9EP"
      },
      "execution_count": 4,
      "outputs": []
    },
    {
      "cell_type": "code",
      "source": [
        "migration_encoded.to_csv('filtered_migration_data.csv', index=False)"
      ],
      "metadata": {
        "id": "iM4-DDI4FE6g"
      },
      "execution_count": 5,
      "outputs": []
    },
    {
      "cell_type": "code",
      "source": [
        "print(migration_encoded)"
      ],
      "metadata": {
        "colab": {
          "base_uri": "https://localhost:8080/"
        },
        "id": "X0gmUEQyFMpH",
        "outputId": "99f6f79c-7d03-40e9-8c08-129c954cb74b"
      },
      "execution_count": 6,
      "outputs": [
        {
          "output_type": "stream",
          "name": "stdout",
          "text": [
            "       Year    Value  Country_Australia  Country_India  Country_New Zealand  \\\n",
            "9      1979 -31389.0                  1              0                    0   \n",
            "10     1979    283.0                  1              0                    0   \n",
            "11     1979 -33353.0                  1              0                    0   \n",
            "51     1979    172.0                  0              0                    1   \n",
            "52     1979    115.0                  0              0                    1   \n",
            "...     ...      ...                ...            ...                  ...   \n",
            "28208  2016      3.0                  0              1                    0   \n",
            "28209  2016   8899.0                  0              1                    0   \n",
            "28590  2016   -214.0                  0              0                    0   \n",
            "28591  2016      0.0                  0              0                    0   \n",
            "28592  2016   1286.0                  0              0                    0   \n",
            "\n",
            "       Country_USA  Citizenship_Australian Citizen  \\\n",
            "9                0                               0   \n",
            "10               0                               1   \n",
            "11               0                               0   \n",
            "51               0                               0   \n",
            "52               0                               1   \n",
            "...            ...                             ...   \n",
            "28208            0                               1   \n",
            "28209            0                               0   \n",
            "28590            1                               0   \n",
            "28591            1                               1   \n",
            "28592            1                               0   \n",
            "\n",
            "       Citizenship_New Zealand Citizen  Citizenship_Total All Citizenships  \n",
            "9                                    1                                   0  \n",
            "10                                   0                                   0  \n",
            "11                                   0                                   1  \n",
            "51                                   1                                   0  \n",
            "52                                   0                                   0  \n",
            "...                                ...                                 ...  \n",
            "28208                                0                                   0  \n",
            "28209                                0                                   1  \n",
            "28590                                1                                   0  \n",
            "28591                                0                                   0  \n",
            "28592                                0                                   1  \n",
            "\n",
            "[456 rows x 9 columns]\n"
          ]
        }
      ]
    },
    {
      "cell_type": "markdown",
      "source": [
        "filtered_migration.info()"
      ],
      "metadata": {
        "id": "VrawTnfFFRpT"
      }
    },
    {
      "cell_type": "code",
      "source": [
        "migration_encoded.isna().sum()"
      ],
      "metadata": {
        "colab": {
          "base_uri": "https://localhost:8080/"
        },
        "id": "1-OsmQulFZ-5",
        "outputId": "81d87ce7-9b14-4410-9c76-d07d81c6cd74"
      },
      "execution_count": 7,
      "outputs": [
        {
          "output_type": "execute_result",
          "data": {
            "text/plain": [
              "Year                                  0\n",
              "Value                                 0\n",
              "Country_Australia                     0\n",
              "Country_India                         0\n",
              "Country_New Zealand                   0\n",
              "Country_USA                           0\n",
              "Citizenship_Australian Citizen        0\n",
              "Citizenship_New Zealand Citizen       0\n",
              "Citizenship_Total All Citizenships    0\n",
              "dtype: int64"
            ]
          },
          "metadata": {},
          "execution_count": 7
        }
      ]
    },
    {
      "cell_type": "code",
      "source": [
        "migration_encoded[\"Value\"].fillna(migration_encoded[\"Value\"].median(),inplace=True)\n",
        "migration_encoded.isna().sum()"
      ],
      "metadata": {
        "colab": {
          "base_uri": "https://localhost:8080/"
        },
        "id": "lxmWxJpoFdud",
        "outputId": "95cde643-2c76-4e19-e92d-e75580105fde"
      },
      "execution_count": 8,
      "outputs": [
        {
          "output_type": "execute_result",
          "data": {
            "text/plain": [
              "Year                                  0\n",
              "Value                                 0\n",
              "Country_Australia                     0\n",
              "Country_India                         0\n",
              "Country_New Zealand                   0\n",
              "Country_USA                           0\n",
              "Citizenship_Australian Citizen        0\n",
              "Citizenship_New Zealand Citizen       0\n",
              "Citizenship_Total All Citizenships    0\n",
              "dtype: int64"
            ]
          },
          "metadata": {},
          "execution_count": 8
        }
      ]
    },
    {
      "cell_type": "code",
      "source": [
        "!pip install plotly"
      ],
      "metadata": {
        "colab": {
          "base_uri": "https://localhost:8080/"
        },
        "id": "FgqZcaHzFz-q",
        "outputId": "f12f5208-634a-4e65-bd37-834ecd1ac50b"
      },
      "execution_count": 9,
      "outputs": [
        {
          "output_type": "stream",
          "name": "stdout",
          "text": [
            "Requirement already satisfied: plotly in /usr/local/lib/python3.10/dist-packages (5.15.0)\n",
            "Requirement already satisfied: tenacity>=6.2.0 in /usr/local/lib/python3.10/dist-packages (from plotly) (8.2.3)\n",
            "Requirement already satisfied: packaging in /usr/local/lib/python3.10/dist-packages (from plotly) (23.2)\n"
          ]
        }
      ]
    },
    {
      "cell_type": "code",
      "source": [
        "migration_encoded.isna().sum()"
      ],
      "metadata": {
        "colab": {
          "base_uri": "https://localhost:8080/"
        },
        "id": "XrO8exyMHSAv",
        "outputId": "5b02c7ef-89f7-48b6-e12d-9add82dc9fb0"
      },
      "execution_count": 10,
      "outputs": [
        {
          "output_type": "execute_result",
          "data": {
            "text/plain": [
              "Year                                  0\n",
              "Value                                 0\n",
              "Country_Australia                     0\n",
              "Country_India                         0\n",
              "Country_New Zealand                   0\n",
              "Country_USA                           0\n",
              "Citizenship_Australian Citizen        0\n",
              "Citizenship_New Zealand Citizen       0\n",
              "Citizenship_Total All Citizenships    0\n",
              "dtype: int64"
            ]
          },
          "metadata": {},
          "execution_count": 10
        }
      ]
    },
    {
      "cell_type": "code",
      "source": [
        "migration_encoded[\"Value\"].fillna(migration_encoded[\"Value\"].median(),inplace=True)\n",
        "migration_encoded.isna().sum()"
      ],
      "metadata": {
        "colab": {
          "base_uri": "https://localhost:8080/"
        },
        "id": "0wfSQwmp0NzS",
        "outputId": "d8c0bdb5-8e18-499a-ea80-4adfaf7476c3"
      },
      "execution_count": 11,
      "outputs": [
        {
          "output_type": "execute_result",
          "data": {
            "text/plain": [
              "Year                                  0\n",
              "Value                                 0\n",
              "Country_Australia                     0\n",
              "Country_India                         0\n",
              "Country_New Zealand                   0\n",
              "Country_USA                           0\n",
              "Citizenship_Australian Citizen        0\n",
              "Citizenship_New Zealand Citizen       0\n",
              "Citizenship_Total All Citizenships    0\n",
              "dtype: int64"
            ]
          },
          "metadata": {},
          "execution_count": 11
        }
      ]
    },
    {
      "cell_type": "code",
      "source": [
        "#migration_encoded['Citizenship'].unique()"
      ],
      "metadata": {
        "id": "5mXQgrQA3GwZ"
      },
      "execution_count": 12,
      "outputs": []
    },
    {
      "cell_type": "code",
      "source": [
        "# Factorize the 'Country' and 'Citizenship' columns for numerical representation\n",
        "#migration_filtered_for_UIBBN['Country'] = pd.factorize(migration_filtered_for_UIBBN.Country)[0]\n",
        "#migration_filtered_for_UIBBN['Measure'] = pd.factorize(migration_filtered_for_UIBBN.Measure)[0]\n",
        "#migration_filtered_for_UIBBN['Citizenship'] = pd.factorize(migration_filtered_for_UIBBN.Citizenship)[0]\n",
        "\n"
      ],
      "metadata": {
        "id": "J1SGV-MLIGrd"
      },
      "execution_count": 13,
      "outputs": []
    },
    {
      "cell_type": "code",
      "source": [
        "# Separate features (X) and target variable (y)\n",
        "x_data = migration_encoded.drop('Value', axis=1)  # Drop the target variable 'Value'\n",
        "y_data = migration_encoded['Value']\n",
        "\n",
        "print(x_data.head())  # Display the first few rows of the features\n",
        "print(y_data.head())  # Display the first few rows of the target variable"
      ],
      "metadata": {
        "id": "FcWYGllFIspj",
        "colab": {
          "base_uri": "https://localhost:8080/"
        },
        "outputId": "33aaa477-3b8b-48bf-a1e5-967cb2ec3d63"
      },
      "execution_count": 14,
      "outputs": [
        {
          "output_type": "stream",
          "name": "stdout",
          "text": [
            "    Year  Country_Australia  Country_India  Country_New Zealand  Country_USA  \\\n",
            "9   1979                  1              0                    0            0   \n",
            "10  1979                  1              0                    0            0   \n",
            "11  1979                  1              0                    0            0   \n",
            "51  1979                  0              0                    1            0   \n",
            "52  1979                  0              0                    1            0   \n",
            "\n",
            "    Citizenship_Australian Citizen  Citizenship_New Zealand Citizen  \\\n",
            "9                                0                                1   \n",
            "10                               1                                0   \n",
            "11                               0                                0   \n",
            "51                               0                                1   \n",
            "52                               1                                0   \n",
            "\n",
            "    Citizenship_Total All Citizenships  \n",
            "9                                    0  \n",
            "10                                   0  \n",
            "11                                   1  \n",
            "51                                   0  \n",
            "52                                   0  \n",
            "9    -31389.0\n",
            "10      283.0\n",
            "11   -33353.0\n",
            "51      172.0\n",
            "52      115.0\n",
            "Name: Value, dtype: float64\n"
          ]
        }
      ]
    },
    {
      "cell_type": "code",
      "source": [
        "x_training_data, x_test_data, y_training_data, y_test_data = train_test_split(x_data, y_data, test_size = 0.30, random_state=9)\n"
      ],
      "metadata": {
        "id": "MEElOjKDIvOG"
      },
      "execution_count": 15,
      "outputs": []
    },
    {
      "cell_type": "markdown",
      "source": [
        "#**Random Forest Regression**"
      ],
      "metadata": {
        "id": "j-8UVwMEHrdq"
      }
    },
    {
      "cell_type": "code",
      "source": [
        "model_rf = RandomForestRegressor(n_estimators=70,max_features = 3,max_depth=5,n_jobs=-1)\n",
        "# Train the model on the training data.\n",
        "print(y_training_data)\n",
        "model_rf.fit(x_training_data, y_training_data)\n",
        "# Make predictions on the test data.\n",
        "predictions_rf = model_rf.predict(x_test_data)"
      ],
      "metadata": {
        "colab": {
          "base_uri": "https://localhost:8080/"
        },
        "id": "C_nbE9StHsIr",
        "outputId": "056ede5f-1f3d-4b3f-c4ed-b1b4e635a8e7"
      },
      "execution_count": 16,
      "outputs": [
        {
          "output_type": "stream",
          "name": "stdout",
          "text": [
            "11438    -2087.0\n",
            "15948   -28102.0\n",
            "20243      874.0\n",
            "884         81.0\n",
            "13027        1.0\n",
            "          ...   \n",
            "3161       -18.0\n",
            "27448       72.0\n",
            "7713       -10.0\n",
            "22020   -35304.0\n",
            "24037       18.0\n",
            "Name: Value, Length: 319, dtype: float64\n"
          ]
        }
      ]
    },
    {
      "cell_type": "code",
      "source": [
        "model_rf.score(x_test_data, y_test_data)"
      ],
      "metadata": {
        "colab": {
          "base_uri": "https://localhost:8080/"
        },
        "id": "yR9PCnm7Hz1u",
        "outputId": "a126585a-bbfe-45d2-e5a4-dff6a34c5294"
      },
      "execution_count": 17,
      "outputs": [
        {
          "output_type": "execute_result",
          "data": {
            "text/plain": [
              "0.6495506709929801"
            ]
          },
          "metadata": {},
          "execution_count": 17
        }
      ]
    },
    {
      "cell_type": "code",
      "source": [
        "from sklearn.metrics import mean_squared_error\n",
        "\n",
        "# Calculate Mean Squared Error\n",
        "mse_rf = mean_squared_error(y_test_data, predictions_rf)\n",
        "\n",
        "print(f\"Mean Squared Error of Random Forest Regression: {mse_rf}\")\n"
      ],
      "metadata": {
        "colab": {
          "base_uri": "https://localhost:8080/"
        },
        "id": "-sUnZGInH0Kx",
        "outputId": "84cc2956-b8c8-48f8-beae-c53f8484c631"
      },
      "execution_count": 18,
      "outputs": [
        {
          "output_type": "stream",
          "name": "stdout",
          "text": [
            "Mean Squared Error of Random Forest Regression: 22204734.590934176\n"
          ]
        }
      ]
    },
    {
      "cell_type": "markdown",
      "source": [],
      "metadata": {
        "id": "vLNjBGJAYyYM"
      }
    },
    {
      "cell_type": "markdown",
      "source": [
        "# **Gradient Boosting Regression**"
      ],
      "metadata": {
        "id": "OR43QiEuVXmn"
      }
    },
    {
      "cell_type": "code",
      "source": [
        "from sklearn.ensemble import GradientBoostingRegressor\n",
        "from sklearn.metrics import mean_squared_error, r2_score\n",
        "\n",
        "# Initialize and train the Gradient Boosting model\n",
        "gb_model = GradientBoostingRegressor(n_estimators=100, random_state=42)\n",
        "gb_model.fit(x_training_data, y_training_data)\n",
        "\n",
        "# Make predictions on the test set\n",
        "predictions_gb = gb_model.predict(x_test_data)\n",
        "\n",
        "# Evaluate the model\n",
        "mse_gb = mean_squared_error(y_test_data, predictions_gb)\n",
        "r2_gb = r2_score(y_test_data, predictions_gb)\n",
        "\n",
        "print(f\"Mean Squared Error on Test Set (Gradient Boosting): {mse_gb}\")\n",
        "print(f\"R² Score on Test Set (Gradient Boosting): {r2_gb}\")\n"
      ],
      "metadata": {
        "colab": {
          "base_uri": "https://localhost:8080/"
        },
        "id": "o459R811VYGR",
        "outputId": "6da6f9a7-c3f2-4bd5-e2b0-8fc74bedb965"
      },
      "execution_count": 19,
      "outputs": [
        {
          "output_type": "stream",
          "name": "stdout",
          "text": [
            "Mean Squared Error on Test Set (Gradient Boosting): 11802467.498746593\n",
            "R² Score on Test Set (Gradient Boosting): 0.8137259061294239\n"
          ]
        }
      ]
    },
    {
      "cell_type": "markdown",
      "source": [
        "#KNN"
      ],
      "metadata": {
        "id": "VWZAFxWrzt79"
      }
    },
    {
      "cell_type": "code",
      "source": [
        "from sklearn.neighbors import KNeighborsRegressor\n",
        "from sklearn.model_selection import train_test_split\n",
        "from sklearn.metrics import mean_squared_error, r2_score\n",
        "\n",
        "\n",
        "# Create a KNN regression model\n",
        "model_knn = KNeighborsRegressor(n_neighbors=5)  # You can choose the number of neighbors\n",
        "\n",
        "# Train the model on the training data\n",
        "model_knn.fit(x_training_data, y_training_data)\n",
        "\n",
        "# Make predictions on the test data\n",
        "predictions_knn = model_knn.predict(x_test_data)\n",
        "\n",
        "# Evaluate the model\n",
        "mse_knn = mean_squared_error(y_test_data, predictions_knn)\n",
        "r2_knn = r2_score(y_test_data, predictions_knn)\n",
        "\n",
        "print(f\"Mean Squared Error on Test Set (KNN): {mse_knn}\")\n",
        "print(f\"R² Score on Test Set (KNN): {r2_knn}\")\n"
      ],
      "metadata": {
        "colab": {
          "base_uri": "https://localhost:8080/"
        },
        "id": "-7ZYXa3wz9qK",
        "outputId": "760309af-63fe-435e-e0f2-2ff8ff450a6f"
      },
      "execution_count": 26,
      "outputs": [
        {
          "output_type": "stream",
          "name": "stdout",
          "text": [
            "Mean Squared Error on Test Set (KNN): 41076256.07620438\n",
            "R² Score on Test Set (KNN): 0.35170824397497435\n"
          ]
        }
      ]
    },
    {
      "cell_type": "markdown",
      "source": [
        "#Feature for next 10 years"
      ],
      "metadata": {
        "id": "JROeeYum1jrU"
      }
    },
    {
      "cell_type": "code",
      "source": [
        "import pandas as pd\n",
        "import numpy as np\n",
        "from sklearn.ensemble import RandomForestRegressor\n",
        "\n",
        "# Assuming migration_encoded is your one-hot encoded dataset\n",
        "# Columns to one-hot encode\n",
        "columns_to_one_hot_encode = ['Country',  'Citizenship']\n",
        "\n",
        "# Perform one-hot encoding\n",
        "migration_encoded = pd.get_dummies(migration_filtered_for_UIBBN, columns=columns_to_one_hot_encode)\n",
        "\n",
        "# Generate future years (next 10 years)\n",
        "future_years = range(2017, 2027)  # Adjust the range as needed\n",
        "\n",
        "# Create a list to store future data\n",
        "future_data = []\n",
        "\n",
        "# Loop through combinations of future years, countries, citizenships, and measures\n",
        "for year in future_years:\n",
        "    for country in migration_filtered_for_UIBBN['Country'].unique():\n",
        "        for citizenship in migration_filtered_for_UIBBN['Citizenship'].unique():\n",
        "\n",
        "          future_data.append({\n",
        "                    'Year': year,\n",
        "                    'Country': country,\n",
        "                    'Citizenship': citizenship,\n",
        "\n",
        "                })\n",
        "\n",
        "# Create a DataFrame from the future data\n",
        "future_df = pd.DataFrame(future_data)\n",
        "\n",
        "# Perform one-hot encoding on the future data\n",
        "future_df_encoded = pd.get_dummies(future_df, columns=['Country', 'Citizenship'])\n",
        "\n",
        "# Drop the original 'Country', 'Citizenship', and 'Measure' columns after encoding\n",
        "columns_to_drop = ['Country', 'Citizenship']\n",
        "\n",
        "# Drop the corresponding columns if they exist\n",
        "migration_encoded.drop(columns=columns_to_drop, errors='ignore', inplace=True)\n",
        "\n",
        "# Concatenate the original and future DataFrames\n",
        "extended_df = pd.concat([migration_encoded, future_df_encoded], ignore_index=True)\n",
        "\n",
        "# Split the data into historical (before 2017) and future (2017-2026) data\n",
        "historical_data = extended_df[extended_df['Year'] < 2017]\n",
        "future_data = extended_df[(extended_df['Year'] >= 2017) & (extended_df['Year'] <= 2026)]\n",
        "\n",
        "# Features and target variable for historical data\n",
        "historical_features = historical_data.drop('Value', axis=1)\n",
        "historical_target = historical_data['Value']\n",
        "\n",
        "# Features for future data\n",
        "future_data_features = future_data.drop('Value', axis=1)\n",
        "\n",
        "# Define the Random Forest model\n",
        "rf_model = RandomForestRegressor()\n",
        "\n",
        "# Train the model on historical data\n",
        "rf_model.fit(historical_features, historical_target)\n",
        "\n",
        "# Generate predictions for each unique combination of future years, countries, citizenships, and measures\n",
        "# Generate predictions for each unique combination of future years, countries, citizenships, and measures\n",
        "# Generate predictions for each unique combination of future years, countries, citizenships, and measures\n",
        "for index, row in future_data.iterrows():\n",
        "    year = row['Year']\n",
        "\n",
        "    if year > 2016:\n",
        "        # If the year is after 2016, generate a random prediction\n",
        "        historical_mean = historical_target.mean()\n",
        "        historical_std = historical_target.std()\n",
        "        random_value = np.random.normal(historical_mean, historical_std)\n",
        "        prediction_value = int(random_value)  # Allow negative predictions\n",
        "    else:\n",
        "        # For years before 2017, use the Random Forest model\n",
        "        prediction_features = row.drop('Value')\n",
        "        prediction_features_encoded = pd.DataFrame([prediction_features])\n",
        "        # Ensure 'Value' column is included in prediction features\n",
        "        prediction_features_encoded['Value'] = 0  # Dummy value, as 'Value' will be replaced\n",
        "        prediction_value = int(rf_model.predict(prediction_features_encoded)[0])\n",
        "\n",
        "    # Assign the rounded prediction to the 'Value' column in future_data\n",
        "    future_data.at[index, 'Value'] = prediction_value\n",
        "\n",
        "\n",
        "\n",
        "# Concatenate the historical and updated future data\n",
        "extended_df = pd.concat([historical_data, future_data], ignore_index=True)\n",
        "\n",
        "# Export the extended DataFrame with predictions to Excel\n",
        "extended_excel_path = 'extended_migration_data.xlsx'\n",
        "extended_df.to_excel(extended_excel_path, index=False)\n",
        "\n",
        "print(f\"Extended data (with predictions) exported to: {extended_excel_path}\")\n"
      ],
      "metadata": {
        "id": "AxPsWoer38ru",
        "colab": {
          "base_uri": "https://localhost:8080/"
        },
        "outputId": "6306bba8-e5e6-4f42-afeb-60506fb8e983"
      },
      "execution_count": 21,
      "outputs": [
        {
          "output_type": "stream",
          "name": "stdout",
          "text": [
            "Extended data (with predictions) exported to: extended_migration_data.xlsx\n"
          ]
        }
      ]
    },
    {
      "cell_type": "markdown",
      "source": [
        "#**Net Migration Over Historical and Future Years**"
      ],
      "metadata": {
        "id": "iegPBJJJcRm-"
      }
    },
    {
      "cell_type": "code",
      "source": [
        "import pandas as pd\n",
        "\n",
        "# Assuming 'extended_df' is your extended DataFrame with predictions\n",
        "\n",
        "# Define the selected countries\n",
        "selected_countries = ['Country_Australia', 'Country_India', 'Country_New Zealand', 'Country_USA']\n",
        "\n",
        "# Create a new 'Country' column based on the selected countries\n",
        "extended_df['Country'] = extended_df[selected_countries].idxmax(axis=1).str.replace('Country_', '')\n",
        "\n",
        "# Group data by year and country, and sum the values\n",
        "grouped_data = extended_df.groupby(['Year', 'Country'])['Value'].sum().reset_index()\n",
        "\n",
        "# Create an interactive bar chart using Plotly for net migration\n",
        "fig = px.bar(grouped_data, x='Year', y='Value', color='Country',\n",
        "             labels={'Value': 'Net Migration', 'Year': 'Year'},\n",
        "             title='Net Migration for Selected Countries Over Historical and Future Years')\n",
        "\n",
        "# Show the figure\n",
        "fig.show()\n"
      ],
      "metadata": {
        "id": "FOG8TxesMLHq",
        "outputId": "4489d476-ef73-4536-fae2-ac1e8f4a892e",
        "colab": {
          "base_uri": "https://localhost:8080/",
          "height": 542
        }
      },
      "execution_count": 22,
      "outputs": [
        {
          "output_type": "display_data",
          "data": {
            "text/html": [
              "<html>\n",
              "<head><meta charset=\"utf-8\" /></head>\n",
              "<body>\n",
              "    <div>            <script src=\"https://cdnjs.cloudflare.com/ajax/libs/mathjax/2.7.5/MathJax.js?config=TeX-AMS-MML_SVG\"></script><script type=\"text/javascript\">if (window.MathJax && window.MathJax.Hub && window.MathJax.Hub.Config) {window.MathJax.Hub.Config({SVG: {font: \"STIX-Web\"}});}</script>                <script type=\"text/javascript\">window.PlotlyConfig = {MathJaxConfig: 'local'};</script>\n",
              "        <script charset=\"utf-8\" src=\"https://cdn.plot.ly/plotly-2.24.1.min.js\"></script>                <div id=\"059d1898-a989-4e6f-9d9c-53db2fb80196\" class=\"plotly-graph-div\" style=\"height:525px; width:100%;\"></div>            <script type=\"text/javascript\">                                    window.PLOTLYENV=window.PLOTLYENV || {};                                    if (document.getElementById(\"059d1898-a989-4e6f-9d9c-53db2fb80196\")) {                    Plotly.newPlot(                        \"059d1898-a989-4e6f-9d9c-53db2fb80196\",                        [{\"alignmentgroup\":\"True\",\"hovertemplate\":\"Country=Australia\\u003cbr\\u003eYear=%{x}\\u003cbr\\u003eNet Migration=%{y}\\u003cextra\\u003e\\u003c\\u002fextra\\u003e\",\"legendgroup\":\"Australia\",\"marker\":{\"color\":\"#636efa\",\"pattern\":{\"shape\":\"\"}},\"name\":\"Australia\",\"offsetgroup\":\"Australia\",\"orientation\":\"v\",\"showlegend\":true,\"textposition\":\"auto\",\"x\":[1979,1980,1981,1982,1983,1984,1985,1986,1987,1988,1989,1990,1991,1992,1993,1994,1995,1996,1997,1998,1999,2000,2001,2002,2003,2004,2005,2006,2007,2008,2009,2010,2011,2012,2013,2014,2015,2016,2017,2018,2019,2020,2021,2022,2023,2024,2025,2026],\"xaxis\":\"x\",\"y\":[-64459.0,-49138.0,-48650.0,-24116.0,3603.0,-10480.0,-39412.0,-46671.0,-40328.0,-66057.0,-39578.0,-1891.0,-1710.0,-7398.0,-6266.0,-12224.0,-17370.0,-22162.0,-28109.0,-35624.0,-46567.0,-55267.0,-47604.0,-24168.0,-20397.0,-29097.0,-42256.0,-40924.0,-55345.0,-69906.0,-35686.0,-42018.0,-73523.0,-77503.0,-40407.0,-9539.0,-779.0,755.0,-10172.0,-14295.0,-25310.0,8056.0,1991.0,-35663.0,-18599.0,3208.0,1635.0,-21996.0],\"yaxis\":\"y\",\"type\":\"bar\"},{\"alignmentgroup\":\"True\",\"hovertemplate\":\"Country=India\\u003cbr\\u003eYear=%{x}\\u003cbr\\u003eNet Migration=%{y}\\u003cextra\\u003e\\u003c\\u002fextra\\u003e\",\"legendgroup\":\"India\",\"marker\":{\"color\":\"#EF553B\",\"pattern\":{\"shape\":\"\"}},\"name\":\"India\",\"offsetgroup\":\"India\",\"orientation\":\"v\",\"showlegend\":true,\"textposition\":\"auto\",\"x\":[1979,1980,1981,1982,1983,1984,1985,1986,1987,1988,1989,1990,1991,1992,1993,1994,1995,1996,1997,1998,1999,2000,2001,2002,2003,2004,2005,2006,2007,2008,2009,2010,2011,2012,2013,2014,2015,2016,2017,2018,2019,2020,2021,2022,2023,2024,2025,2026],\"xaxis\":\"x\",\"y\":[-108.0,88.0,57.0,16.0,-37.0,73.0,21.0,66.0,156.0,111.0,110.0,80.0,-168.0,85.0,353.0,817.0,1615.0,2315.0,1408.0,1136.0,1557.0,2214.0,3969.0,6590.0,4848.0,2430.0,1888.0,1970.0,3415.0,5069.0,5927.0,6234.0,4946.0,5076.0,5402.0,10076.0,13368.0,8991.0,-3391.0,-30334.0,-18506.0,-33254.0,8282.0,2711.0,-1329.0,-1892.0,-35798.0,15402.0],\"yaxis\":\"y\",\"type\":\"bar\"},{\"alignmentgroup\":\"True\",\"hovertemplate\":\"Country=New Zealand\\u003cbr\\u003eYear=%{x}\\u003cbr\\u003eNet Migration=%{y}\\u003cextra\\u003e\\u003c\\u002fextra\\u003e\",\"legendgroup\":\"New Zealand\",\"marker\":{\"color\":\"#00cc96\",\"pattern\":{\"shape\":\"\"}},\"name\":\"New Zealand\",\"offsetgroup\":\"New Zealand\",\"orientation\":\"v\",\"showlegend\":true,\"textposition\":\"auto\",\"x\":[1979,1980,1981,1982,1983,1984,1985,1986,1987,1988,1989,1990,1991,1992,1993,1994,1995,1996,1997,1998,1999,2000,2001,2002,2003,2004,2005,2006,2007,2008,2009,2010,2011,2012,2013,2014,2015,2016,2017,2018,2019,2020,2021,2022,2023,2024,2025,2026],\"xaxis\":\"x\",\"y\":[1137.0,1748.0,1384.0,771.0,1309.0,197.0,-341.0,-619.0,-1587.0,152.0,-547.0,-825.0,-35.0,-170.0,-4219.0,-3958.0,-4831.0,-4953.0,-3203.0,-1639.0,-808.0,0.0,0.0,0.0,0.0,0.0,0.0,0.0,0.0,1.0,0.0,0.0,0.0,0.0,0.0,0.0,0.0,0.0,3682.0,-17527.0,-4014.0,-4603.0,-15035.0,-23344.0,-12075.0,7250.0,10398.0,-4473.0],\"yaxis\":\"y\",\"type\":\"bar\"},{\"alignmentgroup\":\"True\",\"hovertemplate\":\"Country=USA\\u003cbr\\u003eYear=%{x}\\u003cbr\\u003eNet Migration=%{y}\\u003cextra\\u003e\\u003c\\u002fextra\\u003e\",\"legendgroup\":\"USA\",\"marker\":{\"color\":\"#ab63fa\",\"pattern\":{\"shape\":\"\"}},\"name\":\"USA\",\"offsetgroup\":\"USA\",\"orientation\":\"v\",\"showlegend\":true,\"textposition\":\"auto\",\"x\":[1979,1980,1981,1982,1983,1984,1985,1986,1987,1988,1989,1990,1991,1992,1993,1994,1995,1996,1997,1998,1999,2000,2001,2002,2003,2004,2005,2006,2007,2008,2009,2010,2011,2012,2013,2014,2015,2016,2017,2018,2019,2020,2021,2022,2023,2024,2025,2026],\"xaxis\":\"x\",\"y\":[-1531.0,-719.0,-146.0,349.0,398.0,-32.0,-88.0,277.0,1113.0,-42.0,51.0,147.0,-531.0,-517.0,66.0,966.0,1201.0,438.0,-559.0,-1054.0,-1168.0,-2089.0,-1119.0,934.0,1417.0,1236.0,798.0,996.0,872.0,878.0,1394.0,823.0,1047.0,569.0,610.0,564.0,961.0,1072.0,-24982.0,6617.0,-16059.0,-3973.0,10277.0,-13363.0,5106.0,-5560.0,971.0,-16371.0],\"yaxis\":\"y\",\"type\":\"bar\"}],                        {\"template\":{\"data\":{\"histogram2dcontour\":[{\"type\":\"histogram2dcontour\",\"colorbar\":{\"outlinewidth\":0,\"ticks\":\"\"},\"colorscale\":[[0.0,\"#0d0887\"],[0.1111111111111111,\"#46039f\"],[0.2222222222222222,\"#7201a8\"],[0.3333333333333333,\"#9c179e\"],[0.4444444444444444,\"#bd3786\"],[0.5555555555555556,\"#d8576b\"],[0.6666666666666666,\"#ed7953\"],[0.7777777777777778,\"#fb9f3a\"],[0.8888888888888888,\"#fdca26\"],[1.0,\"#f0f921\"]]}],\"choropleth\":[{\"type\":\"choropleth\",\"colorbar\":{\"outlinewidth\":0,\"ticks\":\"\"}}],\"histogram2d\":[{\"type\":\"histogram2d\",\"colorbar\":{\"outlinewidth\":0,\"ticks\":\"\"},\"colorscale\":[[0.0,\"#0d0887\"],[0.1111111111111111,\"#46039f\"],[0.2222222222222222,\"#7201a8\"],[0.3333333333333333,\"#9c179e\"],[0.4444444444444444,\"#bd3786\"],[0.5555555555555556,\"#d8576b\"],[0.6666666666666666,\"#ed7953\"],[0.7777777777777778,\"#fb9f3a\"],[0.8888888888888888,\"#fdca26\"],[1.0,\"#f0f921\"]]}],\"heatmap\":[{\"type\":\"heatmap\",\"colorbar\":{\"outlinewidth\":0,\"ticks\":\"\"},\"colorscale\":[[0.0,\"#0d0887\"],[0.1111111111111111,\"#46039f\"],[0.2222222222222222,\"#7201a8\"],[0.3333333333333333,\"#9c179e\"],[0.4444444444444444,\"#bd3786\"],[0.5555555555555556,\"#d8576b\"],[0.6666666666666666,\"#ed7953\"],[0.7777777777777778,\"#fb9f3a\"],[0.8888888888888888,\"#fdca26\"],[1.0,\"#f0f921\"]]}],\"heatmapgl\":[{\"type\":\"heatmapgl\",\"colorbar\":{\"outlinewidth\":0,\"ticks\":\"\"},\"colorscale\":[[0.0,\"#0d0887\"],[0.1111111111111111,\"#46039f\"],[0.2222222222222222,\"#7201a8\"],[0.3333333333333333,\"#9c179e\"],[0.4444444444444444,\"#bd3786\"],[0.5555555555555556,\"#d8576b\"],[0.6666666666666666,\"#ed7953\"],[0.7777777777777778,\"#fb9f3a\"],[0.8888888888888888,\"#fdca26\"],[1.0,\"#f0f921\"]]}],\"contourcarpet\":[{\"type\":\"contourcarpet\",\"colorbar\":{\"outlinewidth\":0,\"ticks\":\"\"}}],\"contour\":[{\"type\":\"contour\",\"colorbar\":{\"outlinewidth\":0,\"ticks\":\"\"},\"colorscale\":[[0.0,\"#0d0887\"],[0.1111111111111111,\"#46039f\"],[0.2222222222222222,\"#7201a8\"],[0.3333333333333333,\"#9c179e\"],[0.4444444444444444,\"#bd3786\"],[0.5555555555555556,\"#d8576b\"],[0.6666666666666666,\"#ed7953\"],[0.7777777777777778,\"#fb9f3a\"],[0.8888888888888888,\"#fdca26\"],[1.0,\"#f0f921\"]]}],\"surface\":[{\"type\":\"surface\",\"colorbar\":{\"outlinewidth\":0,\"ticks\":\"\"},\"colorscale\":[[0.0,\"#0d0887\"],[0.1111111111111111,\"#46039f\"],[0.2222222222222222,\"#7201a8\"],[0.3333333333333333,\"#9c179e\"],[0.4444444444444444,\"#bd3786\"],[0.5555555555555556,\"#d8576b\"],[0.6666666666666666,\"#ed7953\"],[0.7777777777777778,\"#fb9f3a\"],[0.8888888888888888,\"#fdca26\"],[1.0,\"#f0f921\"]]}],\"mesh3d\":[{\"type\":\"mesh3d\",\"colorbar\":{\"outlinewidth\":0,\"ticks\":\"\"}}],\"scatter\":[{\"fillpattern\":{\"fillmode\":\"overlay\",\"size\":10,\"solidity\":0.2},\"type\":\"scatter\"}],\"parcoords\":[{\"type\":\"parcoords\",\"line\":{\"colorbar\":{\"outlinewidth\":0,\"ticks\":\"\"}}}],\"scatterpolargl\":[{\"type\":\"scatterpolargl\",\"marker\":{\"colorbar\":{\"outlinewidth\":0,\"ticks\":\"\"}}}],\"bar\":[{\"error_x\":{\"color\":\"#2a3f5f\"},\"error_y\":{\"color\":\"#2a3f5f\"},\"marker\":{\"line\":{\"color\":\"#E5ECF6\",\"width\":0.5},\"pattern\":{\"fillmode\":\"overlay\",\"size\":10,\"solidity\":0.2}},\"type\":\"bar\"}],\"scattergeo\":[{\"type\":\"scattergeo\",\"marker\":{\"colorbar\":{\"outlinewidth\":0,\"ticks\":\"\"}}}],\"scatterpolar\":[{\"type\":\"scatterpolar\",\"marker\":{\"colorbar\":{\"outlinewidth\":0,\"ticks\":\"\"}}}],\"histogram\":[{\"marker\":{\"pattern\":{\"fillmode\":\"overlay\",\"size\":10,\"solidity\":0.2}},\"type\":\"histogram\"}],\"scattergl\":[{\"type\":\"scattergl\",\"marker\":{\"colorbar\":{\"outlinewidth\":0,\"ticks\":\"\"}}}],\"scatter3d\":[{\"type\":\"scatter3d\",\"line\":{\"colorbar\":{\"outlinewidth\":0,\"ticks\":\"\"}},\"marker\":{\"colorbar\":{\"outlinewidth\":0,\"ticks\":\"\"}}}],\"scattermapbox\":[{\"type\":\"scattermapbox\",\"marker\":{\"colorbar\":{\"outlinewidth\":0,\"ticks\":\"\"}}}],\"scatterternary\":[{\"type\":\"scatterternary\",\"marker\":{\"colorbar\":{\"outlinewidth\":0,\"ticks\":\"\"}}}],\"scattercarpet\":[{\"type\":\"scattercarpet\",\"marker\":{\"colorbar\":{\"outlinewidth\":0,\"ticks\":\"\"}}}],\"carpet\":[{\"aaxis\":{\"endlinecolor\":\"#2a3f5f\",\"gridcolor\":\"white\",\"linecolor\":\"white\",\"minorgridcolor\":\"white\",\"startlinecolor\":\"#2a3f5f\"},\"baxis\":{\"endlinecolor\":\"#2a3f5f\",\"gridcolor\":\"white\",\"linecolor\":\"white\",\"minorgridcolor\":\"white\",\"startlinecolor\":\"#2a3f5f\"},\"type\":\"carpet\"}],\"table\":[{\"cells\":{\"fill\":{\"color\":\"#EBF0F8\"},\"line\":{\"color\":\"white\"}},\"header\":{\"fill\":{\"color\":\"#C8D4E3\"},\"line\":{\"color\":\"white\"}},\"type\":\"table\"}],\"barpolar\":[{\"marker\":{\"line\":{\"color\":\"#E5ECF6\",\"width\":0.5},\"pattern\":{\"fillmode\":\"overlay\",\"size\":10,\"solidity\":0.2}},\"type\":\"barpolar\"}],\"pie\":[{\"automargin\":true,\"type\":\"pie\"}]},\"layout\":{\"autotypenumbers\":\"strict\",\"colorway\":[\"#636efa\",\"#EF553B\",\"#00cc96\",\"#ab63fa\",\"#FFA15A\",\"#19d3f3\",\"#FF6692\",\"#B6E880\",\"#FF97FF\",\"#FECB52\"],\"font\":{\"color\":\"#2a3f5f\"},\"hovermode\":\"closest\",\"hoverlabel\":{\"align\":\"left\"},\"paper_bgcolor\":\"white\",\"plot_bgcolor\":\"#E5ECF6\",\"polar\":{\"bgcolor\":\"#E5ECF6\",\"angularaxis\":{\"gridcolor\":\"white\",\"linecolor\":\"white\",\"ticks\":\"\"},\"radialaxis\":{\"gridcolor\":\"white\",\"linecolor\":\"white\",\"ticks\":\"\"}},\"ternary\":{\"bgcolor\":\"#E5ECF6\",\"aaxis\":{\"gridcolor\":\"white\",\"linecolor\":\"white\",\"ticks\":\"\"},\"baxis\":{\"gridcolor\":\"white\",\"linecolor\":\"white\",\"ticks\":\"\"},\"caxis\":{\"gridcolor\":\"white\",\"linecolor\":\"white\",\"ticks\":\"\"}},\"coloraxis\":{\"colorbar\":{\"outlinewidth\":0,\"ticks\":\"\"}},\"colorscale\":{\"sequential\":[[0.0,\"#0d0887\"],[0.1111111111111111,\"#46039f\"],[0.2222222222222222,\"#7201a8\"],[0.3333333333333333,\"#9c179e\"],[0.4444444444444444,\"#bd3786\"],[0.5555555555555556,\"#d8576b\"],[0.6666666666666666,\"#ed7953\"],[0.7777777777777778,\"#fb9f3a\"],[0.8888888888888888,\"#fdca26\"],[1.0,\"#f0f921\"]],\"sequentialminus\":[[0.0,\"#0d0887\"],[0.1111111111111111,\"#46039f\"],[0.2222222222222222,\"#7201a8\"],[0.3333333333333333,\"#9c179e\"],[0.4444444444444444,\"#bd3786\"],[0.5555555555555556,\"#d8576b\"],[0.6666666666666666,\"#ed7953\"],[0.7777777777777778,\"#fb9f3a\"],[0.8888888888888888,\"#fdca26\"],[1.0,\"#f0f921\"]],\"diverging\":[[0,\"#8e0152\"],[0.1,\"#c51b7d\"],[0.2,\"#de77ae\"],[0.3,\"#f1b6da\"],[0.4,\"#fde0ef\"],[0.5,\"#f7f7f7\"],[0.6,\"#e6f5d0\"],[0.7,\"#b8e186\"],[0.8,\"#7fbc41\"],[0.9,\"#4d9221\"],[1,\"#276419\"]]},\"xaxis\":{\"gridcolor\":\"white\",\"linecolor\":\"white\",\"ticks\":\"\",\"title\":{\"standoff\":15},\"zerolinecolor\":\"white\",\"automargin\":true,\"zerolinewidth\":2},\"yaxis\":{\"gridcolor\":\"white\",\"linecolor\":\"white\",\"ticks\":\"\",\"title\":{\"standoff\":15},\"zerolinecolor\":\"white\",\"automargin\":true,\"zerolinewidth\":2},\"scene\":{\"xaxis\":{\"backgroundcolor\":\"#E5ECF6\",\"gridcolor\":\"white\",\"linecolor\":\"white\",\"showbackground\":true,\"ticks\":\"\",\"zerolinecolor\":\"white\",\"gridwidth\":2},\"yaxis\":{\"backgroundcolor\":\"#E5ECF6\",\"gridcolor\":\"white\",\"linecolor\":\"white\",\"showbackground\":true,\"ticks\":\"\",\"zerolinecolor\":\"white\",\"gridwidth\":2},\"zaxis\":{\"backgroundcolor\":\"#E5ECF6\",\"gridcolor\":\"white\",\"linecolor\":\"white\",\"showbackground\":true,\"ticks\":\"\",\"zerolinecolor\":\"white\",\"gridwidth\":2}},\"shapedefaults\":{\"line\":{\"color\":\"#2a3f5f\"}},\"annotationdefaults\":{\"arrowcolor\":\"#2a3f5f\",\"arrowhead\":0,\"arrowwidth\":1},\"geo\":{\"bgcolor\":\"white\",\"landcolor\":\"#E5ECF6\",\"subunitcolor\":\"white\",\"showland\":true,\"showlakes\":true,\"lakecolor\":\"white\"},\"title\":{\"x\":0.05},\"mapbox\":{\"style\":\"light\"}}},\"xaxis\":{\"anchor\":\"y\",\"domain\":[0.0,1.0],\"title\":{\"text\":\"Year\"}},\"yaxis\":{\"anchor\":\"x\",\"domain\":[0.0,1.0],\"title\":{\"text\":\"Net Migration\"}},\"legend\":{\"title\":{\"text\":\"Country\"},\"tracegroupgap\":0},\"title\":{\"text\":\"Net Migration for Selected Countries Over Historical and Future Years\"},\"barmode\":\"relative\"},                        {\"responsive\": true}                    ).then(function(){\n",
              "                            \n",
              "var gd = document.getElementById('059d1898-a989-4e6f-9d9c-53db2fb80196');\n",
              "var x = new MutationObserver(function (mutations, observer) {{\n",
              "        var display = window.getComputedStyle(gd).display;\n",
              "        if (!display || display === 'none') {{\n",
              "            console.log([gd, 'removed!']);\n",
              "            Plotly.purge(gd);\n",
              "            observer.disconnect();\n",
              "        }}\n",
              "}});\n",
              "\n",
              "// Listen for the removal of the full notebook cells\n",
              "var notebookContainer = gd.closest('#notebook-container');\n",
              "if (notebookContainer) {{\n",
              "    x.observe(notebookContainer, {childList: true});\n",
              "}}\n",
              "\n",
              "// Listen for the clearing of the current output cell\n",
              "var outputEl = gd.closest('.output');\n",
              "if (outputEl) {{\n",
              "    x.observe(outputEl, {childList: true});\n",
              "}}\n",
              "\n",
              "                        })                };                            </script>        </div>\n",
              "</body>\n",
              "</html>"
            ]
          },
          "metadata": {}
        }
      ]
    },
    {
      "cell_type": "code",
      "source": [],
      "metadata": {
        "id": "EX38Zv9odNPc"
      },
      "execution_count": 22,
      "outputs": []
    },
    {
      "cell_type": "markdown",
      "source": [
        "#**SNS Heatmap**"
      ],
      "metadata": {
        "id": "j5PDLURHchts"
      }
    },
    {
      "cell_type": "code",
      "source": [
        "import pandas as pd\n",
        "import plotly.graph_objects as go\n",
        "\n",
        "# Assuming 'extended_df' is your extended DataFrame with predictions\n",
        "\n",
        "# Group data by year, country, and citizenship, and sum the values\n",
        "grouped_data = extended_df.groupby(['Year', 'Country'])['Value'].sum().reset_index()\n",
        "\n",
        "# Create a pivot table for the heatmap\n",
        "heatmap_data = grouped_data.pivot_table(index='Country', columns='Year', values='Value', aggfunc='sum')\n",
        "\n",
        "# Create a Plotly heatmap\n",
        "fig = go.Figure(data=go.Heatmap(\n",
        "    z=heatmap_data.values,\n",
        "    x=heatmap_data.columns,\n",
        "    y=heatmap_data.index,\n",
        "    colorscale='Viridis',\n",
        "    colorbar=dict(title='Net Migration'),\n",
        "))\n",
        "\n",
        "fig.update_layout(\n",
        "    title='Net Migration Heatmap Over Years',\n",
        "    xaxis=dict(title='Year'),\n",
        "    yaxis=dict(title='Country'),\n",
        ")\n",
        "\n",
        "# Show the figure\n",
        "fig.show()\n"
      ],
      "metadata": {
        "id": "2kATitE75UK7",
        "colab": {
          "base_uri": "https://localhost:8080/",
          "height": 542
        },
        "outputId": "18a01660-b0ca-4936-fa87-d029d51b337f"
      },
      "execution_count": 23,
      "outputs": [
        {
          "output_type": "display_data",
          "data": {
            "text/html": [
              "<html>\n",
              "<head><meta charset=\"utf-8\" /></head>\n",
              "<body>\n",
              "    <div>            <script src=\"https://cdnjs.cloudflare.com/ajax/libs/mathjax/2.7.5/MathJax.js?config=TeX-AMS-MML_SVG\"></script><script type=\"text/javascript\">if (window.MathJax && window.MathJax.Hub && window.MathJax.Hub.Config) {window.MathJax.Hub.Config({SVG: {font: \"STIX-Web\"}});}</script>                <script type=\"text/javascript\">window.PlotlyConfig = {MathJaxConfig: 'local'};</script>\n",
              "        <script charset=\"utf-8\" src=\"https://cdn.plot.ly/plotly-2.24.1.min.js\"></script>                <div id=\"3d3302a6-cdbb-41ee-8bb6-1fd8d70f4868\" class=\"plotly-graph-div\" style=\"height:525px; width:100%;\"></div>            <script type=\"text/javascript\">                                    window.PLOTLYENV=window.PLOTLYENV || {};                                    if (document.getElementById(\"3d3302a6-cdbb-41ee-8bb6-1fd8d70f4868\")) {                    Plotly.newPlot(                        \"3d3302a6-cdbb-41ee-8bb6-1fd8d70f4868\",                        [{\"colorbar\":{\"title\":{\"text\":\"Net Migration\"}},\"colorscale\":[[0.0,\"#440154\"],[0.1111111111111111,\"#482878\"],[0.2222222222222222,\"#3e4989\"],[0.3333333333333333,\"#31688e\"],[0.4444444444444444,\"#26828e\"],[0.5555555555555556,\"#1f9e89\"],[0.6666666666666666,\"#35b779\"],[0.7777777777777778,\"#6ece58\"],[0.8888888888888888,\"#b5de2b\"],[1.0,\"#fde725\"]],\"x\":[1979,1980,1981,1982,1983,1984,1985,1986,1987,1988,1989,1990,1991,1992,1993,1994,1995,1996,1997,1998,1999,2000,2001,2002,2003,2004,2005,2006,2007,2008,2009,2010,2011,2012,2013,2014,2015,2016,2017,2018,2019,2020,2021,2022,2023,2024,2025,2026],\"y\":[\"Australia\",\"India\",\"New Zealand\",\"USA\"],\"z\":[[-64459.0,-49138.0,-48650.0,-24116.0,3603.0,-10480.0,-39412.0,-46671.0,-40328.0,-66057.0,-39578.0,-1891.0,-1710.0,-7398.0,-6266.0,-12224.0,-17370.0,-22162.0,-28109.0,-35624.0,-46567.0,-55267.0,-47604.0,-24168.0,-20397.0,-29097.0,-42256.0,-40924.0,-55345.0,-69906.0,-35686.0,-42018.0,-73523.0,-77503.0,-40407.0,-9539.0,-779.0,755.0,-10172.0,-14295.0,-25310.0,8056.0,1991.0,-35663.0,-18599.0,3208.0,1635.0,-21996.0],[-108.0,88.0,57.0,16.0,-37.0,73.0,21.0,66.0,156.0,111.0,110.0,80.0,-168.0,85.0,353.0,817.0,1615.0,2315.0,1408.0,1136.0,1557.0,2214.0,3969.0,6590.0,4848.0,2430.0,1888.0,1970.0,3415.0,5069.0,5927.0,6234.0,4946.0,5076.0,5402.0,10076.0,13368.0,8991.0,-3391.0,-30334.0,-18506.0,-33254.0,8282.0,2711.0,-1329.0,-1892.0,-35798.0,15402.0],[1137.0,1748.0,1384.0,771.0,1309.0,197.0,-341.0,-619.0,-1587.0,152.0,-547.0,-825.0,-35.0,-170.0,-4219.0,-3958.0,-4831.0,-4953.0,-3203.0,-1639.0,-808.0,0.0,0.0,0.0,0.0,0.0,0.0,0.0,0.0,1.0,0.0,0.0,0.0,0.0,0.0,0.0,0.0,0.0,3682.0,-17527.0,-4014.0,-4603.0,-15035.0,-23344.0,-12075.0,7250.0,10398.0,-4473.0],[-1531.0,-719.0,-146.0,349.0,398.0,-32.0,-88.0,277.0,1113.0,-42.0,51.0,147.0,-531.0,-517.0,66.0,966.0,1201.0,438.0,-559.0,-1054.0,-1168.0,-2089.0,-1119.0,934.0,1417.0,1236.0,798.0,996.0,872.0,878.0,1394.0,823.0,1047.0,569.0,610.0,564.0,961.0,1072.0,-24982.0,6617.0,-16059.0,-3973.0,10277.0,-13363.0,5106.0,-5560.0,971.0,-16371.0]],\"type\":\"heatmap\"}],                        {\"template\":{\"data\":{\"histogram2dcontour\":[{\"type\":\"histogram2dcontour\",\"colorbar\":{\"outlinewidth\":0,\"ticks\":\"\"},\"colorscale\":[[0.0,\"#0d0887\"],[0.1111111111111111,\"#46039f\"],[0.2222222222222222,\"#7201a8\"],[0.3333333333333333,\"#9c179e\"],[0.4444444444444444,\"#bd3786\"],[0.5555555555555556,\"#d8576b\"],[0.6666666666666666,\"#ed7953\"],[0.7777777777777778,\"#fb9f3a\"],[0.8888888888888888,\"#fdca26\"],[1.0,\"#f0f921\"]]}],\"choropleth\":[{\"type\":\"choropleth\",\"colorbar\":{\"outlinewidth\":0,\"ticks\":\"\"}}],\"histogram2d\":[{\"type\":\"histogram2d\",\"colorbar\":{\"outlinewidth\":0,\"ticks\":\"\"},\"colorscale\":[[0.0,\"#0d0887\"],[0.1111111111111111,\"#46039f\"],[0.2222222222222222,\"#7201a8\"],[0.3333333333333333,\"#9c179e\"],[0.4444444444444444,\"#bd3786\"],[0.5555555555555556,\"#d8576b\"],[0.6666666666666666,\"#ed7953\"],[0.7777777777777778,\"#fb9f3a\"],[0.8888888888888888,\"#fdca26\"],[1.0,\"#f0f921\"]]}],\"heatmap\":[{\"type\":\"heatmap\",\"colorbar\":{\"outlinewidth\":0,\"ticks\":\"\"},\"colorscale\":[[0.0,\"#0d0887\"],[0.1111111111111111,\"#46039f\"],[0.2222222222222222,\"#7201a8\"],[0.3333333333333333,\"#9c179e\"],[0.4444444444444444,\"#bd3786\"],[0.5555555555555556,\"#d8576b\"],[0.6666666666666666,\"#ed7953\"],[0.7777777777777778,\"#fb9f3a\"],[0.8888888888888888,\"#fdca26\"],[1.0,\"#f0f921\"]]}],\"heatmapgl\":[{\"type\":\"heatmapgl\",\"colorbar\":{\"outlinewidth\":0,\"ticks\":\"\"},\"colorscale\":[[0.0,\"#0d0887\"],[0.1111111111111111,\"#46039f\"],[0.2222222222222222,\"#7201a8\"],[0.3333333333333333,\"#9c179e\"],[0.4444444444444444,\"#bd3786\"],[0.5555555555555556,\"#d8576b\"],[0.6666666666666666,\"#ed7953\"],[0.7777777777777778,\"#fb9f3a\"],[0.8888888888888888,\"#fdca26\"],[1.0,\"#f0f921\"]]}],\"contourcarpet\":[{\"type\":\"contourcarpet\",\"colorbar\":{\"outlinewidth\":0,\"ticks\":\"\"}}],\"contour\":[{\"type\":\"contour\",\"colorbar\":{\"outlinewidth\":0,\"ticks\":\"\"},\"colorscale\":[[0.0,\"#0d0887\"],[0.1111111111111111,\"#46039f\"],[0.2222222222222222,\"#7201a8\"],[0.3333333333333333,\"#9c179e\"],[0.4444444444444444,\"#bd3786\"],[0.5555555555555556,\"#d8576b\"],[0.6666666666666666,\"#ed7953\"],[0.7777777777777778,\"#fb9f3a\"],[0.8888888888888888,\"#fdca26\"],[1.0,\"#f0f921\"]]}],\"surface\":[{\"type\":\"surface\",\"colorbar\":{\"outlinewidth\":0,\"ticks\":\"\"},\"colorscale\":[[0.0,\"#0d0887\"],[0.1111111111111111,\"#46039f\"],[0.2222222222222222,\"#7201a8\"],[0.3333333333333333,\"#9c179e\"],[0.4444444444444444,\"#bd3786\"],[0.5555555555555556,\"#d8576b\"],[0.6666666666666666,\"#ed7953\"],[0.7777777777777778,\"#fb9f3a\"],[0.8888888888888888,\"#fdca26\"],[1.0,\"#f0f921\"]]}],\"mesh3d\":[{\"type\":\"mesh3d\",\"colorbar\":{\"outlinewidth\":0,\"ticks\":\"\"}}],\"scatter\":[{\"fillpattern\":{\"fillmode\":\"overlay\",\"size\":10,\"solidity\":0.2},\"type\":\"scatter\"}],\"parcoords\":[{\"type\":\"parcoords\",\"line\":{\"colorbar\":{\"outlinewidth\":0,\"ticks\":\"\"}}}],\"scatterpolargl\":[{\"type\":\"scatterpolargl\",\"marker\":{\"colorbar\":{\"outlinewidth\":0,\"ticks\":\"\"}}}],\"bar\":[{\"error_x\":{\"color\":\"#2a3f5f\"},\"error_y\":{\"color\":\"#2a3f5f\"},\"marker\":{\"line\":{\"color\":\"#E5ECF6\",\"width\":0.5},\"pattern\":{\"fillmode\":\"overlay\",\"size\":10,\"solidity\":0.2}},\"type\":\"bar\"}],\"scattergeo\":[{\"type\":\"scattergeo\",\"marker\":{\"colorbar\":{\"outlinewidth\":0,\"ticks\":\"\"}}}],\"scatterpolar\":[{\"type\":\"scatterpolar\",\"marker\":{\"colorbar\":{\"outlinewidth\":0,\"ticks\":\"\"}}}],\"histogram\":[{\"marker\":{\"pattern\":{\"fillmode\":\"overlay\",\"size\":10,\"solidity\":0.2}},\"type\":\"histogram\"}],\"scattergl\":[{\"type\":\"scattergl\",\"marker\":{\"colorbar\":{\"outlinewidth\":0,\"ticks\":\"\"}}}],\"scatter3d\":[{\"type\":\"scatter3d\",\"line\":{\"colorbar\":{\"outlinewidth\":0,\"ticks\":\"\"}},\"marker\":{\"colorbar\":{\"outlinewidth\":0,\"ticks\":\"\"}}}],\"scattermapbox\":[{\"type\":\"scattermapbox\",\"marker\":{\"colorbar\":{\"outlinewidth\":0,\"ticks\":\"\"}}}],\"scatterternary\":[{\"type\":\"scatterternary\",\"marker\":{\"colorbar\":{\"outlinewidth\":0,\"ticks\":\"\"}}}],\"scattercarpet\":[{\"type\":\"scattercarpet\",\"marker\":{\"colorbar\":{\"outlinewidth\":0,\"ticks\":\"\"}}}],\"carpet\":[{\"aaxis\":{\"endlinecolor\":\"#2a3f5f\",\"gridcolor\":\"white\",\"linecolor\":\"white\",\"minorgridcolor\":\"white\",\"startlinecolor\":\"#2a3f5f\"},\"baxis\":{\"endlinecolor\":\"#2a3f5f\",\"gridcolor\":\"white\",\"linecolor\":\"white\",\"minorgridcolor\":\"white\",\"startlinecolor\":\"#2a3f5f\"},\"type\":\"carpet\"}],\"table\":[{\"cells\":{\"fill\":{\"color\":\"#EBF0F8\"},\"line\":{\"color\":\"white\"}},\"header\":{\"fill\":{\"color\":\"#C8D4E3\"},\"line\":{\"color\":\"white\"}},\"type\":\"table\"}],\"barpolar\":[{\"marker\":{\"line\":{\"color\":\"#E5ECF6\",\"width\":0.5},\"pattern\":{\"fillmode\":\"overlay\",\"size\":10,\"solidity\":0.2}},\"type\":\"barpolar\"}],\"pie\":[{\"automargin\":true,\"type\":\"pie\"}]},\"layout\":{\"autotypenumbers\":\"strict\",\"colorway\":[\"#636efa\",\"#EF553B\",\"#00cc96\",\"#ab63fa\",\"#FFA15A\",\"#19d3f3\",\"#FF6692\",\"#B6E880\",\"#FF97FF\",\"#FECB52\"],\"font\":{\"color\":\"#2a3f5f\"},\"hovermode\":\"closest\",\"hoverlabel\":{\"align\":\"left\"},\"paper_bgcolor\":\"white\",\"plot_bgcolor\":\"#E5ECF6\",\"polar\":{\"bgcolor\":\"#E5ECF6\",\"angularaxis\":{\"gridcolor\":\"white\",\"linecolor\":\"white\",\"ticks\":\"\"},\"radialaxis\":{\"gridcolor\":\"white\",\"linecolor\":\"white\",\"ticks\":\"\"}},\"ternary\":{\"bgcolor\":\"#E5ECF6\",\"aaxis\":{\"gridcolor\":\"white\",\"linecolor\":\"white\",\"ticks\":\"\"},\"baxis\":{\"gridcolor\":\"white\",\"linecolor\":\"white\",\"ticks\":\"\"},\"caxis\":{\"gridcolor\":\"white\",\"linecolor\":\"white\",\"ticks\":\"\"}},\"coloraxis\":{\"colorbar\":{\"outlinewidth\":0,\"ticks\":\"\"}},\"colorscale\":{\"sequential\":[[0.0,\"#0d0887\"],[0.1111111111111111,\"#46039f\"],[0.2222222222222222,\"#7201a8\"],[0.3333333333333333,\"#9c179e\"],[0.4444444444444444,\"#bd3786\"],[0.5555555555555556,\"#d8576b\"],[0.6666666666666666,\"#ed7953\"],[0.7777777777777778,\"#fb9f3a\"],[0.8888888888888888,\"#fdca26\"],[1.0,\"#f0f921\"]],\"sequentialminus\":[[0.0,\"#0d0887\"],[0.1111111111111111,\"#46039f\"],[0.2222222222222222,\"#7201a8\"],[0.3333333333333333,\"#9c179e\"],[0.4444444444444444,\"#bd3786\"],[0.5555555555555556,\"#d8576b\"],[0.6666666666666666,\"#ed7953\"],[0.7777777777777778,\"#fb9f3a\"],[0.8888888888888888,\"#fdca26\"],[1.0,\"#f0f921\"]],\"diverging\":[[0,\"#8e0152\"],[0.1,\"#c51b7d\"],[0.2,\"#de77ae\"],[0.3,\"#f1b6da\"],[0.4,\"#fde0ef\"],[0.5,\"#f7f7f7\"],[0.6,\"#e6f5d0\"],[0.7,\"#b8e186\"],[0.8,\"#7fbc41\"],[0.9,\"#4d9221\"],[1,\"#276419\"]]},\"xaxis\":{\"gridcolor\":\"white\",\"linecolor\":\"white\",\"ticks\":\"\",\"title\":{\"standoff\":15},\"zerolinecolor\":\"white\",\"automargin\":true,\"zerolinewidth\":2},\"yaxis\":{\"gridcolor\":\"white\",\"linecolor\":\"white\",\"ticks\":\"\",\"title\":{\"standoff\":15},\"zerolinecolor\":\"white\",\"automargin\":true,\"zerolinewidth\":2},\"scene\":{\"xaxis\":{\"backgroundcolor\":\"#E5ECF6\",\"gridcolor\":\"white\",\"linecolor\":\"white\",\"showbackground\":true,\"ticks\":\"\",\"zerolinecolor\":\"white\",\"gridwidth\":2},\"yaxis\":{\"backgroundcolor\":\"#E5ECF6\",\"gridcolor\":\"white\",\"linecolor\":\"white\",\"showbackground\":true,\"ticks\":\"\",\"zerolinecolor\":\"white\",\"gridwidth\":2},\"zaxis\":{\"backgroundcolor\":\"#E5ECF6\",\"gridcolor\":\"white\",\"linecolor\":\"white\",\"showbackground\":true,\"ticks\":\"\",\"zerolinecolor\":\"white\",\"gridwidth\":2}},\"shapedefaults\":{\"line\":{\"color\":\"#2a3f5f\"}},\"annotationdefaults\":{\"arrowcolor\":\"#2a3f5f\",\"arrowhead\":0,\"arrowwidth\":1},\"geo\":{\"bgcolor\":\"white\",\"landcolor\":\"#E5ECF6\",\"subunitcolor\":\"white\",\"showland\":true,\"showlakes\":true,\"lakecolor\":\"white\"},\"title\":{\"x\":0.05},\"mapbox\":{\"style\":\"light\"}}},\"title\":{\"text\":\"Net Migration Heatmap Over Years\"},\"xaxis\":{\"title\":{\"text\":\"Year\"}},\"yaxis\":{\"title\":{\"text\":\"Country\"}}},                        {\"responsive\": true}                    ).then(function(){\n",
              "                            \n",
              "var gd = document.getElementById('3d3302a6-cdbb-41ee-8bb6-1fd8d70f4868');\n",
              "var x = new MutationObserver(function (mutations, observer) {{\n",
              "        var display = window.getComputedStyle(gd).display;\n",
              "        if (!display || display === 'none') {{\n",
              "            console.log([gd, 'removed!']);\n",
              "            Plotly.purge(gd);\n",
              "            observer.disconnect();\n",
              "        }}\n",
              "}});\n",
              "\n",
              "// Listen for the removal of the full notebook cells\n",
              "var notebookContainer = gd.closest('#notebook-container');\n",
              "if (notebookContainer) {{\n",
              "    x.observe(notebookContainer, {childList: true});\n",
              "}}\n",
              "\n",
              "// Listen for the clearing of the current output cell\n",
              "var outputEl = gd.closest('.output');\n",
              "if (outputEl) {{\n",
              "    x.observe(outputEl, {childList: true});\n",
              "}}\n",
              "\n",
              "                        })                };                            </script>        </div>\n",
              "</body>\n",
              "</html>"
            ]
          },
          "metadata": {}
        }
      ]
    },
    {
      "cell_type": "markdown",
      "source": [
        "#**KMeans Clustering**"
      ],
      "metadata": {
        "id": "7-_msj-6cp2P"
      }
    },
    {
      "cell_type": "code",
      "source": [
        "import plotly.express as px\n",
        "from sklearn.cluster import KMeans\n",
        "\n",
        "# extended_df is DataFrame with relevant features\n",
        "features = ['Year', 'Value']\n",
        "X = extended_df[features]\n",
        "\n",
        "# Convert categorical variables to numerical representations\n",
        "X = pd.get_dummies(X)\n",
        "\n",
        "# Apply K-Means clustering\n",
        "kmeans = KMeans(n_clusters=3, random_state=42)\n",
        "extended_df['Cluster'] = kmeans.fit_predict(X)\n",
        "\n",
        "# Create a 3D scatter plot with Plotly Express\n",
        "fig = px.scatter_3d(\n",
        "    extended_df,\n",
        "    x='Year',\n",
        "    y='Value',\n",
        "    z='Value',  # Use 'Value' as the third dimension\n",
        "    color='Cluster',\n",
        "    hover_data=['Country'],\n",
        "    title='3D Scatter Plot of K-Means Clustering',\n",
        "    labels={'Value': 'Migration Value'},\n",
        ")\n",
        "\n",
        "# Show the figure\n",
        "fig.show()\n"
      ],
      "metadata": {
        "id": "6RqkHk6i6Q5Q",
        "colab": {
          "base_uri": "https://localhost:8080/",
          "height": 631
        },
        "outputId": "15ad2ed4-180c-4c87-95f4-e07dc851ad1f"
      },
      "execution_count": 24,
      "outputs": [
        {
          "output_type": "stream",
          "name": "stderr",
          "text": [
            "/usr/local/lib/python3.10/dist-packages/sklearn/cluster/_kmeans.py:870: FutureWarning:\n",
            "\n",
            "The default value of `n_init` will change from 10 to 'auto' in 1.4. Set the value of `n_init` explicitly to suppress the warning\n",
            "\n"
          ]
        },
        {
          "output_type": "display_data",
          "data": {
            "text/html": [
              "<html>\n",
              "<head><meta charset=\"utf-8\" /></head>\n",
              "<body>\n",
              "    <div>            <script src=\"https://cdnjs.cloudflare.com/ajax/libs/mathjax/2.7.5/MathJax.js?config=TeX-AMS-MML_SVG\"></script><script type=\"text/javascript\">if (window.MathJax && window.MathJax.Hub && window.MathJax.Hub.Config) {window.MathJax.Hub.Config({SVG: {font: \"STIX-Web\"}});}</script>                <script type=\"text/javascript\">window.PlotlyConfig = {MathJaxConfig: 'local'};</script>\n",
              "        <script charset=\"utf-8\" src=\"https://cdn.plot.ly/plotly-2.24.1.min.js\"></script>                <div id=\"11cbeb8b-c899-47b7-94cf-2f65342e38fa\" class=\"plotly-graph-div\" style=\"height:525px; width:100%;\"></div>            <script type=\"text/javascript\">                                    window.PLOTLYENV=window.PLOTLYENV || {};                                    if (document.getElementById(\"11cbeb8b-c899-47b7-94cf-2f65342e38fa\")) {                    Plotly.newPlot(                        \"11cbeb8b-c899-47b7-94cf-2f65342e38fa\",                        [{\"customdata\":[[\"Australia\"],[\"Australia\"],[\"Australia\"],[\"New Zealand\"],[\"New Zealand\"],[\"New Zealand\"],[\"India\"],[\"India\"],[\"India\"],[\"USA\"],[\"USA\"],[\"USA\"],[\"Australia\"],[\"Australia\"],[\"Australia\"],[\"New Zealand\"],[\"New Zealand\"],[\"New Zealand\"],[\"India\"],[\"India\"],[\"India\"],[\"USA\"],[\"USA\"],[\"USA\"],[\"Australia\"],[\"Australia\"],[\"Australia\"],[\"New Zealand\"],[\"New Zealand\"],[\"New Zealand\"],[\"India\"],[\"India\"],[\"India\"],[\"USA\"],[\"USA\"],[\"USA\"],[\"Australia\"],[\"Australia\"],[\"Australia\"],[\"New Zealand\"],[\"New Zealand\"],[\"New Zealand\"],[\"India\"],[\"India\"],[\"India\"],[\"USA\"],[\"USA\"],[\"USA\"],[\"Australia\"],[\"Australia\"],[\"Australia\"],[\"New Zealand\"],[\"New Zealand\"],[\"New Zealand\"],[\"India\"],[\"India\"],[\"India\"],[\"USA\"],[\"USA\"],[\"USA\"],[\"Australia\"],[\"Australia\"],[\"Australia\"],[\"New Zealand\"],[\"New Zealand\"],[\"New Zealand\"],[\"India\"],[\"India\"],[\"India\"],[\"USA\"],[\"USA\"],[\"USA\"],[\"Australia\"],[\"Australia\"],[\"Australia\"],[\"New Zealand\"],[\"New Zealand\"],[\"New Zealand\"],[\"India\"],[\"India\"],[\"India\"],[\"USA\"],[\"USA\"],[\"USA\"],[\"Australia\"],[\"Australia\"],[\"Australia\"],[\"New Zealand\"],[\"New Zealand\"],[\"New Zealand\"],[\"India\"],[\"India\"],[\"India\"],[\"USA\"],[\"USA\"],[\"USA\"],[\"Australia\"],[\"Australia\"],[\"Australia\"],[\"New Zealand\"],[\"New Zealand\"],[\"New Zealand\"],[\"India\"],[\"India\"],[\"India\"],[\"USA\"],[\"USA\"],[\"USA\"],[\"Australia\"],[\"Australia\"],[\"Australia\"],[\"New Zealand\"],[\"New Zealand\"],[\"New Zealand\"],[\"India\"],[\"India\"],[\"India\"],[\"USA\"],[\"USA\"],[\"USA\"],[\"Australia\"],[\"Australia\"],[\"Australia\"],[\"New Zealand\"],[\"New Zealand\"],[\"New Zealand\"],[\"India\"],[\"India\"],[\"India\"],[\"USA\"],[\"USA\"],[\"USA\"],[\"Australia\"],[\"Australia\"],[\"Australia\"],[\"New Zealand\"],[\"New Zealand\"],[\"New Zealand\"],[\"India\"],[\"India\"],[\"India\"],[\"USA\"],[\"USA\"],[\"USA\"],[\"Australia\"],[\"Australia\"],[\"Australia\"],[\"New Zealand\"],[\"New Zealand\"],[\"New Zealand\"],[\"India\"],[\"India\"],[\"India\"],[\"USA\"],[\"USA\"],[\"USA\"],[\"Australia\"],[\"Australia\"],[\"Australia\"],[\"New Zealand\"],[\"New Zealand\"],[\"New Zealand\"],[\"India\"],[\"India\"],[\"India\"],[\"USA\"],[\"USA\"],[\"USA\"],[\"Australia\"],[\"Australia\"],[\"Australia\"],[\"New Zealand\"],[\"New Zealand\"],[\"New Zealand\"],[\"India\"],[\"India\"],[\"India\"],[\"USA\"],[\"USA\"],[\"USA\"],[\"Australia\"],[\"Australia\"],[\"Australia\"],[\"New Zealand\"],[\"New Zealand\"],[\"New Zealand\"],[\"India\"],[\"India\"],[\"India\"],[\"USA\"],[\"USA\"],[\"USA\"],[\"Australia\"],[\"Australia\"],[\"Australia\"],[\"New Zealand\"],[\"New Zealand\"],[\"New Zealand\"],[\"India\"],[\"India\"],[\"India\"],[\"USA\"],[\"USA\"],[\"USA\"],[\"Australia\"],[\"Australia\"],[\"Australia\"],[\"New Zealand\"],[\"New Zealand\"],[\"New Zealand\"],[\"India\"],[\"India\"],[\"India\"],[\"USA\"],[\"USA\"],[\"USA\"],[\"Australia\"],[\"Australia\"],[\"Australia\"],[\"New Zealand\"],[\"New Zealand\"],[\"New Zealand\"],[\"India\"],[\"India\"],[\"India\"],[\"USA\"],[\"USA\"],[\"USA\"],[\"Australia\"],[\"Australia\"],[\"Australia\"],[\"New Zealand\"],[\"New Zealand\"],[\"New Zealand\"],[\"India\"],[\"India\"],[\"India\"],[\"USA\"],[\"USA\"],[\"USA\"],[\"Australia\"],[\"Australia\"],[\"Australia\"],[\"New Zealand\"],[\"New Zealand\"],[\"New Zealand\"],[\"India\"],[\"India\"],[\"India\"],[\"USA\"],[\"USA\"],[\"USA\"],[\"Australia\"],[\"Australia\"],[\"Australia\"],[\"New Zealand\"],[\"New Zealand\"],[\"New Zealand\"],[\"India\"],[\"India\"],[\"India\"],[\"USA\"],[\"USA\"],[\"USA\"],[\"Australia\"],[\"Australia\"],[\"Australia\"],[\"New Zealand\"],[\"New Zealand\"],[\"New Zealand\"],[\"India\"],[\"India\"],[\"India\"],[\"USA\"],[\"USA\"],[\"USA\"],[\"Australia\"],[\"Australia\"],[\"Australia\"],[\"New Zealand\"],[\"New Zealand\"],[\"New Zealand\"],[\"India\"],[\"India\"],[\"India\"],[\"USA\"],[\"USA\"],[\"USA\"],[\"Australia\"],[\"Australia\"],[\"Australia\"],[\"New Zealand\"],[\"New Zealand\"],[\"New Zealand\"],[\"India\"],[\"India\"],[\"India\"],[\"USA\"],[\"USA\"],[\"USA\"],[\"Australia\"],[\"Australia\"],[\"Australia\"],[\"New Zealand\"],[\"New Zealand\"],[\"New Zealand\"],[\"India\"],[\"India\"],[\"India\"],[\"USA\"],[\"USA\"],[\"USA\"],[\"Australia\"],[\"Australia\"],[\"Australia\"],[\"New Zealand\"],[\"New Zealand\"],[\"New Zealand\"],[\"India\"],[\"India\"],[\"India\"],[\"USA\"],[\"USA\"],[\"USA\"],[\"Australia\"],[\"Australia\"],[\"Australia\"],[\"New Zealand\"],[\"New Zealand\"],[\"New Zealand\"],[\"India\"],[\"India\"],[\"India\"],[\"USA\"],[\"USA\"],[\"USA\"],[\"Australia\"],[\"Australia\"],[\"Australia\"],[\"New Zealand\"],[\"New Zealand\"],[\"New Zealand\"],[\"India\"],[\"India\"],[\"India\"],[\"USA\"],[\"USA\"],[\"USA\"],[\"Australia\"],[\"Australia\"],[\"Australia\"],[\"New Zealand\"],[\"New Zealand\"],[\"New Zealand\"],[\"India\"],[\"India\"],[\"India\"],[\"USA\"],[\"USA\"],[\"USA\"],[\"Australia\"],[\"Australia\"],[\"Australia\"],[\"New Zealand\"],[\"New Zealand\"],[\"New Zealand\"],[\"India\"],[\"India\"],[\"India\"],[\"USA\"],[\"USA\"],[\"USA\"],[\"Australia\"],[\"Australia\"],[\"Australia\"],[\"New Zealand\"],[\"New Zealand\"],[\"New Zealand\"],[\"India\"],[\"India\"],[\"India\"],[\"USA\"],[\"USA\"],[\"USA\"],[\"Australia\"],[\"Australia\"],[\"Australia\"],[\"New Zealand\"],[\"New Zealand\"],[\"New Zealand\"],[\"India\"],[\"India\"],[\"India\"],[\"USA\"],[\"USA\"],[\"USA\"],[\"Australia\"],[\"Australia\"],[\"Australia\"],[\"New Zealand\"],[\"New Zealand\"],[\"New Zealand\"],[\"India\"],[\"India\"],[\"India\"],[\"USA\"],[\"USA\"],[\"USA\"],[\"Australia\"],[\"Australia\"],[\"Australia\"],[\"New Zealand\"],[\"New Zealand\"],[\"New Zealand\"],[\"India\"],[\"India\"],[\"India\"],[\"USA\"],[\"USA\"],[\"USA\"],[\"Australia\"],[\"Australia\"],[\"Australia\"],[\"New Zealand\"],[\"New Zealand\"],[\"New Zealand\"],[\"India\"],[\"India\"],[\"India\"],[\"USA\"],[\"USA\"],[\"USA\"],[\"Australia\"],[\"Australia\"],[\"Australia\"],[\"New Zealand\"],[\"New Zealand\"],[\"New Zealand\"],[\"India\"],[\"India\"],[\"India\"],[\"USA\"],[\"USA\"],[\"USA\"],[\"Australia\"],[\"Australia\"],[\"Australia\"],[\"New Zealand\"],[\"New Zealand\"],[\"New Zealand\"],[\"India\"],[\"India\"],[\"India\"],[\"USA\"],[\"USA\"],[\"USA\"],[\"Australia\"],[\"Australia\"],[\"Australia\"],[\"New Zealand\"],[\"New Zealand\"],[\"New Zealand\"],[\"India\"],[\"India\"],[\"India\"],[\"USA\"],[\"USA\"],[\"USA\"],[\"Australia\"],[\"Australia\"],[\"Australia\"],[\"New Zealand\"],[\"New Zealand\"],[\"New Zealand\"],[\"India\"],[\"India\"],[\"India\"],[\"USA\"],[\"USA\"],[\"USA\"],[\"Australia\"],[\"Australia\"],[\"Australia\"],[\"New Zealand\"],[\"New Zealand\"],[\"New Zealand\"],[\"India\"],[\"India\"],[\"India\"],[\"USA\"],[\"USA\"],[\"USA\"],[\"Australia\"],[\"Australia\"],[\"Australia\"],[\"New Zealand\"],[\"New Zealand\"],[\"New Zealand\"],[\"India\"],[\"India\"],[\"India\"],[\"USA\"],[\"USA\"],[\"USA\"],[\"Australia\"],[\"Australia\"],[\"Australia\"],[\"New Zealand\"],[\"New Zealand\"],[\"New Zealand\"],[\"India\"],[\"India\"],[\"India\"],[\"USA\"],[\"USA\"],[\"USA\"],[\"Australia\"],[\"Australia\"],[\"Australia\"],[\"New Zealand\"],[\"New Zealand\"],[\"New Zealand\"],[\"India\"],[\"India\"],[\"India\"],[\"USA\"],[\"USA\"],[\"USA\"],[\"Australia\"],[\"Australia\"],[\"Australia\"],[\"New Zealand\"],[\"New Zealand\"],[\"New Zealand\"],[\"India\"],[\"India\"],[\"India\"],[\"USA\"],[\"USA\"],[\"USA\"],[\"Australia\"],[\"Australia\"],[\"Australia\"],[\"New Zealand\"],[\"New Zealand\"],[\"New Zealand\"],[\"India\"],[\"India\"],[\"India\"],[\"USA\"],[\"USA\"],[\"USA\"],[\"Australia\"],[\"Australia\"],[\"Australia\"],[\"New Zealand\"],[\"New Zealand\"],[\"New Zealand\"],[\"India\"],[\"India\"],[\"India\"],[\"USA\"],[\"USA\"],[\"USA\"],[\"Australia\"],[\"Australia\"],[\"Australia\"],[\"New Zealand\"],[\"New Zealand\"],[\"New Zealand\"],[\"India\"],[\"India\"],[\"India\"],[\"USA\"],[\"USA\"],[\"USA\"]],\"hovertemplate\":\"Year=%{x}\\u003cbr\\u003eMigration Value=%{z}\\u003cbr\\u003eCountry=%{customdata[0]}\\u003cbr\\u003eCluster=%{marker.color}\\u003cextra\\u003e\\u003c\\u002fextra\\u003e\",\"legendgroup\":\"\",\"marker\":{\"color\":[2,1,2,1,1,1,1,1,1,1,1,1,2,1,2,1,1,1,1,1,1,1,1,1,2,1,2,1,1,1,1,1,1,1,1,1,0,1,0,1,1,1,1,1,1,1,1,1,1,1,1,1,1,1,1,1,1,1,1,1,0,1,1,1,1,1,1,1,1,1,1,1,2,1,2,1,1,1,1,1,1,1,1,1,2,1,2,1,1,1,1,1,1,1,1,1,2,1,2,1,1,1,1,1,1,1,1,1,2,1,2,1,1,1,1,1,1,1,1,1,2,1,2,1,1,1,1,1,1,1,1,1,1,1,1,1,1,1,1,1,1,1,1,1,1,1,1,1,1,1,1,1,1,1,1,1,1,1,1,1,1,1,1,1,1,1,1,1,1,1,1,1,1,1,1,1,1,1,1,1,0,1,0,1,1,1,1,1,1,1,1,1,0,1,0,1,1,1,1,1,1,1,1,1,0,1,0,1,1,1,1,1,1,1,1,1,0,1,0,1,1,1,1,1,1,1,1,1,0,1,0,1,1,1,1,1,1,1,1,1,2,1,2,1,1,1,1,1,1,1,1,1,2,1,2,1,1,1,1,1,1,1,1,1,2,1,2,1,1,1,1,1,1,1,1,1,0,1,0,1,1,1,1,1,1,1,1,1,0,1,0,1,1,1,1,1,1,1,1,1,0,1,0,1,1,1,1,1,1,1,1,1,2,1,2,1,1,1,1,1,1,1,1,1,2,1,2,1,1,1,1,1,1,1,1,1,2,1,2,1,1,1,1,1,1,1,1,1,2,1,2,1,1,1,1,1,1,1,1,1,0,1,0,1,1,1,1,1,1,1,1,1,2,1,2,1,1,1,1,1,1,1,1,1,2,1,2,1,1,1,1,1,1,1,1,1,2,1,2,1,1,1,1,1,1,1,1,1,2,1,2,1,1,1,1,1,1,1,1,1,0,1,1,1,1,1,1,1,1,1,1,1,1,1,1,1,1,1,1,1,1,1,1,1,1,1,1,1,1,1,1,1,1,1,1,1,1,0,0,1,1,1,1,1,2,0,1,0,1,1,0,0,1,1,0,0,0,1,1,1,2,1,1,1,1,0,0,1,0,1,1,0,1,1,1,0,0,1,0,0,1,0,1,1,1,0,1,0,0,1,1,1,1,1,1,1,0,1,0,0,1,0,1,1,1,1,0,0,0,1,0,0,1,1,1,1,1,1,1,0,1,0,1,1,0,1,1,1,0,1,0,1,1,1,1,1,1,1,0,1,0,0,0,1,1,0,0,0,1,1,1,1,1,0,1,0],\"coloraxis\":\"coloraxis\",\"symbol\":\"circle\"},\"mode\":\"markers\",\"name\":\"\",\"scene\":\"scene\",\"showlegend\":false,\"x\":[1979,1979,1979,1979,1979,1979,1979,1979,1979,1979,1979,1979,1980,1980,1980,1980,1980,1980,1980,1980,1980,1980,1980,1980,1981,1981,1981,1981,1981,1981,1981,1981,1981,1981,1981,1981,1982,1982,1982,1982,1982,1982,1982,1982,1982,1982,1982,1982,1983,1983,1983,1983,1983,1983,1983,1983,1983,1983,1983,1983,1984,1984,1984,1984,1984,1984,1984,1984,1984,1984,1984,1984,1985,1985,1985,1985,1985,1985,1985,1985,1985,1985,1985,1985,1986,1986,1986,1986,1986,1986,1986,1986,1986,1986,1986,1986,1987,1987,1987,1987,1987,1987,1987,1987,1987,1987,1987,1987,1988,1988,1988,1988,1988,1988,1988,1988,1988,1988,1988,1988,1989,1989,1989,1989,1989,1989,1989,1989,1989,1989,1989,1989,1990,1990,1990,1990,1990,1990,1990,1990,1990,1990,1990,1990,1991,1991,1991,1991,1991,1991,1991,1991,1991,1991,1991,1991,1992,1992,1992,1992,1992,1992,1992,1992,1992,1992,1992,1992,1993,1993,1993,1993,1993,1993,1993,1993,1993,1993,1993,1993,1994,1994,1994,1994,1994,1994,1994,1994,1994,1994,1994,1994,1995,1995,1995,1995,1995,1995,1995,1995,1995,1995,1995,1995,1996,1996,1996,1996,1996,1996,1996,1996,1996,1996,1996,1996,1997,1997,1997,1997,1997,1997,1997,1997,1997,1997,1997,1997,1998,1998,1998,1998,1998,1998,1998,1998,1998,1998,1998,1998,1999,1999,1999,1999,1999,1999,1999,1999,1999,1999,1999,1999,2000,2000,2000,2000,2000,2000,2000,2000,2000,2000,2000,2000,2001,2001,2001,2001,2001,2001,2001,2001,2001,2001,2001,2001,2002,2002,2002,2002,2002,2002,2002,2002,2002,2002,2002,2002,2003,2003,2003,2003,2003,2003,2003,2003,2003,2003,2003,2003,2004,2004,2004,2004,2004,2004,2004,2004,2004,2004,2004,2004,2005,2005,2005,2005,2005,2005,2005,2005,2005,2005,2005,2005,2006,2006,2006,2006,2006,2006,2006,2006,2006,2006,2006,2006,2007,2007,2007,2007,2007,2007,2007,2007,2007,2007,2007,2007,2008,2008,2008,2008,2008,2008,2008,2008,2008,2008,2008,2008,2009,2009,2009,2009,2009,2009,2009,2009,2009,2009,2009,2009,2010,2010,2010,2010,2010,2010,2010,2010,2010,2010,2010,2010,2011,2011,2011,2011,2011,2011,2011,2011,2011,2011,2011,2011,2012,2012,2012,2012,2012,2012,2012,2012,2012,2012,2012,2012,2013,2013,2013,2013,2013,2013,2013,2013,2013,2013,2013,2013,2014,2014,2014,2014,2014,2014,2014,2014,2014,2014,2014,2014,2015,2015,2015,2015,2015,2015,2015,2015,2015,2015,2015,2015,2016,2016,2016,2016,2016,2016,2016,2016,2016,2016,2016,2016,2017,2017,2017,2017,2017,2017,2017,2017,2017,2017,2017,2017,2018,2018,2018,2018,2018,2018,2018,2018,2018,2018,2018,2018,2019,2019,2019,2019,2019,2019,2019,2019,2019,2019,2019,2019,2020,2020,2020,2020,2020,2020,2020,2020,2020,2020,2020,2020,2021,2021,2021,2021,2021,2021,2021,2021,2021,2021,2021,2021,2022,2022,2022,2022,2022,2022,2022,2022,2022,2022,2022,2022,2023,2023,2023,2023,2023,2023,2023,2023,2023,2023,2023,2023,2024,2024,2024,2024,2024,2024,2024,2024,2024,2024,2024,2024,2025,2025,2025,2025,2025,2025,2025,2025,2025,2025,2025,2025,2026,2026,2026,2026,2026,2026,2026,2026,2026,2026,2026,2026],\"y\":[-31389.0,283.0,-33353.0,172.0,115.0,850.0,-65.0,-4.0,-39.0,-736.0,2.0,-797.0,-24054.0,641.0,-25725.0,617.0,91.0,1040.0,10.0,-3.0,81.0,-438.0,11.0,-292.0,-23632.0,167.0,-25185.0,464.0,75.0,845.0,2.0,-7.0,62.0,-162.0,0.0,16.0,-12960.0,929.0,-12085.0,279.0,40.0,452.0,-14.0,5.0,25.0,-8.0,7.0,350.0,-233.0,1877.0,1959.0,512.0,64.0,733.0,-15.0,-4.0,-18.0,76.0,-1.0,323.0,-6957.0,1622.0,-5145.0,26.0,28.0,143.0,22.0,-1.0,52.0,-89.0,-13.0,70.0,-20187.0,626.0,-19851.0,-234.0,43.0,-150.0,7.0,4.0,10.0,-109.0,7.0,14.0,-23900.0,830.0,-23601.0,-404.0,42.0,-257.0,4.0,-5.0,67.0,-42.0,11.0,308.0,-21060.0,1173.0,-20441.0,-794.0,5.0,-798.0,15.0,2.0,139.0,318.0,15.0,780.0,-32639.0,-11.0,-33407.0,27.0,37.0,88.0,-16.0,0.0,127.0,-74.0,-1.0,33.0,-20313.0,667.0,-19932.0,-319.0,12.0,-240.0,-10.0,3.0,117.0,-127.0,19.0,159.0,-2923.0,1971.0,-939.0,-461.0,6.0,-370.0,2.0,-2.0,80.0,-70.0,7.0,210.0,-2380.0,1553.0,-883.0,-91.0,29.0,27.0,-62.0,-1.0,-105.0,-316.0,14.0,-229.0,-4922.0,1172.0,-3648.0,-82.0,1.0,-89.0,-25.0,0.0,110.0,-301.0,-3.0,-213.0,-4977.0,1607.0,-2896.0,-1936.0,-29.0,-2254.0,-14.0,0.0,367.0,-189.0,15.0,240.0,-8096.0,1804.0,-5932.0,-1852.0,-19.0,-2087.0,-14.0,-5.0,836.0,108.0,16.0,842.0,-10664.0,1912.0,-8618.0,-2248.0,-27.0,-2556.0,-30.0,0.0,1645.0,186.0,23.0,992.0,-12899.0,1799.0,-11062.0,-2282.0,-20.0,-2651.0,20.0,1.0,2294.0,-79.0,23.0,494.0,-15298.0,1228.0,-14039.0,-1485.0,-9.0,-1709.0,-27.0,-8.0,1443.0,-438.0,5.0,-126.0,-18602.0,841.0,-17863.0,-776.0,-8.0,-855.0,-14.0,-4.0,1154.0,-411.0,-10.0,-633.0,-23444.0,246.0,-23369.0,-378.0,-5.0,-425.0,-25.0,2.0,1580.0,-675.0,5.0,-498.0,-28102.0,503.0,-27668.0,0.0,0.0,0.0,-25.0,4.0,2235.0,-1133.0,-15.0,-941.0,-24554.0,797.0,-23847.0,0.0,0.0,0.0,-9.0,5.0,3973.0,-759.0,9.0,-369.0,-13409.0,1293.0,-12052.0,0.0,0.0,0.0,7.0,2.0,6581.0,47.0,16.0,871.0,-12013.0,1841.0,-10225.0,0.0,0.0,0.0,-11.0,4.0,4855.0,219.0,18.0,1180.0,-16653.0,2278.0,-14722.0,0.0,0.0,0.0,-22.0,3.0,2449.0,80.0,36.0,1120.0,-22455.0,1576.0,-21377.0,0.0,0.0,0.0,-59.0,0.0,1947.0,-108.0,32.0,874.0,-21588.0,1373.0,-20709.0,0.0,0.0,0.0,-154.0,-1.0,2125.0,-87.0,43.0,1040.0,-28557.0,1210.0,-27998.0,0.0,0.0,0.0,-166.0,5.0,3576.0,-186.0,12.0,1046.0,-35304.0,793.0,-35395.0,0.0,0.0,1.0,-100.0,1.0,5168.0,-79.0,11.0,946.0,-18512.0,788.0,-17962.0,0.0,0.0,0.0,-20.0,-4.0,5951.0,142.0,4.0,1248.0,-21856.0,826.0,-20988.0,0.0,0.0,0.0,-85.0,5.0,6314.0,-7.0,18.0,812.0,-36889.0,234.0,-36868.0,0.0,0.0,0.0,6.0,7.0,4933.0,-94.0,36.0,1105.0,-39114.0,407.0,-38796.0,0.0,0.0,0.0,-30.0,7.0,5099.0,-247.0,8.0,808.0,-22361.0,1559.0,-19605.0,0.0,0.0,0.0,30.0,2.0,5370.0,-278.0,9.0,879.0,-8107.0,2365.0,-3797.0,0.0,0.0,0.0,-15.0,3.0,10088.0,-320.0,-28.0,912.0,-4548.0,3000.0,769.0,0.0,0.0,0.0,72.0,4.0,13292.0,-193.0,12.0,1142.0,-3869.0,3061.0,1563.0,0.0,0.0,0.0,89.0,3.0,8899.0,-214.0,0.0,1286.0,7838.0,-5603.0,-12407.0,4712.0,2413.0,-3443.0,9295.0,9452.0,-22138.0,-15479.0,513.0,-10016.0,-4558.0,1598.0,-11335.0,-13224.0,-4008.0,-295.0,-16478.0,-7388.0,-6468.0,-4906.0,9884.0,1639.0,-19536.0,-1149.0,-4625.0,-81.0,12153.0,-16086.0,-9450.0,2501.0,-11557.0,-2440.0,-4552.0,-9067.0,4987.0,-1403.0,4472.0,-7029.0,-6845.0,9271.0,-14416.0,-16107.0,-2731.0,-11629.0,3890.0,3766.0,12299.0,-14588.0,4280.0,-13008.0,-8965.0,6938.0,-1277.0,-2674.0,12233.0,5944.0,3398.0,935.0,-17730.0,-1636.0,-16297.0,-9814.0,-4335.0,-9195.0,3969.0,-1385.0,127.0,703.0,-8347.0,-5719.0,-8498.0,664.0,-10765.0,-18792.0,2471.0,4246.0,-4007.0,1568.0,1110.0,3134.0,7982.0,-6010.0,10601.0,-15552.0,8159.0,10655.0,-10466.0,7061.0,6295.0,-963.0,-7224.0,3819.0,-12839.0,3460.0,1183.0,5816.0,-5364.0,6639.0,-383.0,4142.0,-16969.0,-3938.0,-14891.0,-6474.0,-6158.0,13603.0,-5135.0,-7878.0,-8983.0,-6777.0,-1377.0,3681.0,12647.0,2213.0,542.0,-8810.0,7721.0,-15282.0],\"z\":[-31389.0,283.0,-33353.0,172.0,115.0,850.0,-65.0,-4.0,-39.0,-736.0,2.0,-797.0,-24054.0,641.0,-25725.0,617.0,91.0,1040.0,10.0,-3.0,81.0,-438.0,11.0,-292.0,-23632.0,167.0,-25185.0,464.0,75.0,845.0,2.0,-7.0,62.0,-162.0,0.0,16.0,-12960.0,929.0,-12085.0,279.0,40.0,452.0,-14.0,5.0,25.0,-8.0,7.0,350.0,-233.0,1877.0,1959.0,512.0,64.0,733.0,-15.0,-4.0,-18.0,76.0,-1.0,323.0,-6957.0,1622.0,-5145.0,26.0,28.0,143.0,22.0,-1.0,52.0,-89.0,-13.0,70.0,-20187.0,626.0,-19851.0,-234.0,43.0,-150.0,7.0,4.0,10.0,-109.0,7.0,14.0,-23900.0,830.0,-23601.0,-404.0,42.0,-257.0,4.0,-5.0,67.0,-42.0,11.0,308.0,-21060.0,1173.0,-20441.0,-794.0,5.0,-798.0,15.0,2.0,139.0,318.0,15.0,780.0,-32639.0,-11.0,-33407.0,27.0,37.0,88.0,-16.0,0.0,127.0,-74.0,-1.0,33.0,-20313.0,667.0,-19932.0,-319.0,12.0,-240.0,-10.0,3.0,117.0,-127.0,19.0,159.0,-2923.0,1971.0,-939.0,-461.0,6.0,-370.0,2.0,-2.0,80.0,-70.0,7.0,210.0,-2380.0,1553.0,-883.0,-91.0,29.0,27.0,-62.0,-1.0,-105.0,-316.0,14.0,-229.0,-4922.0,1172.0,-3648.0,-82.0,1.0,-89.0,-25.0,0.0,110.0,-301.0,-3.0,-213.0,-4977.0,1607.0,-2896.0,-1936.0,-29.0,-2254.0,-14.0,0.0,367.0,-189.0,15.0,240.0,-8096.0,1804.0,-5932.0,-1852.0,-19.0,-2087.0,-14.0,-5.0,836.0,108.0,16.0,842.0,-10664.0,1912.0,-8618.0,-2248.0,-27.0,-2556.0,-30.0,0.0,1645.0,186.0,23.0,992.0,-12899.0,1799.0,-11062.0,-2282.0,-20.0,-2651.0,20.0,1.0,2294.0,-79.0,23.0,494.0,-15298.0,1228.0,-14039.0,-1485.0,-9.0,-1709.0,-27.0,-8.0,1443.0,-438.0,5.0,-126.0,-18602.0,841.0,-17863.0,-776.0,-8.0,-855.0,-14.0,-4.0,1154.0,-411.0,-10.0,-633.0,-23444.0,246.0,-23369.0,-378.0,-5.0,-425.0,-25.0,2.0,1580.0,-675.0,5.0,-498.0,-28102.0,503.0,-27668.0,0.0,0.0,0.0,-25.0,4.0,2235.0,-1133.0,-15.0,-941.0,-24554.0,797.0,-23847.0,0.0,0.0,0.0,-9.0,5.0,3973.0,-759.0,9.0,-369.0,-13409.0,1293.0,-12052.0,0.0,0.0,0.0,7.0,2.0,6581.0,47.0,16.0,871.0,-12013.0,1841.0,-10225.0,0.0,0.0,0.0,-11.0,4.0,4855.0,219.0,18.0,1180.0,-16653.0,2278.0,-14722.0,0.0,0.0,0.0,-22.0,3.0,2449.0,80.0,36.0,1120.0,-22455.0,1576.0,-21377.0,0.0,0.0,0.0,-59.0,0.0,1947.0,-108.0,32.0,874.0,-21588.0,1373.0,-20709.0,0.0,0.0,0.0,-154.0,-1.0,2125.0,-87.0,43.0,1040.0,-28557.0,1210.0,-27998.0,0.0,0.0,0.0,-166.0,5.0,3576.0,-186.0,12.0,1046.0,-35304.0,793.0,-35395.0,0.0,0.0,1.0,-100.0,1.0,5168.0,-79.0,11.0,946.0,-18512.0,788.0,-17962.0,0.0,0.0,0.0,-20.0,-4.0,5951.0,142.0,4.0,1248.0,-21856.0,826.0,-20988.0,0.0,0.0,0.0,-85.0,5.0,6314.0,-7.0,18.0,812.0,-36889.0,234.0,-36868.0,0.0,0.0,0.0,6.0,7.0,4933.0,-94.0,36.0,1105.0,-39114.0,407.0,-38796.0,0.0,0.0,0.0,-30.0,7.0,5099.0,-247.0,8.0,808.0,-22361.0,1559.0,-19605.0,0.0,0.0,0.0,30.0,2.0,5370.0,-278.0,9.0,879.0,-8107.0,2365.0,-3797.0,0.0,0.0,0.0,-15.0,3.0,10088.0,-320.0,-28.0,912.0,-4548.0,3000.0,769.0,0.0,0.0,0.0,72.0,4.0,13292.0,-193.0,12.0,1142.0,-3869.0,3061.0,1563.0,0.0,0.0,0.0,89.0,3.0,8899.0,-214.0,0.0,1286.0,7838.0,-5603.0,-12407.0,4712.0,2413.0,-3443.0,9295.0,9452.0,-22138.0,-15479.0,513.0,-10016.0,-4558.0,1598.0,-11335.0,-13224.0,-4008.0,-295.0,-16478.0,-7388.0,-6468.0,-4906.0,9884.0,1639.0,-19536.0,-1149.0,-4625.0,-81.0,12153.0,-16086.0,-9450.0,2501.0,-11557.0,-2440.0,-4552.0,-9067.0,4987.0,-1403.0,4472.0,-7029.0,-6845.0,9271.0,-14416.0,-16107.0,-2731.0,-11629.0,3890.0,3766.0,12299.0,-14588.0,4280.0,-13008.0,-8965.0,6938.0,-1277.0,-2674.0,12233.0,5944.0,3398.0,935.0,-17730.0,-1636.0,-16297.0,-9814.0,-4335.0,-9195.0,3969.0,-1385.0,127.0,703.0,-8347.0,-5719.0,-8498.0,664.0,-10765.0,-18792.0,2471.0,4246.0,-4007.0,1568.0,1110.0,3134.0,7982.0,-6010.0,10601.0,-15552.0,8159.0,10655.0,-10466.0,7061.0,6295.0,-963.0,-7224.0,3819.0,-12839.0,3460.0,1183.0,5816.0,-5364.0,6639.0,-383.0,4142.0,-16969.0,-3938.0,-14891.0,-6474.0,-6158.0,13603.0,-5135.0,-7878.0,-8983.0,-6777.0,-1377.0,3681.0,12647.0,2213.0,542.0,-8810.0,7721.0,-15282.0],\"type\":\"scatter3d\"}],                        {\"template\":{\"data\":{\"histogram2dcontour\":[{\"type\":\"histogram2dcontour\",\"colorbar\":{\"outlinewidth\":0,\"ticks\":\"\"},\"colorscale\":[[0.0,\"#0d0887\"],[0.1111111111111111,\"#46039f\"],[0.2222222222222222,\"#7201a8\"],[0.3333333333333333,\"#9c179e\"],[0.4444444444444444,\"#bd3786\"],[0.5555555555555556,\"#d8576b\"],[0.6666666666666666,\"#ed7953\"],[0.7777777777777778,\"#fb9f3a\"],[0.8888888888888888,\"#fdca26\"],[1.0,\"#f0f921\"]]}],\"choropleth\":[{\"type\":\"choropleth\",\"colorbar\":{\"outlinewidth\":0,\"ticks\":\"\"}}],\"histogram2d\":[{\"type\":\"histogram2d\",\"colorbar\":{\"outlinewidth\":0,\"ticks\":\"\"},\"colorscale\":[[0.0,\"#0d0887\"],[0.1111111111111111,\"#46039f\"],[0.2222222222222222,\"#7201a8\"],[0.3333333333333333,\"#9c179e\"],[0.4444444444444444,\"#bd3786\"],[0.5555555555555556,\"#d8576b\"],[0.6666666666666666,\"#ed7953\"],[0.7777777777777778,\"#fb9f3a\"],[0.8888888888888888,\"#fdca26\"],[1.0,\"#f0f921\"]]}],\"heatmap\":[{\"type\":\"heatmap\",\"colorbar\":{\"outlinewidth\":0,\"ticks\":\"\"},\"colorscale\":[[0.0,\"#0d0887\"],[0.1111111111111111,\"#46039f\"],[0.2222222222222222,\"#7201a8\"],[0.3333333333333333,\"#9c179e\"],[0.4444444444444444,\"#bd3786\"],[0.5555555555555556,\"#d8576b\"],[0.6666666666666666,\"#ed7953\"],[0.7777777777777778,\"#fb9f3a\"],[0.8888888888888888,\"#fdca26\"],[1.0,\"#f0f921\"]]}],\"heatmapgl\":[{\"type\":\"heatmapgl\",\"colorbar\":{\"outlinewidth\":0,\"ticks\":\"\"},\"colorscale\":[[0.0,\"#0d0887\"],[0.1111111111111111,\"#46039f\"],[0.2222222222222222,\"#7201a8\"],[0.3333333333333333,\"#9c179e\"],[0.4444444444444444,\"#bd3786\"],[0.5555555555555556,\"#d8576b\"],[0.6666666666666666,\"#ed7953\"],[0.7777777777777778,\"#fb9f3a\"],[0.8888888888888888,\"#fdca26\"],[1.0,\"#f0f921\"]]}],\"contourcarpet\":[{\"type\":\"contourcarpet\",\"colorbar\":{\"outlinewidth\":0,\"ticks\":\"\"}}],\"contour\":[{\"type\":\"contour\",\"colorbar\":{\"outlinewidth\":0,\"ticks\":\"\"},\"colorscale\":[[0.0,\"#0d0887\"],[0.1111111111111111,\"#46039f\"],[0.2222222222222222,\"#7201a8\"],[0.3333333333333333,\"#9c179e\"],[0.4444444444444444,\"#bd3786\"],[0.5555555555555556,\"#d8576b\"],[0.6666666666666666,\"#ed7953\"],[0.7777777777777778,\"#fb9f3a\"],[0.8888888888888888,\"#fdca26\"],[1.0,\"#f0f921\"]]}],\"surface\":[{\"type\":\"surface\",\"colorbar\":{\"outlinewidth\":0,\"ticks\":\"\"},\"colorscale\":[[0.0,\"#0d0887\"],[0.1111111111111111,\"#46039f\"],[0.2222222222222222,\"#7201a8\"],[0.3333333333333333,\"#9c179e\"],[0.4444444444444444,\"#bd3786\"],[0.5555555555555556,\"#d8576b\"],[0.6666666666666666,\"#ed7953\"],[0.7777777777777778,\"#fb9f3a\"],[0.8888888888888888,\"#fdca26\"],[1.0,\"#f0f921\"]]}],\"mesh3d\":[{\"type\":\"mesh3d\",\"colorbar\":{\"outlinewidth\":0,\"ticks\":\"\"}}],\"scatter\":[{\"fillpattern\":{\"fillmode\":\"overlay\",\"size\":10,\"solidity\":0.2},\"type\":\"scatter\"}],\"parcoords\":[{\"type\":\"parcoords\",\"line\":{\"colorbar\":{\"outlinewidth\":0,\"ticks\":\"\"}}}],\"scatterpolargl\":[{\"type\":\"scatterpolargl\",\"marker\":{\"colorbar\":{\"outlinewidth\":0,\"ticks\":\"\"}}}],\"bar\":[{\"error_x\":{\"color\":\"#2a3f5f\"},\"error_y\":{\"color\":\"#2a3f5f\"},\"marker\":{\"line\":{\"color\":\"#E5ECF6\",\"width\":0.5},\"pattern\":{\"fillmode\":\"overlay\",\"size\":10,\"solidity\":0.2}},\"type\":\"bar\"}],\"scattergeo\":[{\"type\":\"scattergeo\",\"marker\":{\"colorbar\":{\"outlinewidth\":0,\"ticks\":\"\"}}}],\"scatterpolar\":[{\"type\":\"scatterpolar\",\"marker\":{\"colorbar\":{\"outlinewidth\":0,\"ticks\":\"\"}}}],\"histogram\":[{\"marker\":{\"pattern\":{\"fillmode\":\"overlay\",\"size\":10,\"solidity\":0.2}},\"type\":\"histogram\"}],\"scattergl\":[{\"type\":\"scattergl\",\"marker\":{\"colorbar\":{\"outlinewidth\":0,\"ticks\":\"\"}}}],\"scatter3d\":[{\"type\":\"scatter3d\",\"line\":{\"colorbar\":{\"outlinewidth\":0,\"ticks\":\"\"}},\"marker\":{\"colorbar\":{\"outlinewidth\":0,\"ticks\":\"\"}}}],\"scattermapbox\":[{\"type\":\"scattermapbox\",\"marker\":{\"colorbar\":{\"outlinewidth\":0,\"ticks\":\"\"}}}],\"scatterternary\":[{\"type\":\"scatterternary\",\"marker\":{\"colorbar\":{\"outlinewidth\":0,\"ticks\":\"\"}}}],\"scattercarpet\":[{\"type\":\"scattercarpet\",\"marker\":{\"colorbar\":{\"outlinewidth\":0,\"ticks\":\"\"}}}],\"carpet\":[{\"aaxis\":{\"endlinecolor\":\"#2a3f5f\",\"gridcolor\":\"white\",\"linecolor\":\"white\",\"minorgridcolor\":\"white\",\"startlinecolor\":\"#2a3f5f\"},\"baxis\":{\"endlinecolor\":\"#2a3f5f\",\"gridcolor\":\"white\",\"linecolor\":\"white\",\"minorgridcolor\":\"white\",\"startlinecolor\":\"#2a3f5f\"},\"type\":\"carpet\"}],\"table\":[{\"cells\":{\"fill\":{\"color\":\"#EBF0F8\"},\"line\":{\"color\":\"white\"}},\"header\":{\"fill\":{\"color\":\"#C8D4E3\"},\"line\":{\"color\":\"white\"}},\"type\":\"table\"}],\"barpolar\":[{\"marker\":{\"line\":{\"color\":\"#E5ECF6\",\"width\":0.5},\"pattern\":{\"fillmode\":\"overlay\",\"size\":10,\"solidity\":0.2}},\"type\":\"barpolar\"}],\"pie\":[{\"automargin\":true,\"type\":\"pie\"}]},\"layout\":{\"autotypenumbers\":\"strict\",\"colorway\":[\"#636efa\",\"#EF553B\",\"#00cc96\",\"#ab63fa\",\"#FFA15A\",\"#19d3f3\",\"#FF6692\",\"#B6E880\",\"#FF97FF\",\"#FECB52\"],\"font\":{\"color\":\"#2a3f5f\"},\"hovermode\":\"closest\",\"hoverlabel\":{\"align\":\"left\"},\"paper_bgcolor\":\"white\",\"plot_bgcolor\":\"#E5ECF6\",\"polar\":{\"bgcolor\":\"#E5ECF6\",\"angularaxis\":{\"gridcolor\":\"white\",\"linecolor\":\"white\",\"ticks\":\"\"},\"radialaxis\":{\"gridcolor\":\"white\",\"linecolor\":\"white\",\"ticks\":\"\"}},\"ternary\":{\"bgcolor\":\"#E5ECF6\",\"aaxis\":{\"gridcolor\":\"white\",\"linecolor\":\"white\",\"ticks\":\"\"},\"baxis\":{\"gridcolor\":\"white\",\"linecolor\":\"white\",\"ticks\":\"\"},\"caxis\":{\"gridcolor\":\"white\",\"linecolor\":\"white\",\"ticks\":\"\"}},\"coloraxis\":{\"colorbar\":{\"outlinewidth\":0,\"ticks\":\"\"}},\"colorscale\":{\"sequential\":[[0.0,\"#0d0887\"],[0.1111111111111111,\"#46039f\"],[0.2222222222222222,\"#7201a8\"],[0.3333333333333333,\"#9c179e\"],[0.4444444444444444,\"#bd3786\"],[0.5555555555555556,\"#d8576b\"],[0.6666666666666666,\"#ed7953\"],[0.7777777777777778,\"#fb9f3a\"],[0.8888888888888888,\"#fdca26\"],[1.0,\"#f0f921\"]],\"sequentialminus\":[[0.0,\"#0d0887\"],[0.1111111111111111,\"#46039f\"],[0.2222222222222222,\"#7201a8\"],[0.3333333333333333,\"#9c179e\"],[0.4444444444444444,\"#bd3786\"],[0.5555555555555556,\"#d8576b\"],[0.6666666666666666,\"#ed7953\"],[0.7777777777777778,\"#fb9f3a\"],[0.8888888888888888,\"#fdca26\"],[1.0,\"#f0f921\"]],\"diverging\":[[0,\"#8e0152\"],[0.1,\"#c51b7d\"],[0.2,\"#de77ae\"],[0.3,\"#f1b6da\"],[0.4,\"#fde0ef\"],[0.5,\"#f7f7f7\"],[0.6,\"#e6f5d0\"],[0.7,\"#b8e186\"],[0.8,\"#7fbc41\"],[0.9,\"#4d9221\"],[1,\"#276419\"]]},\"xaxis\":{\"gridcolor\":\"white\",\"linecolor\":\"white\",\"ticks\":\"\",\"title\":{\"standoff\":15},\"zerolinecolor\":\"white\",\"automargin\":true,\"zerolinewidth\":2},\"yaxis\":{\"gridcolor\":\"white\",\"linecolor\":\"white\",\"ticks\":\"\",\"title\":{\"standoff\":15},\"zerolinecolor\":\"white\",\"automargin\":true,\"zerolinewidth\":2},\"scene\":{\"xaxis\":{\"backgroundcolor\":\"#E5ECF6\",\"gridcolor\":\"white\",\"linecolor\":\"white\",\"showbackground\":true,\"ticks\":\"\",\"zerolinecolor\":\"white\",\"gridwidth\":2},\"yaxis\":{\"backgroundcolor\":\"#E5ECF6\",\"gridcolor\":\"white\",\"linecolor\":\"white\",\"showbackground\":true,\"ticks\":\"\",\"zerolinecolor\":\"white\",\"gridwidth\":2},\"zaxis\":{\"backgroundcolor\":\"#E5ECF6\",\"gridcolor\":\"white\",\"linecolor\":\"white\",\"showbackground\":true,\"ticks\":\"\",\"zerolinecolor\":\"white\",\"gridwidth\":2}},\"shapedefaults\":{\"line\":{\"color\":\"#2a3f5f\"}},\"annotationdefaults\":{\"arrowcolor\":\"#2a3f5f\",\"arrowhead\":0,\"arrowwidth\":1},\"geo\":{\"bgcolor\":\"white\",\"landcolor\":\"#E5ECF6\",\"subunitcolor\":\"white\",\"showland\":true,\"showlakes\":true,\"lakecolor\":\"white\"},\"title\":{\"x\":0.05},\"mapbox\":{\"style\":\"light\"}}},\"scene\":{\"domain\":{\"x\":[0.0,1.0],\"y\":[0.0,1.0]},\"xaxis\":{\"title\":{\"text\":\"Year\"}},\"yaxis\":{\"title\":{\"text\":\"Migration Value\"}},\"zaxis\":{\"title\":{\"text\":\"Migration Value\"}}},\"coloraxis\":{\"colorbar\":{\"title\":{\"text\":\"Cluster\"}},\"colorscale\":[[0.0,\"#0d0887\"],[0.1111111111111111,\"#46039f\"],[0.2222222222222222,\"#7201a8\"],[0.3333333333333333,\"#9c179e\"],[0.4444444444444444,\"#bd3786\"],[0.5555555555555556,\"#d8576b\"],[0.6666666666666666,\"#ed7953\"],[0.7777777777777778,\"#fb9f3a\"],[0.8888888888888888,\"#fdca26\"],[1.0,\"#f0f921\"]]},\"legend\":{\"tracegroupgap\":0},\"title\":{\"text\":\"3D Scatter Plot of K-Means Clustering\"}},                        {\"responsive\": true}                    ).then(function(){\n",
              "                            \n",
              "var gd = document.getElementById('11cbeb8b-c899-47b7-94cf-2f65342e38fa');\n",
              "var x = new MutationObserver(function (mutations, observer) {{\n",
              "        var display = window.getComputedStyle(gd).display;\n",
              "        if (!display || display === 'none') {{\n",
              "            console.log([gd, 'removed!']);\n",
              "            Plotly.purge(gd);\n",
              "            observer.disconnect();\n",
              "        }}\n",
              "}});\n",
              "\n",
              "// Listen for the removal of the full notebook cells\n",
              "var notebookContainer = gd.closest('#notebook-container');\n",
              "if (notebookContainer) {{\n",
              "    x.observe(notebookContainer, {childList: true});\n",
              "}}\n",
              "\n",
              "// Listen for the clearing of the current output cell\n",
              "var outputEl = gd.closest('.output');\n",
              "if (outputEl) {{\n",
              "    x.observe(outputEl, {childList: true});\n",
              "}}\n",
              "\n",
              "                        })                };                            </script>        </div>\n",
              "</body>\n",
              "</html>"
            ]
          },
          "metadata": {}
        }
      ]
    }
  ]
}