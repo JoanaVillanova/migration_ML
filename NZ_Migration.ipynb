{
  "nbformat": 4,
  "nbformat_minor": 0,
  "metadata": {
    "colab": {
      "provenance": [],
      "authorship_tag": "ABX9TyNqkXh/ZSHOUjU+Tkt/yhLi",
      "include_colab_link": true
    },
    "kernelspec": {
      "name": "python3",
      "display_name": "Python 3"
    },
    "language_info": {
      "name": "python"
    }
  },
  "cells": [
    {
      "cell_type": "markdown",
      "metadata": {
        "id": "view-in-github",
        "colab_type": "text"
      },
      "source": [
        "<a href=\"https://colab.research.google.com/github/TahminaAnondi/migration_ML/blob/main/NZ_Migration.ipynb\" target=\"_parent\"><img src=\"https://colab.research.google.com/assets/colab-badge.svg\" alt=\"Open In Colab\"/></a>"
      ]
    },
    {
      "cell_type": "markdown",
      "source": [
        "#**Import the libraries.**"
      ],
      "metadata": {
        "id": "vqwEr0YtEYAW"
      }
    },
    {
      "cell_type": "code",
      "source": [
        "import pandas as pd\n",
        "from sklearn.model_selection import train_test_split\n",
        "#from sklearn import svm # it is a supervised machine learning algorithm used for classification and regression tasks.\n",
        "import seaborn as sns\n",
        "import matplotlib.pyplot as plt\n",
        "#from sklearn.metrics import mean_squared_error\n",
        "import numpy as np\n",
        "from sklearn.ensemble import RandomForestRegressor #It's based on the idea of constructing multiple decision trees during training and combining their predictions to improve accuracy and reduce overfitting.\n",
        "import plotly.express as px"
      ],
      "metadata": {
        "id": "JmmpBSDIEXEx"
      },
      "execution_count": 187,
      "outputs": []
    },
    {
      "cell_type": "markdown",
      "source": [
        "#Load the Data"
      ],
      "metadata": {
        "id": "2DhqJLjzEmpK"
      }
    },
    {
      "cell_type": "code",
      "source": [
        "migration = pd.read_csv('migration_nz.csv')\n",
        "migration.head()"
      ],
      "metadata": {
        "colab": {
          "base_uri": "https://localhost:8080/",
          "height": 0
        },
        "id": "TcMtQZACEnea",
        "outputId": "4c208426-6944-47bc-e875-d77dec6ece43"
      },
      "execution_count": 188,
      "outputs": [
        {
          "output_type": "execute_result",
          "data": {
            "text/plain": [
              "    Measure     Country             Citizenship  Year    Value\n",
              "0  Arrivals     Oceania     New Zealand Citizen  1979  11817.0\n",
              "1  Arrivals     Oceania      Australian Citizen  1979   4436.0\n",
              "2  Arrivals     Oceania  Total All Citizenships  1979  19965.0\n",
              "3  Arrivals  Antarctica     New Zealand Citizen  1979     10.0\n",
              "4  Arrivals  Antarctica      Australian Citizen  1979      0.0"
            ],
            "text/html": [
              "\n",
              "  <div id=\"df-3f9a2ef2-9a71-4da8-834f-abc9b01b9edd\" class=\"colab-df-container\">\n",
              "    <div>\n",
              "<style scoped>\n",
              "    .dataframe tbody tr th:only-of-type {\n",
              "        vertical-align: middle;\n",
              "    }\n",
              "\n",
              "    .dataframe tbody tr th {\n",
              "        vertical-align: top;\n",
              "    }\n",
              "\n",
              "    .dataframe thead th {\n",
              "        text-align: right;\n",
              "    }\n",
              "</style>\n",
              "<table border=\"1\" class=\"dataframe\">\n",
              "  <thead>\n",
              "    <tr style=\"text-align: right;\">\n",
              "      <th></th>\n",
              "      <th>Measure</th>\n",
              "      <th>Country</th>\n",
              "      <th>Citizenship</th>\n",
              "      <th>Year</th>\n",
              "      <th>Value</th>\n",
              "    </tr>\n",
              "  </thead>\n",
              "  <tbody>\n",
              "    <tr>\n",
              "      <th>0</th>\n",
              "      <td>Arrivals</td>\n",
              "      <td>Oceania</td>\n",
              "      <td>New Zealand Citizen</td>\n",
              "      <td>1979</td>\n",
              "      <td>11817.0</td>\n",
              "    </tr>\n",
              "    <tr>\n",
              "      <th>1</th>\n",
              "      <td>Arrivals</td>\n",
              "      <td>Oceania</td>\n",
              "      <td>Australian Citizen</td>\n",
              "      <td>1979</td>\n",
              "      <td>4436.0</td>\n",
              "    </tr>\n",
              "    <tr>\n",
              "      <th>2</th>\n",
              "      <td>Arrivals</td>\n",
              "      <td>Oceania</td>\n",
              "      <td>Total All Citizenships</td>\n",
              "      <td>1979</td>\n",
              "      <td>19965.0</td>\n",
              "    </tr>\n",
              "    <tr>\n",
              "      <th>3</th>\n",
              "      <td>Arrivals</td>\n",
              "      <td>Antarctica</td>\n",
              "      <td>New Zealand Citizen</td>\n",
              "      <td>1979</td>\n",
              "      <td>10.0</td>\n",
              "    </tr>\n",
              "    <tr>\n",
              "      <th>4</th>\n",
              "      <td>Arrivals</td>\n",
              "      <td>Antarctica</td>\n",
              "      <td>Australian Citizen</td>\n",
              "      <td>1979</td>\n",
              "      <td>0.0</td>\n",
              "    </tr>\n",
              "  </tbody>\n",
              "</table>\n",
              "</div>\n",
              "    <div class=\"colab-df-buttons\">\n",
              "\n",
              "  <div class=\"colab-df-container\">\n",
              "    <button class=\"colab-df-convert\" onclick=\"convertToInteractive('df-3f9a2ef2-9a71-4da8-834f-abc9b01b9edd')\"\n",
              "            title=\"Convert this dataframe to an interactive table.\"\n",
              "            style=\"display:none;\">\n",
              "\n",
              "  <svg xmlns=\"http://www.w3.org/2000/svg\" height=\"24px\" viewBox=\"0 -960 960 960\">\n",
              "    <path d=\"M120-120v-720h720v720H120Zm60-500h600v-160H180v160Zm220 220h160v-160H400v160Zm0 220h160v-160H400v160ZM180-400h160v-160H180v160Zm440 0h160v-160H620v160ZM180-180h160v-160H180v160Zm440 0h160v-160H620v160Z\"/>\n",
              "  </svg>\n",
              "    </button>\n",
              "\n",
              "  <style>\n",
              "    .colab-df-container {\n",
              "      display:flex;\n",
              "      gap: 12px;\n",
              "    }\n",
              "\n",
              "    .colab-df-convert {\n",
              "      background-color: #E8F0FE;\n",
              "      border: none;\n",
              "      border-radius: 50%;\n",
              "      cursor: pointer;\n",
              "      display: none;\n",
              "      fill: #1967D2;\n",
              "      height: 32px;\n",
              "      padding: 0 0 0 0;\n",
              "      width: 32px;\n",
              "    }\n",
              "\n",
              "    .colab-df-convert:hover {\n",
              "      background-color: #E2EBFA;\n",
              "      box-shadow: 0px 1px 2px rgba(60, 64, 67, 0.3), 0px 1px 3px 1px rgba(60, 64, 67, 0.15);\n",
              "      fill: #174EA6;\n",
              "    }\n",
              "\n",
              "    .colab-df-buttons div {\n",
              "      margin-bottom: 4px;\n",
              "    }\n",
              "\n",
              "    [theme=dark] .colab-df-convert {\n",
              "      background-color: #3B4455;\n",
              "      fill: #D2E3FC;\n",
              "    }\n",
              "\n",
              "    [theme=dark] .colab-df-convert:hover {\n",
              "      background-color: #434B5C;\n",
              "      box-shadow: 0px 1px 3px 1px rgba(0, 0, 0, 0.15);\n",
              "      filter: drop-shadow(0px 1px 2px rgba(0, 0, 0, 0.3));\n",
              "      fill: #FFFFFF;\n",
              "    }\n",
              "  </style>\n",
              "\n",
              "    <script>\n",
              "      const buttonEl =\n",
              "        document.querySelector('#df-3f9a2ef2-9a71-4da8-834f-abc9b01b9edd button.colab-df-convert');\n",
              "      buttonEl.style.display =\n",
              "        google.colab.kernel.accessAllowed ? 'block' : 'none';\n",
              "\n",
              "      async function convertToInteractive(key) {\n",
              "        const element = document.querySelector('#df-3f9a2ef2-9a71-4da8-834f-abc9b01b9edd');\n",
              "        const dataTable =\n",
              "          await google.colab.kernel.invokeFunction('convertToInteractive',\n",
              "                                                    [key], {});\n",
              "        if (!dataTable) return;\n",
              "\n",
              "        const docLinkHtml = 'Like what you see? Visit the ' +\n",
              "          '<a target=\"_blank\" href=https://colab.research.google.com/notebooks/data_table.ipynb>data table notebook</a>'\n",
              "          + ' to learn more about interactive tables.';\n",
              "        element.innerHTML = '';\n",
              "        dataTable['output_type'] = 'display_data';\n",
              "        await google.colab.output.renderOutput(dataTable, element);\n",
              "        const docLink = document.createElement('div');\n",
              "        docLink.innerHTML = docLinkHtml;\n",
              "        element.appendChild(docLink);\n",
              "      }\n",
              "    </script>\n",
              "  </div>\n",
              "\n",
              "\n",
              "<div id=\"df-8d4791c7-bebc-4b56-bce1-e956c970dba6\">\n",
              "  <button class=\"colab-df-quickchart\" onclick=\"quickchart('df-8d4791c7-bebc-4b56-bce1-e956c970dba6')\"\n",
              "            title=\"Suggest charts\"\n",
              "            style=\"display:none;\">\n",
              "\n",
              "<svg xmlns=\"http://www.w3.org/2000/svg\" height=\"24px\"viewBox=\"0 0 24 24\"\n",
              "     width=\"24px\">\n",
              "    <g>\n",
              "        <path d=\"M19 3H5c-1.1 0-2 .9-2 2v14c0 1.1.9 2 2 2h14c1.1 0 2-.9 2-2V5c0-1.1-.9-2-2-2zM9 17H7v-7h2v7zm4 0h-2V7h2v10zm4 0h-2v-4h2v4z\"/>\n",
              "    </g>\n",
              "</svg>\n",
              "  </button>\n",
              "\n",
              "<style>\n",
              "  .colab-df-quickchart {\n",
              "      --bg-color: #E8F0FE;\n",
              "      --fill-color: #1967D2;\n",
              "      --hover-bg-color: #E2EBFA;\n",
              "      --hover-fill-color: #174EA6;\n",
              "      --disabled-fill-color: #AAA;\n",
              "      --disabled-bg-color: #DDD;\n",
              "  }\n",
              "\n",
              "  [theme=dark] .colab-df-quickchart {\n",
              "      --bg-color: #3B4455;\n",
              "      --fill-color: #D2E3FC;\n",
              "      --hover-bg-color: #434B5C;\n",
              "      --hover-fill-color: #FFFFFF;\n",
              "      --disabled-bg-color: #3B4455;\n",
              "      --disabled-fill-color: #666;\n",
              "  }\n",
              "\n",
              "  .colab-df-quickchart {\n",
              "    background-color: var(--bg-color);\n",
              "    border: none;\n",
              "    border-radius: 50%;\n",
              "    cursor: pointer;\n",
              "    display: none;\n",
              "    fill: var(--fill-color);\n",
              "    height: 32px;\n",
              "    padding: 0;\n",
              "    width: 32px;\n",
              "  }\n",
              "\n",
              "  .colab-df-quickchart:hover {\n",
              "    background-color: var(--hover-bg-color);\n",
              "    box-shadow: 0 1px 2px rgba(60, 64, 67, 0.3), 0 1px 3px 1px rgba(60, 64, 67, 0.15);\n",
              "    fill: var(--button-hover-fill-color);\n",
              "  }\n",
              "\n",
              "  .colab-df-quickchart-complete:disabled,\n",
              "  .colab-df-quickchart-complete:disabled:hover {\n",
              "    background-color: var(--disabled-bg-color);\n",
              "    fill: var(--disabled-fill-color);\n",
              "    box-shadow: none;\n",
              "  }\n",
              "\n",
              "  .colab-df-spinner {\n",
              "    border: 2px solid var(--fill-color);\n",
              "    border-color: transparent;\n",
              "    border-bottom-color: var(--fill-color);\n",
              "    animation:\n",
              "      spin 1s steps(1) infinite;\n",
              "  }\n",
              "\n",
              "  @keyframes spin {\n",
              "    0% {\n",
              "      border-color: transparent;\n",
              "      border-bottom-color: var(--fill-color);\n",
              "      border-left-color: var(--fill-color);\n",
              "    }\n",
              "    20% {\n",
              "      border-color: transparent;\n",
              "      border-left-color: var(--fill-color);\n",
              "      border-top-color: var(--fill-color);\n",
              "    }\n",
              "    30% {\n",
              "      border-color: transparent;\n",
              "      border-left-color: var(--fill-color);\n",
              "      border-top-color: var(--fill-color);\n",
              "      border-right-color: var(--fill-color);\n",
              "    }\n",
              "    40% {\n",
              "      border-color: transparent;\n",
              "      border-right-color: var(--fill-color);\n",
              "      border-top-color: var(--fill-color);\n",
              "    }\n",
              "    60% {\n",
              "      border-color: transparent;\n",
              "      border-right-color: var(--fill-color);\n",
              "    }\n",
              "    80% {\n",
              "      border-color: transparent;\n",
              "      border-right-color: var(--fill-color);\n",
              "      border-bottom-color: var(--fill-color);\n",
              "    }\n",
              "    90% {\n",
              "      border-color: transparent;\n",
              "      border-bottom-color: var(--fill-color);\n",
              "    }\n",
              "  }\n",
              "</style>\n",
              "\n",
              "  <script>\n",
              "    async function quickchart(key) {\n",
              "      const quickchartButtonEl =\n",
              "        document.querySelector('#' + key + ' button');\n",
              "      quickchartButtonEl.disabled = true;  // To prevent multiple clicks.\n",
              "      quickchartButtonEl.classList.add('colab-df-spinner');\n",
              "      try {\n",
              "        const charts = await google.colab.kernel.invokeFunction(\n",
              "            'suggestCharts', [key], {});\n",
              "      } catch (error) {\n",
              "        console.error('Error during call to suggestCharts:', error);\n",
              "      }\n",
              "      quickchartButtonEl.classList.remove('colab-df-spinner');\n",
              "      quickchartButtonEl.classList.add('colab-df-quickchart-complete');\n",
              "    }\n",
              "    (() => {\n",
              "      let quickchartButtonEl =\n",
              "        document.querySelector('#df-8d4791c7-bebc-4b56-bce1-e956c970dba6 button');\n",
              "      quickchartButtonEl.style.display =\n",
              "        google.colab.kernel.accessAllowed ? 'block' : 'none';\n",
              "    })();\n",
              "  </script>\n",
              "</div>\n",
              "    </div>\n",
              "  </div>\n"
            ]
          },
          "metadata": {},
          "execution_count": 188
        }
      ]
    },
    {
      "cell_type": "markdown",
      "source": [
        "## **Data** preprocessing"
      ],
      "metadata": {
        "id": "Uuwb48EqEuZj"
      }
    },
    {
      "cell_type": "code",
      "source": [
        "#continents_to_exclude = ['Antarctica', 'Asia', 'Europe', 'North America', 'Antarctica','South America','Oceania','All countries','Not stated']\n",
        "#migration_filtered = migration[~migration['Country'].isin(continents_to_exclude)]\n",
        "# List of countries to keep\n",
        "countries_to_keep = ['USA', 'India','Brazil','Bangladesh','Nigeria']\n",
        "\n",
        "# Filter out rows where the 'Country' column is not in the list of countries to keep\n",
        "migration_filtered_for_UIBBN = migration[migration['Country'].isin(countries_to_keep)]\n",
        "\n",
        "#List of measure to keep\n",
        "measure_to_keep = ['Net']\n",
        "\n",
        "# Filter out rows where the 'Country' column is not in the list of countries to keep\n",
        "migration_filtered_for_UIBBN = migration_filtered_for_UIBBN[migration_filtered_for_UIBBN['Measure'].isin(measure_to_keep)]\n",
        "\n",
        "print(migration_filtered_for_UIBBN)"
      ],
      "metadata": {
        "colab": {
          "base_uri": "https://localhost:8080/"
        },
        "id": "GLLfCOKaEw_4",
        "outputId": "51b1b35f-fbf3-4ec3-d280-7443c51e1316"
      },
      "execution_count": 189,
      "outputs": [
        {
          "output_type": "stream",
          "name": "stdout",
          "text": [
            "      Measure     Country             Citizenship  Year   Value\n",
            "1620      Net  Bangladesh     New Zealand Citizen  1979    -2.0\n",
            "1621      Net  Bangladesh      Australian Citizen  1979     0.0\n",
            "1622      Net  Bangladesh  Total All Citizenships  1979    -6.0\n",
            "1641      Net       India     New Zealand Citizen  1979   -65.0\n",
            "1642      Net       India      Australian Citizen  1979    -4.0\n",
            "...       ...         ...                     ...   ...     ...\n",
            "86275     Net         USA      Australian Citizen  2016     0.0\n",
            "86276     Net         USA  Total All Citizenships  2016  1286.0\n",
            "86433     Net     Nigeria     New Zealand Citizen  2016     5.0\n",
            "86434     Net     Nigeria      Australian Citizen  2016     0.0\n",
            "86435     Net     Nigeria  Total All Citizenships  2016    64.0\n",
            "\n",
            "[570 rows x 5 columns]\n"
          ]
        }
      ]
    },
    {
      "cell_type": "markdown",
      "source": [
        "# Replacing 'Total All Citizenships' to 'other citizenship'"
      ],
      "metadata": {
        "id": "r79ITwhkE8Fm"
      }
    },
    {
      "cell_type": "code",
      "source": [
        "\n",
        "migration_filtered_for_UIBBN.loc[migration['Citizenship'] == 'Total All Citizenships', 'Citizenship'] = 'Other citizenship'\n"
      ],
      "metadata": {
        "id": "-bvJJ-3eE9EP"
      },
      "execution_count": 190,
      "outputs": []
    },
    {
      "cell_type": "code",
      "source": [
        "migration_filtered_for_UIBBN.to_csv('filtered_migration_data.csv', index=False)"
      ],
      "metadata": {
        "id": "iM4-DDI4FE6g"
      },
      "execution_count": 191,
      "outputs": []
    },
    {
      "cell_type": "code",
      "source": [
        "print(migration_filtered_for_UIBBN)"
      ],
      "metadata": {
        "colab": {
          "base_uri": "https://localhost:8080/"
        },
        "id": "X0gmUEQyFMpH",
        "outputId": "a12fc6bd-8261-4173-eda5-31dce2a59471"
      },
      "execution_count": 192,
      "outputs": [
        {
          "output_type": "stream",
          "name": "stdout",
          "text": [
            "      Measure     Country          Citizenship  Year   Value\n",
            "1620      Net  Bangladesh  New Zealand Citizen  1979    -2.0\n",
            "1621      Net  Bangladesh   Australian Citizen  1979     0.0\n",
            "1622      Net  Bangladesh    Other citizenship  1979    -6.0\n",
            "1641      Net       India  New Zealand Citizen  1979   -65.0\n",
            "1642      Net       India   Australian Citizen  1979    -4.0\n",
            "...       ...         ...                  ...   ...     ...\n",
            "86275     Net         USA   Australian Citizen  2016     0.0\n",
            "86276     Net         USA    Other citizenship  2016  1286.0\n",
            "86433     Net     Nigeria  New Zealand Citizen  2016     5.0\n",
            "86434     Net     Nigeria   Australian Citizen  2016     0.0\n",
            "86435     Net     Nigeria    Other citizenship  2016    64.0\n",
            "\n",
            "[570 rows x 5 columns]\n"
          ]
        }
      ]
    },
    {
      "cell_type": "markdown",
      "source": [
        "filtered_migration.info()"
      ],
      "metadata": {
        "id": "VrawTnfFFRpT"
      }
    },
    {
      "cell_type": "code",
      "source": [
        "migration_filtered_for_UIBBN.isna().sum()"
      ],
      "metadata": {
        "colab": {
          "base_uri": "https://localhost:8080/"
        },
        "id": "1-OsmQulFZ-5",
        "outputId": "de4b326c-b734-4e42-e596-6da187018ef4"
      },
      "execution_count": 193,
      "outputs": [
        {
          "output_type": "execute_result",
          "data": {
            "text/plain": [
              "Measure        0\n",
              "Country        0\n",
              "Citizenship    0\n",
              "Year           0\n",
              "Value          0\n",
              "dtype: int64"
            ]
          },
          "metadata": {},
          "execution_count": 193
        }
      ]
    },
    {
      "cell_type": "code",
      "source": [
        "migration_filtered_for_UIBBN[\"Value\"].fillna(migration_filtered_for_UIBBN[\"Value\"].median(),inplace=True)\n",
        "migration_filtered_for_UIBBN.isna().sum()"
      ],
      "metadata": {
        "colab": {
          "base_uri": "https://localhost:8080/"
        },
        "id": "lxmWxJpoFdud",
        "outputId": "b1f02382-bb22-4d05-dec4-38586a164033"
      },
      "execution_count": 194,
      "outputs": [
        {
          "output_type": "execute_result",
          "data": {
            "text/plain": [
              "Measure        0\n",
              "Country        0\n",
              "Citizenship    0\n",
              "Year           0\n",
              "Value          0\n",
              "dtype: int64"
            ]
          },
          "metadata": {},
          "execution_count": 194
        }
      ]
    },
    {
      "cell_type": "code",
      "source": [
        "migration_filtered_for_UIBBN['Measure'].unique()"
      ],
      "metadata": {
        "colab": {
          "base_uri": "https://localhost:8080/"
        },
        "id": "i8lRzCWIFig7",
        "outputId": "bf04d47a-fd1b-478b-99cf-0c667dfaa586"
      },
      "execution_count": 195,
      "outputs": [
        {
          "output_type": "execute_result",
          "data": {
            "text/plain": [
              "array(['Net'], dtype=object)"
            ]
          },
          "metadata": {},
          "execution_count": 195
        }
      ]
    },
    {
      "cell_type": "code",
      "source": [
        "!pip install plotly"
      ],
      "metadata": {
        "colab": {
          "base_uri": "https://localhost:8080/"
        },
        "id": "FgqZcaHzFz-q",
        "outputId": "4a294f5d-4242-451e-a9a4-dbed661eb598"
      },
      "execution_count": 196,
      "outputs": [
        {
          "output_type": "stream",
          "name": "stdout",
          "text": [
            "Requirement already satisfied: plotly in /usr/local/lib/python3.10/dist-packages (5.15.0)\n",
            "Requirement already satisfied: tenacity>=6.2.0 in /usr/local/lib/python3.10/dist-packages (from plotly) (8.2.3)\n",
            "Requirement already satisfied: packaging in /usr/local/lib/python3.10/dist-packages (from plotly) (23.2)\n"
          ]
        }
      ]
    },
    {
      "cell_type": "code",
      "source": [
        "migration_filtered_for_UIBBN.isna().sum()"
      ],
      "metadata": {
        "colab": {
          "base_uri": "https://localhost:8080/"
        },
        "id": "XrO8exyMHSAv",
        "outputId": "ab69dea4-d05b-4702-9aaa-32044115369f"
      },
      "execution_count": 197,
      "outputs": [
        {
          "output_type": "execute_result",
          "data": {
            "text/plain": [
              "Measure        0\n",
              "Country        0\n",
              "Citizenship    0\n",
              "Year           0\n",
              "Value          0\n",
              "dtype: int64"
            ]
          },
          "metadata": {},
          "execution_count": 197
        }
      ]
    },
    {
      "cell_type": "code",
      "source": [
        "migration_filtered_for_UIBBN[\"Value\"].fillna(migration_filtered_for_UIBBN[\"Value\"].median(),inplace=True)\n",
        "migration_filtered_for_UIBBN.isna().sum()"
      ],
      "metadata": {
        "colab": {
          "base_uri": "https://localhost:8080/"
        },
        "id": "0wfSQwmp0NzS",
        "outputId": "84f3377d-6a12-4bbb-e402-2a4972d39b37"
      },
      "execution_count": 198,
      "outputs": [
        {
          "output_type": "execute_result",
          "data": {
            "text/plain": [
              "Measure        0\n",
              "Country        0\n",
              "Citizenship    0\n",
              "Year           0\n",
              "Value          0\n",
              "dtype: int64"
            ]
          },
          "metadata": {},
          "execution_count": 198
        }
      ]
    },
    {
      "cell_type": "code",
      "source": [
        "migration_filtered_for_UIBBN['Citizenship'].unique()"
      ],
      "metadata": {
        "colab": {
          "base_uri": "https://localhost:8080/"
        },
        "id": "5mXQgrQA3GwZ",
        "outputId": "a9d82027-276e-424f-db4e-f39f39af2963"
      },
      "execution_count": 199,
      "outputs": [
        {
          "output_type": "execute_result",
          "data": {
            "text/plain": [
              "array(['New Zealand Citizen', 'Australian Citizen', 'Other citizenship'],\n",
              "      dtype=object)"
            ]
          },
          "metadata": {},
          "execution_count": 199
        }
      ]
    },
    {
      "cell_type": "code",
      "source": [
        "# Factorize the 'Country' and 'Citizenship' columns for numerical representation\n",
        "migration_filtered_for_UIBBN['Country'] = pd.factorize(migration_filtered_for_UIBBN.Country)[0]\n",
        "migration_filtered_for_UIBBN['Measure'] = pd.factorize(migration_filtered_for_UIBBN.Measure)[0]\n",
        "migration_filtered_for_UIBBN['Citizenship'] = pd.factorize(migration_filtered_for_UIBBN.Citizenship)[0]\n",
        "\n"
      ],
      "metadata": {
        "id": "J1SGV-MLIGrd"
      },
      "execution_count": 200,
      "outputs": []
    },
    {
      "cell_type": "code",
      "source": [
        "x_data = migration_filtered_for_UIBBN[['Country','Citizenship','Measure','Year']]\n",
        "y_data = migration_filtered_for_UIBBN['Value']"
      ],
      "metadata": {
        "id": "FcWYGllFIspj"
      },
      "execution_count": 201,
      "outputs": []
    },
    {
      "cell_type": "code",
      "source": [
        "x_training_data, x_test_data, y_training_data, y_test_data = train_test_split(x_data, y_data, test_size = 0.30, random_state=9)\n"
      ],
      "metadata": {
        "id": "MEElOjKDIvOG"
      },
      "execution_count": 202,
      "outputs": []
    },
    {
      "cell_type": "markdown",
      "source": [
        "#**Random Forest Regression**"
      ],
      "metadata": {
        "id": "j-8UVwMEHrdq"
      }
    },
    {
      "cell_type": "code",
      "source": [
        "model_rf = RandomForestRegressor(n_estimators=70,max_features = 3,max_depth=5,n_jobs=-1)\n",
        "# Train the model on the training data.\n",
        "print(y_training_data)\n",
        "model_rf.fit(x_training_data, y_training_data)\n",
        "# Make predictions on the test data.\n",
        "predictions_rf = model_rf.predict(x_test_data)"
      ],
      "metadata": {
        "colab": {
          "base_uri": "https://localhost:8080/"
        },
        "id": "C_nbE9StHsIr",
        "outputId": "a9e9e5aa-a9fc-4645-9b1d-3a37886b466f"
      },
      "execution_count": 203,
      "outputs": [
        {
          "output_type": "stream",
          "name": "stdout",
          "text": [
            "43171      0.0\n",
            "49722     -8.0\n",
            "35796    -14.0\n",
            "6175       0.0\n",
            "79604     28.0\n",
            "         ...  \n",
            "19859    139.0\n",
            "8858     350.0\n",
            "77046    -14.0\n",
            "54012      7.0\n",
            "58831     -1.0\n",
            "Name: Value, Length: 399, dtype: float64\n"
          ]
        }
      ]
    },
    {
      "cell_type": "code",
      "source": [
        "model_rf.score(x_test_data, y_test_data)"
      ],
      "metadata": {
        "colab": {
          "base_uri": "https://localhost:8080/"
        },
        "id": "yR9PCnm7Hz1u",
        "outputId": "a3e66652-6597-43c3-e67d-9c4911408af4"
      },
      "execution_count": 204,
      "outputs": [
        {
          "output_type": "execute_result",
          "data": {
            "text/plain": [
              "0.5698927950658593"
            ]
          },
          "metadata": {},
          "execution_count": 204
        }
      ]
    },
    {
      "cell_type": "code",
      "source": [
        "from sklearn.metrics import mean_squared_error\n",
        "\n",
        "# Calculate Mean Squared Error\n",
        "mse_rf = mean_squared_error(y_test_data, predictions_rf)\n",
        "\n",
        "print(f\"Mean Squared Error of Random Forest Regression: {mse_rf}\")\n"
      ],
      "metadata": {
        "colab": {
          "base_uri": "https://localhost:8080/"
        },
        "id": "-sUnZGInH0Kx",
        "outputId": "e6198b17-c29b-46e3-8a2c-9c3f5b8b66f9"
      },
      "execution_count": 205,
      "outputs": [
        {
          "output_type": "stream",
          "name": "stdout",
          "text": [
            "Mean Squared Error of Random Forest Regression: 191781.1950219158\n"
          ]
        }
      ]
    },
    {
      "cell_type": "markdown",
      "source": [
        "#**Logistic Regression**\n"
      ],
      "metadata": {
        "id": "fSByKSkHJWy5"
      }
    },
    {
      "cell_type": "code",
      "source": [
        "from sklearn.linear_model import LogisticRegression\n",
        "from sklearn.metrics import accuracy_score, classification_report, confusion_matrix\n",
        "# Initialize and train the Logistic Regression model\n",
        "logreg_model = LogisticRegression(random_state=42)\n",
        "logreg_model.fit(x_training_data, y_training_data)\n",
        "\n",
        "# Make predictions on the test set\n",
        "y_pred = logreg_model.predict(x_test_data)\n",
        "\n",
        "# Evaluate the model\n",
        "accuracy = accuracy_score(y_test_data, y_pred)\n",
        "conf_matrix = confusion_matrix(y_test_data, y_pred)\n",
        "classification_rep = classification_report(y_test_data, y_pred)\n",
        "\n",
        "print(f\"Accuracy: {accuracy:.2f}\")\n",
        "#print(\"Confusion Matrix:\")\n",
        "#print(conf_matrix)\n",
        "#print(\"Classification Report:\")\n",
        "#print(classification_rep)"
      ],
      "metadata": {
        "colab": {
          "base_uri": "https://localhost:8080/"
        },
        "id": "IWZrJ8LoJXpQ",
        "outputId": "28a92e75-472c-44d6-82ee-dac5d8f94086"
      },
      "execution_count": 206,
      "outputs": [
        {
          "output_type": "stream",
          "name": "stdout",
          "text": [
            "Accuracy: 0.15\n"
          ]
        },
        {
          "output_type": "stream",
          "name": "stderr",
          "text": [
            "/usr/local/lib/python3.10/dist-packages/sklearn/linear_model/_logistic.py:458: ConvergenceWarning:\n",
            "\n",
            "lbfgs failed to converge (status=1):\n",
            "STOP: TOTAL NO. of ITERATIONS REACHED LIMIT.\n",
            "\n",
            "Increase the number of iterations (max_iter) or scale the data as shown in:\n",
            "    https://scikit-learn.org/stable/modules/preprocessing.html\n",
            "Please also refer to the documentation for alternative solver options:\n",
            "    https://scikit-learn.org/stable/modules/linear_model.html#logistic-regression\n",
            "\n",
            "/usr/local/lib/python3.10/dist-packages/sklearn/metrics/_classification.py:1344: UndefinedMetricWarning:\n",
            "\n",
            "Precision and F-score are ill-defined and being set to 0.0 in labels with no predicted samples. Use `zero_division` parameter to control this behavior.\n",
            "\n",
            "/usr/local/lib/python3.10/dist-packages/sklearn/metrics/_classification.py:1344: UndefinedMetricWarning:\n",
            "\n",
            "Precision and F-score are ill-defined and being set to 0.0 in labels with no predicted samples. Use `zero_division` parameter to control this behavior.\n",
            "\n",
            "/usr/local/lib/python3.10/dist-packages/sklearn/metrics/_classification.py:1344: UndefinedMetricWarning:\n",
            "\n",
            "Precision and F-score are ill-defined and being set to 0.0 in labels with no predicted samples. Use `zero_division` parameter to control this behavior.\n",
            "\n"
          ]
        }
      ]
    },
    {
      "cell_type": "markdown",
      "source": [],
      "metadata": {
        "id": "vLNjBGJAYyYM"
      }
    },
    {
      "cell_type": "code",
      "source": [
        "logreg_model.score(x_test_data, y_test_data)"
      ],
      "metadata": {
        "colab": {
          "base_uri": "https://localhost:8080/"
        },
        "id": "-mplL9rEJb0n",
        "outputId": "29b57f8a-0649-4cb8-a8ff-1f50c3e268cd"
      },
      "execution_count": 207,
      "outputs": [
        {
          "output_type": "execute_result",
          "data": {
            "text/plain": [
              "0.14619883040935672"
            ]
          },
          "metadata": {},
          "execution_count": 207
        }
      ]
    },
    {
      "cell_type": "code",
      "source": [
        "# Calculate Mean Squared Error\n",
        "mse_lr = mean_squared_error(y_test_data, y_pred)\n",
        "\n",
        "print(f\"Mean Squared Error: {mse_lr}\")"
      ],
      "metadata": {
        "colab": {
          "base_uri": "https://localhost:8080/"
        },
        "id": "6xMAdcoRJcKP",
        "outputId": "e750f554-1703-4fa4-b67b-380d16a41812"
      },
      "execution_count": 208,
      "outputs": [
        {
          "output_type": "stream",
          "name": "stdout",
          "text": [
            "Mean Squared Error: 462554.29824561405\n"
          ]
        }
      ]
    },
    {
      "cell_type": "markdown",
      "source": [
        "#**Multiple Linear Regression**"
      ],
      "metadata": {
        "id": "Nx7ln5fZJleW"
      }
    },
    {
      "cell_type": "code",
      "source": [
        "from sklearn.linear_model import LinearRegression\n",
        "from sklearn.metrics import r2_score\n",
        "# Create a linear regression model\n",
        "model_mlr = LinearRegression()\n",
        "\n",
        "# Train the model on the training data\n",
        "model_mlr.fit(x_training_data, y_training_data)\n",
        "\n",
        "# Make predictions on the test data\n",
        "predictions_mlr = model_mlr.predict(x_test_data)\n",
        "\n",
        "# Evaluate the model\n",
        "score_mlr = r2_score(y_test_data, predictions_mlr)\n",
        "\n",
        "print(f\"Multiple Linear Regression Score: {score_mlr}\")"
      ],
      "metadata": {
        "colab": {
          "base_uri": "https://localhost:8080/"
        },
        "id": "PGkcNKhGJoqs",
        "outputId": "822bf5b7-5392-4437-97f8-634be368fb7c"
      },
      "execution_count": 209,
      "outputs": [
        {
          "output_type": "stream",
          "name": "stdout",
          "text": [
            "Multiple Linear Regression Score: 0.013821407797085516\n"
          ]
        }
      ]
    },
    {
      "cell_type": "code",
      "source": [
        "# Calculate Mean Squared Error\n",
        "mse_mlr = mean_squared_error(y_test_data, predictions_mlr)\n",
        "\n",
        "print(f\"Mean Squared Error: {mse_mlr}\")"
      ],
      "metadata": {
        "colab": {
          "base_uri": "https://localhost:8080/"
        },
        "id": "Bgc43kg-Jsb3",
        "outputId": "00906abd-fa1a-45a4-a659-c0e8409048e2"
      },
      "execution_count": 210,
      "outputs": [
        {
          "output_type": "stream",
          "name": "stdout",
          "text": [
            "Mean Squared Error: 439728.7623830104\n"
          ]
        }
      ]
    },
    {
      "cell_type": "markdown",
      "source": [
        "**Grid Search**"
      ],
      "metadata": {
        "id": "ckRZ9xtwZFu8"
      }
    },
    {
      "cell_type": "code",
      "source": [
        "from sklearn.model_selection import GridSearchCV\n",
        "\n",
        "\n",
        "\n",
        "# Create a linear regression model\n",
        "model_lr = LinearRegression()\n",
        "\n",
        "# Define the parameter grid to search\n",
        "param_grid = {\n",
        "    'fit_intercept': [True, False]\n",
        "\n",
        "}\n",
        "\n",
        "# Create the GridSearchCV object\n",
        "grid_search = GridSearchCV(model_lr, param_grid, scoring='neg_mean_squared_error', cv=5)\n",
        "\n",
        "# Fit the model to the data\n",
        "grid_search.fit(x_training_data, y_training_data)\n",
        "\n",
        "# Get the best parameters\n",
        "best_params = grid_search.best_params_\n",
        "\n",
        "# Get the best model\n",
        "best_model = grid_search.best_estimator_\n",
        "\n",
        "# Make predictions on the test set\n",
        "predictions_gridSearchCV = best_model.predict(x_test_data)\n",
        "\n",
        "# Evaluate the model\n",
        "mse = mean_squared_error(y_test_data, predictions_gridSearchCV)\n",
        "print(f\"Mean Squared Error on Test Set: {mse}\")\n",
        "print(\"Best Hyperparameters:\", best_params)\n"
      ],
      "metadata": {
        "colab": {
          "base_uri": "https://localhost:8080/"
        },
        "id": "i7IgAUYsZJWC",
        "outputId": "f40c194c-6457-4233-f962-e2ea34d1c19b"
      },
      "execution_count": 211,
      "outputs": [
        {
          "output_type": "stream",
          "name": "stdout",
          "text": [
            "Mean Squared Error on Test Set: 439728.7623830104\n",
            "Best Hyperparameters: {'fit_intercept': True}\n"
          ]
        }
      ]
    },
    {
      "cell_type": "code",
      "source": [
        "r2 = r2_score(y_test_data, predictions_gridSearchCV)\n",
        "print(f\"Grid Search Score: {r2}\")"
      ],
      "metadata": {
        "colab": {
          "base_uri": "https://localhost:8080/"
        },
        "id": "w9JKzK0Ya2GU",
        "outputId": "63662d19-4eb6-4855-9d7c-29f47e791dfc"
      },
      "execution_count": 212,
      "outputs": [
        {
          "output_type": "stream",
          "name": "stdout",
          "text": [
            "Grid Search Score: 0.013821407797085516\n"
          ]
        }
      ]
    },
    {
      "cell_type": "markdown",
      "source": [
        "#**SVM Regression Model**"
      ],
      "metadata": {
        "id": "CbjpIFK2aW8n"
      }
    },
    {
      "cell_type": "code",
      "source": [
        "from sklearn.svm import SVR\n",
        "from sklearn.model_selection import train_test_split\n",
        "from sklearn.metrics import mean_squared_error\n",
        "\n",
        "\n",
        "# Create an SVM regression model\n",
        "model_svm = SVR(kernel='linear')  # You can choose different kernel functions\n",
        "\n",
        "# Train the model on the training data\n",
        "model_svm.fit(x_training_data, y_training_data)\n",
        "\n",
        "# Make predictions on the test data\n",
        "predictions_svm = model_svm.predict(x_test_data)\n",
        "# Calculate R² score\n",
        "r2_svm_score = r2_score(y_test_data, predictions_svm)\n",
        "\n",
        "# Evaluate the model\n",
        "mse_svm = mean_squared_error(y_test_data, predictions_svm)\n",
        "print(f\"Mean Squared Error on Test Set (SVM): {mse_svm}\")\n",
        "print(f\"Score of (SVM): {r2_svm_score}\")\n"
      ],
      "metadata": {
        "colab": {
          "base_uri": "https://localhost:8080/"
        },
        "id": "zEVBxlnDdQ1h",
        "outputId": "80d081ce-f470-4126-a346-dec241d56761"
      },
      "execution_count": 213,
      "outputs": [
        {
          "output_type": "stream",
          "name": "stdout",
          "text": [
            "Mean Squared Error on Test Set (SVM): 457159.9820940783\n",
            "Score of (SVM): -0.025271544917405464\n"
          ]
        }
      ]
    },
    {
      "cell_type": "markdown",
      "source": [
        "# **Gradient Boosting Regression**"
      ],
      "metadata": {
        "id": "OR43QiEuVXmn"
      }
    },
    {
      "cell_type": "code",
      "source": [
        "from sklearn.ensemble import GradientBoostingRegressor\n",
        "\n",
        "# Initialize and train the Gradient Boosting model\n",
        "gb_model = GradientBoostingRegressor(n_estimators=100, random_state=42)\n",
        "gb_model.fit(x_training_data, y_training_data)\n",
        "\n",
        "# Make predictions on the test set\n",
        "predictions_gb = gb_model.predict(x_test_data)\n",
        "\n",
        "# Evaluate the model\n",
        "mse_gb = mean_squared_error(y_test_data, predictions_gb)\n",
        "r2_gb = r2_score(y_test_data, predictions_gb)\n",
        "\n",
        "print(f\"Mean Squared Error on Test Set (Gradient Boosting): {mse_gb}\")\n",
        "print(f\"R² Score on Test Set (Gradient Boosting): {r2_gb}\")\n"
      ],
      "metadata": {
        "colab": {
          "base_uri": "https://localhost:8080/"
        },
        "id": "o459R811VYGR",
        "outputId": "0e8b4953-6b12-4612-f6dd-9cca2414f14d"
      },
      "execution_count": 214,
      "outputs": [
        {
          "output_type": "stream",
          "name": "stdout",
          "text": [
            "Mean Squared Error on Test Set (Gradient Boosting): 165352.88937454225\n",
            "R² Score on Test Set (Gradient Boosting): 0.6291634898377739\n"
          ]
        }
      ]
    },
    {
      "cell_type": "markdown",
      "source": [
        "#KNN"
      ],
      "metadata": {
        "id": "VWZAFxWrzt79"
      }
    },
    {
      "cell_type": "code",
      "source": [
        "from sklearn.neighbors import KNeighborsRegressor\n",
        "from sklearn.model_selection import train_test_split\n",
        "from sklearn.metrics import mean_squared_error, r2_score\n",
        "\n",
        "\n",
        "# Create a KNN regression model\n",
        "model_knn = KNeighborsRegressor(n_neighbors=5)  # You can choose the number of neighbors\n",
        "\n",
        "# Train the model on the training data\n",
        "model_knn.fit(x_training_data, y_training_data)\n",
        "\n",
        "# Make predictions on the test data\n",
        "predictions_knn = model_knn.predict(x_test_data)\n",
        "\n",
        "# Evaluate the model\n",
        "mse_knn = mean_squared_error(y_test_data, predictions_knn)\n",
        "r2_knn = r2_score(y_test_data, predictions_knn)\n",
        "\n",
        "print(f\"Mean Squared Error on Test Set (KNN): {mse_knn}\")\n",
        "print(f\"R² Score on Test Set (KNN): {r2_knn}\")\n"
      ],
      "metadata": {
        "colab": {
          "base_uri": "https://localhost:8080/"
        },
        "id": "-7ZYXa3wz9qK",
        "outputId": "330d2a50-a524-4bcf-9b46-7170e1100678"
      },
      "execution_count": 215,
      "outputs": [
        {
          "output_type": "stream",
          "name": "stdout",
          "text": [
            "Mean Squared Error on Test Set (KNN): 565889.6376608186\n",
            "R² Score on Test Set (KNN): -0.26911927067549346\n"
          ]
        }
      ]
    },
    {
      "cell_type": "markdown",
      "source": [
        "#Feature for next 10 years"
      ],
      "metadata": {
        "id": "JROeeYum1jrU"
      }
    },
    {
      "cell_type": "code",
      "source": [
        "# Assuming migration_filtered_for_UIBBN is your original DataFrame\n",
        "\n",
        "# Extract the unique values for 'Country', 'Citizenship', 'Measure'\n",
        "unique_countries = migration_filtered_for_UIBBN['Country'].unique()\n",
        "unique_citizenships = migration_filtered_for_UIBBN['Citizenship'].unique()\n",
        "unique_measures = migration_filtered_for_UIBBN['Measure'].unique()\n",
        "\n",
        "# Generate future years (adjust the range as needed)\n",
        "future_years = range(2017, 2027)\n",
        "\n",
        "# Create a list to store future data\n",
        "future_data = []\n",
        "\n",
        "# Loop through combinations of future years, countries, citizenships, and measures\n",
        "for year in future_years:\n",
        "    for country in unique_countries:\n",
        "        for citizenship in unique_citizenships:\n",
        "            for measure in unique_measures:\n",
        "                future_data.append({\n",
        "                    'Year': year,\n",
        "                    'Country': country,\n",
        "                    'Citizenship': citizenship,\n",
        "                    'Measure': measure,\n",
        "                })\n",
        "\n",
        "# Create a DataFrame from the future data\n",
        "future_df = pd.DataFrame(future_data)\n",
        "\n",
        "# Concatenate the original and future DataFrames\n",
        "extended_df = pd.concat([migration_filtered_for_UIBBN, future_df], ignore_index=True)\n",
        "print(extended_df)\n",
        "\n",
        "# Now, 'extended_df' contains the original data and rows for future years\n",
        "# You can use this extended DataFrame for training and predicting migration for the next 10 years\n",
        "\n",
        "# Separate the features (X) and target variable (y)\n",
        "X_data = extended_df[['Country', 'Citizenship', 'Measure', 'Year']]\n",
        "y_data = extended_df['Value']\n",
        "# Simulate historical data\n",
        "historical_data = migration_filtered_for_UIBBN.copy()\n",
        "\n",
        "# Simulate 'Value' for historical years\n",
        "historical_data['Value'] = np.random.randint(1000, 5000, size=len(historical_data))\n",
        "\n",
        "# Split historical data into training and testing sets\n",
        "train_historical, test_historical = train_test_split(historical_data, test_size=0.2, random_state=42)\n",
        "\n",
        "# Train a Random Forest model on historical data\n",
        "rf_model = RandomForestRegressor(n_estimators=100, random_state=42)\n",
        "rf_model.fit(train_historical[['Country', 'Citizenship', 'Measure', 'Year']], train_historical['Value'])\n",
        "\n",
        "# Predict 'Value' for historical test set\n",
        "predictions_historical_rf = rf_model.predict(test_historical[['Country', 'Citizenship', 'Measure', 'Year']])\n",
        "predictions_historical_rf = np.round(predictions_historical_rf).astype(int)  # Round to the nearest integer\n",
        "\n",
        "# Evaluate the model on historical data\n",
        "mse_historical_rf = mean_squared_error(test_historical['Value'], predictions_historical_rf)\n",
        "print(f\"Mean Squared Error on Historical Data (Random Forest): {mse_historical_rf}\")\n",
        "\n",
        "# Simulate 'Value' for future years\n",
        "# Assuming X_future contains features for future years\n",
        "X_future = extended_df.loc[extended_df['Year'] >= 2017, ['Country', 'Citizenship', 'Measure', 'Year']]\n",
        "future_predictions_rf = rf_model.predict(X_future)\n",
        "future_predictions_rf = np.round(future_predictions_rf).astype(int)  # Round to the nearest integer\n",
        "\n",
        "# Update 'Value' in extended_df for future years\n",
        "extended_df.loc[extended_df['Year'] >= 2017, 'Value'] = future_predictions_rf\n",
        "\n",
        "# Now 'extended_df' contains simulated or predicted 'Value' as integers for both historical and future years using Random Forest\n",
        "print(extended_df)\n",
        "# Define mappings for 'Measure', 'Country', and 'Citizenship'\n",
        "measure_mapping = {0: 'Net'}\n",
        "country_mapping = {0: 'USA', 1: 'India', 2: 'Brazil', 3: 'Bangladesh', 4: 'Nigeria'}\n",
        "citizenship_mapping = {0: 'New Zealand Citizen', 1: 'Australian Citizen', 2: 'Other Citizenship'}\n",
        "\n",
        "# Map numerical values to categorical values in the DataFrame\n",
        "extended_df['Measure'] = extended_df['Measure'].map(measure_mapping)\n",
        "extended_df['Country'] = extended_df['Country'].map(country_mapping)\n",
        "extended_df['Citizenship'] = extended_df['Citizenship'].map(citizenship_mapping)\n",
        "\n",
        "# Export the DataFrame to a new Excel file\n",
        "output_excel_path = 'predicted_migration_results.xlsx'\n",
        "extended_df.to_excel(output_excel_path, index=False)\n",
        "\n",
        "print(f\"Results exported to: {output_excel_path}\")\n"
      ],
      "metadata": {
        "colab": {
          "base_uri": "https://localhost:8080/"
        },
        "id": "AxPsWoer38ru",
        "outputId": "4182b583-fb5b-4c18-8d3a-b7404d2a6d3a"
      },
      "execution_count": 216,
      "outputs": [
        {
          "output_type": "stream",
          "name": "stdout",
          "text": [
            "     Measure  Country  Citizenship  Year  Value\n",
            "0          0        0            0  1979   -2.0\n",
            "1          0        0            1  1979    0.0\n",
            "2          0        0            2  1979   -6.0\n",
            "3          0        1            0  1979  -65.0\n",
            "4          0        1            1  1979   -4.0\n",
            "..       ...      ...          ...   ...    ...\n",
            "715        0        3            1  2026    NaN\n",
            "716        0        3            2  2026    NaN\n",
            "717        0        4            0  2026    NaN\n",
            "718        0        4            1  2026    NaN\n",
            "719        0        4            2  2026    NaN\n",
            "\n",
            "[720 rows x 5 columns]\n",
            "Mean Squared Error on Historical Data (Random Forest): 1436450.3771929825\n",
            "     Measure  Country  Citizenship  Year   Value\n",
            "0          0        0            0  1979    -2.0\n",
            "1          0        0            1  1979     0.0\n",
            "2          0        0            2  1979    -6.0\n",
            "3          0        1            0  1979   -65.0\n",
            "4          0        1            1  1979    -4.0\n",
            "..       ...      ...          ...   ...     ...\n",
            "715        0        3            1  2026  3256.0\n",
            "716        0        3            2  2026  2839.0\n",
            "717        0        4            0  2026  3291.0\n",
            "718        0        4            1  2026  2575.0\n",
            "719        0        4            2  2026  3328.0\n",
            "\n",
            "[720 rows x 5 columns]\n",
            "Results exported to: predicted_migration_results.xlsx\n"
          ]
        }
      ]
    },
    {
      "cell_type": "markdown",
      "source": [
        "#**Net Migration Over Historical and Future Years**"
      ],
      "metadata": {
        "id": "iegPBJJJcRm-"
      }
    },
    {
      "cell_type": "code",
      "source": [
        "import plotly.express as px\n",
        "\n",
        "# Assuming 'extended_df' is your DataFrame with historical and future predictions\n",
        "# Group data by country and sum the values for each year\n",
        "grouped_data = extended_df.groupby(['Country', 'Measure', 'Year'])['Value'].sum().reset_index()\n",
        "\n",
        "# Calculate net migration by subtracting departures from arrivals\n",
        "grouped_data['Net Migration'] = grouped_data.groupby(['Country'])['Value'].transform('diff').fillna(grouped_data['Value'])\n",
        "\n",
        "# Create an interactive bar chart using Plotly for net migration\n",
        "fig = px.bar(grouped_data, x='Year', y='Net Migration', color='Country', facet_col='Measure',\n",
        "             labels={'Net Migration': 'Net Migration (Arrivals - Departures)', 'Year': 'Year'},\n",
        "             title='Net Migration Over Historical and Future Years')\n",
        "\n",
        "# Show the figure\n",
        "fig.show()\n"
      ],
      "metadata": {
        "colab": {
          "base_uri": "https://localhost:8080/",
          "height": 542
        },
        "id": "EX38Zv9odNPc",
        "outputId": "8976d140-8037-4c54-a9d9-793992d98a76"
      },
      "execution_count": 217,
      "outputs": [
        {
          "output_type": "display_data",
          "data": {
            "text/html": [
              "<html>\n",
              "<head><meta charset=\"utf-8\" /></head>\n",
              "<body>\n",
              "    <div>            <script src=\"https://cdnjs.cloudflare.com/ajax/libs/mathjax/2.7.5/MathJax.js?config=TeX-AMS-MML_SVG\"></script><script type=\"text/javascript\">if (window.MathJax && window.MathJax.Hub && window.MathJax.Hub.Config) {window.MathJax.Hub.Config({SVG: {font: \"STIX-Web\"}});}</script>                <script type=\"text/javascript\">window.PlotlyConfig = {MathJaxConfig: 'local'};</script>\n",
              "        <script charset=\"utf-8\" src=\"https://cdn.plot.ly/plotly-2.24.1.min.js\"></script>                <div id=\"933ba12e-01de-410d-8b00-899461cda2db\" class=\"plotly-graph-div\" style=\"height:525px; width:100%;\"></div>            <script type=\"text/javascript\">                                    window.PLOTLYENV=window.PLOTLYENV || {};                                    if (document.getElementById(\"933ba12e-01de-410d-8b00-899461cda2db\")) {                    Plotly.newPlot(                        \"933ba12e-01de-410d-8b00-899461cda2db\",                        [{\"alignmentgroup\":\"True\",\"hovertemplate\":\"Country=Bangladesh\\u003cbr\\u003eMeasure=Net\\u003cbr\\u003eYear=%{x}\\u003cbr\\u003eNet Migration (Arrivals - Departures)=%{y}\\u003cextra\\u003e\\u003c\\u002fextra\\u003e\",\"legendgroup\":\"Bangladesh\",\"marker\":{\"color\":\"#636efa\",\"pattern\":{\"shape\":\"\"}},\"name\":\"Bangladesh\",\"offsetgroup\":\"Bangladesh\",\"orientation\":\"v\",\"showlegend\":true,\"textposition\":\"auto\",\"x\":[1979,1980,1981,1982,1983,1984,1985,1986,1987,1988,1989,1990,1991,1992,1993,1994,1995,1996,1997,1998,1999,2000,2001,2002,2003,2004,2005,2006,2007,2008,2009,2010,2011,2012,2013,2014,2015,2016,2017,2018,2019,2020,2021,2022,2023,2024,2025,2026],\"xaxis\":\"x\",\"y\":[-1531.0,812.0,573.0,495.0,49.0,-430.0,-56.0,365.0,836.0,-1155.0,93.0,96.0,-678.0,14.0,583.0,900.0,235.0,-763.0,-997.0,-495.0,-114.0,-921.0,970.0,2053.0,483.0,-181.0,-438.0,198.0,-124.0,6.0,516.0,-571.0,224.0,-478.0,41.0,-46.0,397.0,111.0,8590.0,0.0,0.0,0.0,0.0,0.0,0.0,0.0,0.0,0.0],\"yaxis\":\"y\",\"type\":\"bar\"},{\"alignmentgroup\":\"True\",\"hovertemplate\":\"Country=Brazil\\u003cbr\\u003eMeasure=Net\\u003cbr\\u003eYear=%{x}\\u003cbr\\u003eNet Migration (Arrivals - Departures)=%{y}\\u003cextra\\u003e\\u003c\\u002fextra\\u003e\",\"legendgroup\":\"Brazil\",\"marker\":{\"color\":\"#EF553B\",\"pattern\":{\"shape\":\"\"}},\"name\":\"Brazil\",\"offsetgroup\":\"Brazil\",\"orientation\":\"v\",\"showlegend\":true,\"textposition\":\"auto\",\"x\":[1979,1980,1981,1982,1983,1984,1985,1986,1987,1988,1989,1990,1991,1992,1993,1994,1995,1996,1997,1998,1999,2000,2001,2002,2003,2004,2005,2006,2007,2008,2009,2010,2011,2012,2013,2014,2015,2016,2017,2018,2019,2020,2021,2022,2023,2024,2025,2026],\"xaxis\":\"x\",\"y\":[-7.0,-18.0,16.0,7.0,21.0,-20.0,27.0,-39.0,-15.0,11.0,21.0,-23.0,-37.0,37.0,17.0,-26.0,60.0,-55.0,52.0,-76.0,29.0,62.0,-46.0,52.0,-3.0,-65.0,-90.0,-1.0,31.0,-145.0,29.0,-91.0,189.0,29.0,42.0,318.0,65.0,30.0,8151.0,0.0,0.0,0.0,0.0,0.0,0.0,0.0,0.0,0.0],\"yaxis\":\"y\",\"type\":\"bar\"},{\"alignmentgroup\":\"True\",\"hovertemplate\":\"Country=India\\u003cbr\\u003eMeasure=Net\\u003cbr\\u003eYear=%{x}\\u003cbr\\u003eNet Migration (Arrivals - Departures)=%{y}\\u003cextra\\u003e\\u003c\\u002fextra\\u003e\",\"legendgroup\":\"India\",\"marker\":{\"color\":\"#00cc96\",\"pattern\":{\"shape\":\"\"}},\"name\":\"India\",\"offsetgroup\":\"India\",\"orientation\":\"v\",\"showlegend\":true,\"textposition\":\"auto\",\"x\":[1979,1980,1981,1982,1983,1984,1985,1986,1987,1988,1989,1990,1991,1992,1993,1994,1995,1996,1997,1998,1999,2000,2001,2002,2003,2004,2005,2006,2007,2008,2009,2010,2011,2012,2013,2014,2015,2016,2017,2018,2019,2020,2021,2022,2023,2024,2025,2026],\"xaxis\":\"x\",\"y\":[-108.0,196.0,-31.0,-41.0,-53.0,110.0,-52.0,45.0,90.0,-45.0,-1.0,-30.0,-248.0,253.0,268.0,464.0,798.0,700.0,-907.0,-272.0,421.0,657.0,1755.0,2621.0,-1742.0,-2418.0,-542.0,82.0,1445.0,1654.0,858.0,307.0,-1288.0,130.0,326.0,4674.0,3292.0,-4377.0,1213.0,0.0,0.0,0.0,0.0,0.0,0.0,0.0,0.0,0.0],\"yaxis\":\"y\",\"type\":\"bar\"},{\"alignmentgroup\":\"True\",\"hovertemplate\":\"Country=Nigeria\\u003cbr\\u003eMeasure=Net\\u003cbr\\u003eYear=%{x}\\u003cbr\\u003eNet Migration (Arrivals - Departures)=%{y}\\u003cextra\\u003e\\u003c\\u002fextra\\u003e\",\"legendgroup\":\"Nigeria\",\"marker\":{\"color\":\"#ab63fa\",\"pattern\":{\"shape\":\"\"}},\"name\":\"Nigeria\",\"offsetgroup\":\"Nigeria\",\"orientation\":\"v\",\"showlegend\":true,\"textposition\":\"auto\",\"x\":[1979,1980,1981,1982,1983,1984,1985,1986,1987,1988,1989,1990,1991,1992,1993,1994,1995,1996,1997,1998,1999,2000,2001,2002,2003,2004,2005,2006,2007,2008,2009,2010,2011,2012,2013,2014,2015,2016,2017,2018,2019,2020,2021,2022,2023,2024,2025,2026],\"xaxis\":\"x\",\"y\":[21.0,-7.0,-2.0,5.0,10.0,-22.0,26.0,-40.0,25.0,-16.0,0.0,0.0,-20.0,7.0,12.0,20.0,38.0,-35.0,8.0,-11.0,-11.0,-6.0,23.0,-9.0,1.0,-8.0,13.0,37.0,-44.0,0.0,18.0,-22.0,30.0,-29.0,22.0,9.0,15.0,11.0,9125.0,0.0,0.0,0.0,0.0,0.0,0.0,0.0,0.0,0.0],\"yaxis\":\"y\",\"type\":\"bar\"},{\"alignmentgroup\":\"True\",\"hovertemplate\":\"Country=USA\\u003cbr\\u003eMeasure=Net\\u003cbr\\u003eYear=%{x}\\u003cbr\\u003eNet Migration (Arrivals - Departures)=%{y}\\u003cextra\\u003e\\u003c\\u002fextra\\u003e\",\"legendgroup\":\"USA\",\"marker\":{\"color\":\"#FFA15A\",\"pattern\":{\"shape\":\"\"}},\"name\":\"USA\",\"offsetgroup\":\"USA\",\"orientation\":\"v\",\"showlegend\":true,\"textposition\":\"auto\",\"x\":[1979,1980,1981,1982,1983,1984,1985,1986,1987,1988,1989,1990,1991,1992,1993,1994,1995,1996,1997,1998,1999,2000,2001,2002,2003,2004,2005,2006,2007,2008,2009,2010,2011,2012,2013,2014,2015,2016,2017,2018,2019,2020,2021,2022,2023,2024,2025,2026],\"xaxis\":\"x\",\"y\":[-8.0,13.0,-1.0,4.0,-13.0,29.0,-63.0,8.0,42.0,17.0,-44.0,-9.0,35.0,-15.0,31.0,99.0,593.0,-23.0,-650.0,43.0,1.0,79.0,-42.0,-15.0,-13.0,-43.0,-31.0,10.0,9.0,23.0,29.0,-34.0,5.0,17.0,43.0,98.0,130.0,-199.0,8411.0,0.0,0.0,0.0,0.0,0.0,0.0,0.0,0.0,0.0],\"yaxis\":\"y\",\"type\":\"bar\"}],                        {\"template\":{\"data\":{\"histogram2dcontour\":[{\"type\":\"histogram2dcontour\",\"colorbar\":{\"outlinewidth\":0,\"ticks\":\"\"},\"colorscale\":[[0.0,\"#0d0887\"],[0.1111111111111111,\"#46039f\"],[0.2222222222222222,\"#7201a8\"],[0.3333333333333333,\"#9c179e\"],[0.4444444444444444,\"#bd3786\"],[0.5555555555555556,\"#d8576b\"],[0.6666666666666666,\"#ed7953\"],[0.7777777777777778,\"#fb9f3a\"],[0.8888888888888888,\"#fdca26\"],[1.0,\"#f0f921\"]]}],\"choropleth\":[{\"type\":\"choropleth\",\"colorbar\":{\"outlinewidth\":0,\"ticks\":\"\"}}],\"histogram2d\":[{\"type\":\"histogram2d\",\"colorbar\":{\"outlinewidth\":0,\"ticks\":\"\"},\"colorscale\":[[0.0,\"#0d0887\"],[0.1111111111111111,\"#46039f\"],[0.2222222222222222,\"#7201a8\"],[0.3333333333333333,\"#9c179e\"],[0.4444444444444444,\"#bd3786\"],[0.5555555555555556,\"#d8576b\"],[0.6666666666666666,\"#ed7953\"],[0.7777777777777778,\"#fb9f3a\"],[0.8888888888888888,\"#fdca26\"],[1.0,\"#f0f921\"]]}],\"heatmap\":[{\"type\":\"heatmap\",\"colorbar\":{\"outlinewidth\":0,\"ticks\":\"\"},\"colorscale\":[[0.0,\"#0d0887\"],[0.1111111111111111,\"#46039f\"],[0.2222222222222222,\"#7201a8\"],[0.3333333333333333,\"#9c179e\"],[0.4444444444444444,\"#bd3786\"],[0.5555555555555556,\"#d8576b\"],[0.6666666666666666,\"#ed7953\"],[0.7777777777777778,\"#fb9f3a\"],[0.8888888888888888,\"#fdca26\"],[1.0,\"#f0f921\"]]}],\"heatmapgl\":[{\"type\":\"heatmapgl\",\"colorbar\":{\"outlinewidth\":0,\"ticks\":\"\"},\"colorscale\":[[0.0,\"#0d0887\"],[0.1111111111111111,\"#46039f\"],[0.2222222222222222,\"#7201a8\"],[0.3333333333333333,\"#9c179e\"],[0.4444444444444444,\"#bd3786\"],[0.5555555555555556,\"#d8576b\"],[0.6666666666666666,\"#ed7953\"],[0.7777777777777778,\"#fb9f3a\"],[0.8888888888888888,\"#fdca26\"],[1.0,\"#f0f921\"]]}],\"contourcarpet\":[{\"type\":\"contourcarpet\",\"colorbar\":{\"outlinewidth\":0,\"ticks\":\"\"}}],\"contour\":[{\"type\":\"contour\",\"colorbar\":{\"outlinewidth\":0,\"ticks\":\"\"},\"colorscale\":[[0.0,\"#0d0887\"],[0.1111111111111111,\"#46039f\"],[0.2222222222222222,\"#7201a8\"],[0.3333333333333333,\"#9c179e\"],[0.4444444444444444,\"#bd3786\"],[0.5555555555555556,\"#d8576b\"],[0.6666666666666666,\"#ed7953\"],[0.7777777777777778,\"#fb9f3a\"],[0.8888888888888888,\"#fdca26\"],[1.0,\"#f0f921\"]]}],\"surface\":[{\"type\":\"surface\",\"colorbar\":{\"outlinewidth\":0,\"ticks\":\"\"},\"colorscale\":[[0.0,\"#0d0887\"],[0.1111111111111111,\"#46039f\"],[0.2222222222222222,\"#7201a8\"],[0.3333333333333333,\"#9c179e\"],[0.4444444444444444,\"#bd3786\"],[0.5555555555555556,\"#d8576b\"],[0.6666666666666666,\"#ed7953\"],[0.7777777777777778,\"#fb9f3a\"],[0.8888888888888888,\"#fdca26\"],[1.0,\"#f0f921\"]]}],\"mesh3d\":[{\"type\":\"mesh3d\",\"colorbar\":{\"outlinewidth\":0,\"ticks\":\"\"}}],\"scatter\":[{\"fillpattern\":{\"fillmode\":\"overlay\",\"size\":10,\"solidity\":0.2},\"type\":\"scatter\"}],\"parcoords\":[{\"type\":\"parcoords\",\"line\":{\"colorbar\":{\"outlinewidth\":0,\"ticks\":\"\"}}}],\"scatterpolargl\":[{\"type\":\"scatterpolargl\",\"marker\":{\"colorbar\":{\"outlinewidth\":0,\"ticks\":\"\"}}}],\"bar\":[{\"error_x\":{\"color\":\"#2a3f5f\"},\"error_y\":{\"color\":\"#2a3f5f\"},\"marker\":{\"line\":{\"color\":\"#E5ECF6\",\"width\":0.5},\"pattern\":{\"fillmode\":\"overlay\",\"size\":10,\"solidity\":0.2}},\"type\":\"bar\"}],\"scattergeo\":[{\"type\":\"scattergeo\",\"marker\":{\"colorbar\":{\"outlinewidth\":0,\"ticks\":\"\"}}}],\"scatterpolar\":[{\"type\":\"scatterpolar\",\"marker\":{\"colorbar\":{\"outlinewidth\":0,\"ticks\":\"\"}}}],\"histogram\":[{\"marker\":{\"pattern\":{\"fillmode\":\"overlay\",\"size\":10,\"solidity\":0.2}},\"type\":\"histogram\"}],\"scattergl\":[{\"type\":\"scattergl\",\"marker\":{\"colorbar\":{\"outlinewidth\":0,\"ticks\":\"\"}}}],\"scatter3d\":[{\"type\":\"scatter3d\",\"line\":{\"colorbar\":{\"outlinewidth\":0,\"ticks\":\"\"}},\"marker\":{\"colorbar\":{\"outlinewidth\":0,\"ticks\":\"\"}}}],\"scattermapbox\":[{\"type\":\"scattermapbox\",\"marker\":{\"colorbar\":{\"outlinewidth\":0,\"ticks\":\"\"}}}],\"scatterternary\":[{\"type\":\"scatterternary\",\"marker\":{\"colorbar\":{\"outlinewidth\":0,\"ticks\":\"\"}}}],\"scattercarpet\":[{\"type\":\"scattercarpet\",\"marker\":{\"colorbar\":{\"outlinewidth\":0,\"ticks\":\"\"}}}],\"carpet\":[{\"aaxis\":{\"endlinecolor\":\"#2a3f5f\",\"gridcolor\":\"white\",\"linecolor\":\"white\",\"minorgridcolor\":\"white\",\"startlinecolor\":\"#2a3f5f\"},\"baxis\":{\"endlinecolor\":\"#2a3f5f\",\"gridcolor\":\"white\",\"linecolor\":\"white\",\"minorgridcolor\":\"white\",\"startlinecolor\":\"#2a3f5f\"},\"type\":\"carpet\"}],\"table\":[{\"cells\":{\"fill\":{\"color\":\"#EBF0F8\"},\"line\":{\"color\":\"white\"}},\"header\":{\"fill\":{\"color\":\"#C8D4E3\"},\"line\":{\"color\":\"white\"}},\"type\":\"table\"}],\"barpolar\":[{\"marker\":{\"line\":{\"color\":\"#E5ECF6\",\"width\":0.5},\"pattern\":{\"fillmode\":\"overlay\",\"size\":10,\"solidity\":0.2}},\"type\":\"barpolar\"}],\"pie\":[{\"automargin\":true,\"type\":\"pie\"}]},\"layout\":{\"autotypenumbers\":\"strict\",\"colorway\":[\"#636efa\",\"#EF553B\",\"#00cc96\",\"#ab63fa\",\"#FFA15A\",\"#19d3f3\",\"#FF6692\",\"#B6E880\",\"#FF97FF\",\"#FECB52\"],\"font\":{\"color\":\"#2a3f5f\"},\"hovermode\":\"closest\",\"hoverlabel\":{\"align\":\"left\"},\"paper_bgcolor\":\"white\",\"plot_bgcolor\":\"#E5ECF6\",\"polar\":{\"bgcolor\":\"#E5ECF6\",\"angularaxis\":{\"gridcolor\":\"white\",\"linecolor\":\"white\",\"ticks\":\"\"},\"radialaxis\":{\"gridcolor\":\"white\",\"linecolor\":\"white\",\"ticks\":\"\"}},\"ternary\":{\"bgcolor\":\"#E5ECF6\",\"aaxis\":{\"gridcolor\":\"white\",\"linecolor\":\"white\",\"ticks\":\"\"},\"baxis\":{\"gridcolor\":\"white\",\"linecolor\":\"white\",\"ticks\":\"\"},\"caxis\":{\"gridcolor\":\"white\",\"linecolor\":\"white\",\"ticks\":\"\"}},\"coloraxis\":{\"colorbar\":{\"outlinewidth\":0,\"ticks\":\"\"}},\"colorscale\":{\"sequential\":[[0.0,\"#0d0887\"],[0.1111111111111111,\"#46039f\"],[0.2222222222222222,\"#7201a8\"],[0.3333333333333333,\"#9c179e\"],[0.4444444444444444,\"#bd3786\"],[0.5555555555555556,\"#d8576b\"],[0.6666666666666666,\"#ed7953\"],[0.7777777777777778,\"#fb9f3a\"],[0.8888888888888888,\"#fdca26\"],[1.0,\"#f0f921\"]],\"sequentialminus\":[[0.0,\"#0d0887\"],[0.1111111111111111,\"#46039f\"],[0.2222222222222222,\"#7201a8\"],[0.3333333333333333,\"#9c179e\"],[0.4444444444444444,\"#bd3786\"],[0.5555555555555556,\"#d8576b\"],[0.6666666666666666,\"#ed7953\"],[0.7777777777777778,\"#fb9f3a\"],[0.8888888888888888,\"#fdca26\"],[1.0,\"#f0f921\"]],\"diverging\":[[0,\"#8e0152\"],[0.1,\"#c51b7d\"],[0.2,\"#de77ae\"],[0.3,\"#f1b6da\"],[0.4,\"#fde0ef\"],[0.5,\"#f7f7f7\"],[0.6,\"#e6f5d0\"],[0.7,\"#b8e186\"],[0.8,\"#7fbc41\"],[0.9,\"#4d9221\"],[1,\"#276419\"]]},\"xaxis\":{\"gridcolor\":\"white\",\"linecolor\":\"white\",\"ticks\":\"\",\"title\":{\"standoff\":15},\"zerolinecolor\":\"white\",\"automargin\":true,\"zerolinewidth\":2},\"yaxis\":{\"gridcolor\":\"white\",\"linecolor\":\"white\",\"ticks\":\"\",\"title\":{\"standoff\":15},\"zerolinecolor\":\"white\",\"automargin\":true,\"zerolinewidth\":2},\"scene\":{\"xaxis\":{\"backgroundcolor\":\"#E5ECF6\",\"gridcolor\":\"white\",\"linecolor\":\"white\",\"showbackground\":true,\"ticks\":\"\",\"zerolinecolor\":\"white\",\"gridwidth\":2},\"yaxis\":{\"backgroundcolor\":\"#E5ECF6\",\"gridcolor\":\"white\",\"linecolor\":\"white\",\"showbackground\":true,\"ticks\":\"\",\"zerolinecolor\":\"white\",\"gridwidth\":2},\"zaxis\":{\"backgroundcolor\":\"#E5ECF6\",\"gridcolor\":\"white\",\"linecolor\":\"white\",\"showbackground\":true,\"ticks\":\"\",\"zerolinecolor\":\"white\",\"gridwidth\":2}},\"shapedefaults\":{\"line\":{\"color\":\"#2a3f5f\"}},\"annotationdefaults\":{\"arrowcolor\":\"#2a3f5f\",\"arrowhead\":0,\"arrowwidth\":1},\"geo\":{\"bgcolor\":\"white\",\"landcolor\":\"#E5ECF6\",\"subunitcolor\":\"white\",\"showland\":true,\"showlakes\":true,\"lakecolor\":\"white\"},\"title\":{\"x\":0.05},\"mapbox\":{\"style\":\"light\"}}},\"xaxis\":{\"anchor\":\"y\",\"domain\":[0.0,1.0],\"title\":{\"text\":\"Year\"}},\"yaxis\":{\"anchor\":\"x\",\"domain\":[0.0,1.0],\"title\":{\"text\":\"Net Migration (Arrivals - Departures)\"}},\"annotations\":[{\"font\":{},\"showarrow\":false,\"text\":\"Measure=Net\",\"x\":0.5,\"xanchor\":\"center\",\"xref\":\"paper\",\"y\":1.0,\"yanchor\":\"bottom\",\"yref\":\"paper\"}],\"legend\":{\"title\":{\"text\":\"Country\"},\"tracegroupgap\":0},\"title\":{\"text\":\"Net Migration Over Historical and Future Years\"},\"barmode\":\"relative\"},                        {\"responsive\": true}                    ).then(function(){\n",
              "                            \n",
              "var gd = document.getElementById('933ba12e-01de-410d-8b00-899461cda2db');\n",
              "var x = new MutationObserver(function (mutations, observer) {{\n",
              "        var display = window.getComputedStyle(gd).display;\n",
              "        if (!display || display === 'none') {{\n",
              "            console.log([gd, 'removed!']);\n",
              "            Plotly.purge(gd);\n",
              "            observer.disconnect();\n",
              "        }}\n",
              "}});\n",
              "\n",
              "// Listen for the removal of the full notebook cells\n",
              "var notebookContainer = gd.closest('#notebook-container');\n",
              "if (notebookContainer) {{\n",
              "    x.observe(notebookContainer, {childList: true});\n",
              "}}\n",
              "\n",
              "// Listen for the clearing of the current output cell\n",
              "var outputEl = gd.closest('.output');\n",
              "if (outputEl) {{\n",
              "    x.observe(outputEl, {childList: true});\n",
              "}}\n",
              "\n",
              "                        })                };                            </script>        </div>\n",
              "</body>\n",
              "</html>"
            ]
          },
          "metadata": {}
        }
      ]
    },
    {
      "cell_type": "markdown",
      "source": [
        "#**SNS Heatmap**"
      ],
      "metadata": {
        "id": "j5PDLURHchts"
      }
    },
    {
      "cell_type": "code",
      "source": [
        "import plotly.graph_objects as go\n",
        "from plotly.subplots import make_subplots\n",
        "\n",
        "# Assuming 'heatmap_data' is your DataFrame with historical and predicted migration patterns\n",
        "heatmap_data = extended_df.groupby(['Country', 'Year', 'Measure', 'Citizenship'])['Value'].sum().reset_index()\n",
        "\n",
        "# Filter historical and predicted data\n",
        "historical_data = heatmap_data[heatmap_data['Year'] < 2017]\n",
        "predicted_data = heatmap_data[heatmap_data['Year'] >= 2017]\n",
        "\n",
        "# Separate data for arrivals and departures\n",
        "historical_Net = historical_data[historical_data['Measure'] == 'Net']\n",
        "\n",
        "predicted_Net = predicted_data[predicted_data['Measure'] == 'Net']\n",
        "\n",
        "\n",
        "# Calculate net migration for historical and predicted data\n",
        "historical_arrivals_departures_diff = historical_Net.groupby(['Country', 'Citizenship'])['Value'].sum().reset_index()\n",
        "\n",
        "predicted_arrivals_departures_diff = predicted_Net.groupby(['Country', 'Citizenship'])['Value'].sum().reset_index()\n",
        "\n",
        "# Function to create heatmap trace\n",
        "def create_heatmap_trace(data, name):\n",
        "    heatmap_trace = go.Heatmap(\n",
        "        x=data['Citizenship'],\n",
        "        y=data['Country'],\n",
        "        z=data['Value'],\n",
        "        colorscale='YlGnBu',\n",
        "        colorbar=dict(title='Net Migration (Arrivals - Departures)'),\n",
        "        hovertemplate='Country: %{y}<br>Citizenship: %{x}<br>Net Migration: %{z}',\n",
        "        name=name,\n",
        "    )\n",
        "    return heatmap_trace\n",
        "\n",
        "# Create a subplot with two heatmaps for historical data\n",
        "fig = make_subplots(rows=1, cols=2, subplot_titles=['Historical Net Migration'])\n",
        "\n",
        "fig.add_trace(create_heatmap_trace(historical_arrivals_departures_diff, 'Historical Net Migration'), row=1, col=1)\n",
        "\n",
        "fig.update_layout(\n",
        "    title_text='Historical Net Migration Heatmap',\n",
        "    height=600,\n",
        "    width=1200,\n",
        ")\n",
        "\n",
        "# Show the figure\n",
        "fig.show()\n",
        "\n",
        "# Repeat the process for predicted data\n",
        "fig = make_subplots(rows=1, cols=2, subplot_titles=['Predicted Net Migration'])\n",
        "\n",
        "fig.add_trace(create_heatmap_trace(predicted_arrivals_departures_diff, 'Predicted Net Migration'), row=1, col=1)\n",
        "\n",
        "fig.update_layout(\n",
        "    title_text='Predicted Net Migration Heatmap',\n",
        "    height=600,\n",
        "    width=1200,\n",
        ")\n",
        "\n",
        "# Show the figure\n",
        "fig.show()\n"
      ],
      "metadata": {
        "colab": {
          "base_uri": "https://localhost:8080/",
          "height": 1000
        },
        "id": "2kATitE75UK7",
        "outputId": "8ca2d884-0c92-4d1d-ea63-be476bfb239f"
      },
      "execution_count": 218,
      "outputs": [
        {
          "output_type": "display_data",
          "data": {
            "text/html": [
              "<html>\n",
              "<head><meta charset=\"utf-8\" /></head>\n",
              "<body>\n",
              "    <div>            <script src=\"https://cdnjs.cloudflare.com/ajax/libs/mathjax/2.7.5/MathJax.js?config=TeX-AMS-MML_SVG\"></script><script type=\"text/javascript\">if (window.MathJax && window.MathJax.Hub && window.MathJax.Hub.Config) {window.MathJax.Hub.Config({SVG: {font: \"STIX-Web\"}});}</script>                <script type=\"text/javascript\">window.PlotlyConfig = {MathJaxConfig: 'local'};</script>\n",
              "        <script charset=\"utf-8\" src=\"https://cdn.plot.ly/plotly-2.24.1.min.js\"></script>                <div id=\"9336763f-fd97-4a7e-8872-3568a767f377\" class=\"plotly-graph-div\" style=\"height:600px; width:1200px;\"></div>            <script type=\"text/javascript\">                                    window.PLOTLYENV=window.PLOTLYENV || {};                                    if (document.getElementById(\"9336763f-fd97-4a7e-8872-3568a767f377\")) {                    Plotly.newPlot(                        \"9336763f-fd97-4a7e-8872-3568a767f377\",                        [{\"colorbar\":{\"title\":{\"text\":\"Net Migration (Arrivals - Departures)\"}},\"colorscale\":[[0.0,\"rgb(255,255,217)\"],[0.125,\"rgb(237,248,177)\"],[0.25,\"rgb(199,233,180)\"],[0.375,\"rgb(127,205,187)\"],[0.5,\"rgb(65,182,196)\"],[0.625,\"rgb(29,145,192)\"],[0.75,\"rgb(34,94,168)\"],[0.875,\"rgb(37,52,148)\"],[1.0,\"rgb(8,29,88)\"]],\"hovertemplate\":\"Country: %{y}\\u003cbr\\u003eCitizenship: %{x}\\u003cbr\\u003eNet Migration: %{z}\",\"name\":\"Historical Net Migration\",\"x\":[\"Australian Citizen\",\"New Zealand Citizen\",\"Other Citizenship\",\"Australian Citizen\",\"New Zealand Citizen\",\"Other Citizenship\",\"Australian Citizen\",\"New Zealand Citizen\",\"Other Citizenship\",\"Australian Citizen\",\"New Zealand Citizen\",\"Other Citizenship\",\"Australian Citizen\",\"New Zealand Citizen\",\"Other Citizenship\"],\"y\":[\"Bangladesh\",\"Bangladesh\",\"Bangladesh\",\"Brazil\",\"Brazil\",\"Brazil\",\"India\",\"India\",\"India\",\"Nigeria\",\"Nigeria\",\"Nigeria\",\"USA\",\"USA\",\"USA\"],\"z\":[373.0,-6793.0,16002.0,5.0,-460.0,226.0,23.0,-741.0,102882.0,3.0,53.0,680.0,6.0,-34.0,3664.0],\"type\":\"heatmap\",\"xaxis\":\"x\",\"yaxis\":\"y\"}],                        {\"template\":{\"data\":{\"histogram2dcontour\":[{\"type\":\"histogram2dcontour\",\"colorbar\":{\"outlinewidth\":0,\"ticks\":\"\"},\"colorscale\":[[0.0,\"#0d0887\"],[0.1111111111111111,\"#46039f\"],[0.2222222222222222,\"#7201a8\"],[0.3333333333333333,\"#9c179e\"],[0.4444444444444444,\"#bd3786\"],[0.5555555555555556,\"#d8576b\"],[0.6666666666666666,\"#ed7953\"],[0.7777777777777778,\"#fb9f3a\"],[0.8888888888888888,\"#fdca26\"],[1.0,\"#f0f921\"]]}],\"choropleth\":[{\"type\":\"choropleth\",\"colorbar\":{\"outlinewidth\":0,\"ticks\":\"\"}}],\"histogram2d\":[{\"type\":\"histogram2d\",\"colorbar\":{\"outlinewidth\":0,\"ticks\":\"\"},\"colorscale\":[[0.0,\"#0d0887\"],[0.1111111111111111,\"#46039f\"],[0.2222222222222222,\"#7201a8\"],[0.3333333333333333,\"#9c179e\"],[0.4444444444444444,\"#bd3786\"],[0.5555555555555556,\"#d8576b\"],[0.6666666666666666,\"#ed7953\"],[0.7777777777777778,\"#fb9f3a\"],[0.8888888888888888,\"#fdca26\"],[1.0,\"#f0f921\"]]}],\"heatmap\":[{\"type\":\"heatmap\",\"colorbar\":{\"outlinewidth\":0,\"ticks\":\"\"},\"colorscale\":[[0.0,\"#0d0887\"],[0.1111111111111111,\"#46039f\"],[0.2222222222222222,\"#7201a8\"],[0.3333333333333333,\"#9c179e\"],[0.4444444444444444,\"#bd3786\"],[0.5555555555555556,\"#d8576b\"],[0.6666666666666666,\"#ed7953\"],[0.7777777777777778,\"#fb9f3a\"],[0.8888888888888888,\"#fdca26\"],[1.0,\"#f0f921\"]]}],\"heatmapgl\":[{\"type\":\"heatmapgl\",\"colorbar\":{\"outlinewidth\":0,\"ticks\":\"\"},\"colorscale\":[[0.0,\"#0d0887\"],[0.1111111111111111,\"#46039f\"],[0.2222222222222222,\"#7201a8\"],[0.3333333333333333,\"#9c179e\"],[0.4444444444444444,\"#bd3786\"],[0.5555555555555556,\"#d8576b\"],[0.6666666666666666,\"#ed7953\"],[0.7777777777777778,\"#fb9f3a\"],[0.8888888888888888,\"#fdca26\"],[1.0,\"#f0f921\"]]}],\"contourcarpet\":[{\"type\":\"contourcarpet\",\"colorbar\":{\"outlinewidth\":0,\"ticks\":\"\"}}],\"contour\":[{\"type\":\"contour\",\"colorbar\":{\"outlinewidth\":0,\"ticks\":\"\"},\"colorscale\":[[0.0,\"#0d0887\"],[0.1111111111111111,\"#46039f\"],[0.2222222222222222,\"#7201a8\"],[0.3333333333333333,\"#9c179e\"],[0.4444444444444444,\"#bd3786\"],[0.5555555555555556,\"#d8576b\"],[0.6666666666666666,\"#ed7953\"],[0.7777777777777778,\"#fb9f3a\"],[0.8888888888888888,\"#fdca26\"],[1.0,\"#f0f921\"]]}],\"surface\":[{\"type\":\"surface\",\"colorbar\":{\"outlinewidth\":0,\"ticks\":\"\"},\"colorscale\":[[0.0,\"#0d0887\"],[0.1111111111111111,\"#46039f\"],[0.2222222222222222,\"#7201a8\"],[0.3333333333333333,\"#9c179e\"],[0.4444444444444444,\"#bd3786\"],[0.5555555555555556,\"#d8576b\"],[0.6666666666666666,\"#ed7953\"],[0.7777777777777778,\"#fb9f3a\"],[0.8888888888888888,\"#fdca26\"],[1.0,\"#f0f921\"]]}],\"mesh3d\":[{\"type\":\"mesh3d\",\"colorbar\":{\"outlinewidth\":0,\"ticks\":\"\"}}],\"scatter\":[{\"fillpattern\":{\"fillmode\":\"overlay\",\"size\":10,\"solidity\":0.2},\"type\":\"scatter\"}],\"parcoords\":[{\"type\":\"parcoords\",\"line\":{\"colorbar\":{\"outlinewidth\":0,\"ticks\":\"\"}}}],\"scatterpolargl\":[{\"type\":\"scatterpolargl\",\"marker\":{\"colorbar\":{\"outlinewidth\":0,\"ticks\":\"\"}}}],\"bar\":[{\"error_x\":{\"color\":\"#2a3f5f\"},\"error_y\":{\"color\":\"#2a3f5f\"},\"marker\":{\"line\":{\"color\":\"#E5ECF6\",\"width\":0.5},\"pattern\":{\"fillmode\":\"overlay\",\"size\":10,\"solidity\":0.2}},\"type\":\"bar\"}],\"scattergeo\":[{\"type\":\"scattergeo\",\"marker\":{\"colorbar\":{\"outlinewidth\":0,\"ticks\":\"\"}}}],\"scatterpolar\":[{\"type\":\"scatterpolar\",\"marker\":{\"colorbar\":{\"outlinewidth\":0,\"ticks\":\"\"}}}],\"histogram\":[{\"marker\":{\"pattern\":{\"fillmode\":\"overlay\",\"size\":10,\"solidity\":0.2}},\"type\":\"histogram\"}],\"scattergl\":[{\"type\":\"scattergl\",\"marker\":{\"colorbar\":{\"outlinewidth\":0,\"ticks\":\"\"}}}],\"scatter3d\":[{\"type\":\"scatter3d\",\"line\":{\"colorbar\":{\"outlinewidth\":0,\"ticks\":\"\"}},\"marker\":{\"colorbar\":{\"outlinewidth\":0,\"ticks\":\"\"}}}],\"scattermapbox\":[{\"type\":\"scattermapbox\",\"marker\":{\"colorbar\":{\"outlinewidth\":0,\"ticks\":\"\"}}}],\"scatterternary\":[{\"type\":\"scatterternary\",\"marker\":{\"colorbar\":{\"outlinewidth\":0,\"ticks\":\"\"}}}],\"scattercarpet\":[{\"type\":\"scattercarpet\",\"marker\":{\"colorbar\":{\"outlinewidth\":0,\"ticks\":\"\"}}}],\"carpet\":[{\"aaxis\":{\"endlinecolor\":\"#2a3f5f\",\"gridcolor\":\"white\",\"linecolor\":\"white\",\"minorgridcolor\":\"white\",\"startlinecolor\":\"#2a3f5f\"},\"baxis\":{\"endlinecolor\":\"#2a3f5f\",\"gridcolor\":\"white\",\"linecolor\":\"white\",\"minorgridcolor\":\"white\",\"startlinecolor\":\"#2a3f5f\"},\"type\":\"carpet\"}],\"table\":[{\"cells\":{\"fill\":{\"color\":\"#EBF0F8\"},\"line\":{\"color\":\"white\"}},\"header\":{\"fill\":{\"color\":\"#C8D4E3\"},\"line\":{\"color\":\"white\"}},\"type\":\"table\"}],\"barpolar\":[{\"marker\":{\"line\":{\"color\":\"#E5ECF6\",\"width\":0.5},\"pattern\":{\"fillmode\":\"overlay\",\"size\":10,\"solidity\":0.2}},\"type\":\"barpolar\"}],\"pie\":[{\"automargin\":true,\"type\":\"pie\"}]},\"layout\":{\"autotypenumbers\":\"strict\",\"colorway\":[\"#636efa\",\"#EF553B\",\"#00cc96\",\"#ab63fa\",\"#FFA15A\",\"#19d3f3\",\"#FF6692\",\"#B6E880\",\"#FF97FF\",\"#FECB52\"],\"font\":{\"color\":\"#2a3f5f\"},\"hovermode\":\"closest\",\"hoverlabel\":{\"align\":\"left\"},\"paper_bgcolor\":\"white\",\"plot_bgcolor\":\"#E5ECF6\",\"polar\":{\"bgcolor\":\"#E5ECF6\",\"angularaxis\":{\"gridcolor\":\"white\",\"linecolor\":\"white\",\"ticks\":\"\"},\"radialaxis\":{\"gridcolor\":\"white\",\"linecolor\":\"white\",\"ticks\":\"\"}},\"ternary\":{\"bgcolor\":\"#E5ECF6\",\"aaxis\":{\"gridcolor\":\"white\",\"linecolor\":\"white\",\"ticks\":\"\"},\"baxis\":{\"gridcolor\":\"white\",\"linecolor\":\"white\",\"ticks\":\"\"},\"caxis\":{\"gridcolor\":\"white\",\"linecolor\":\"white\",\"ticks\":\"\"}},\"coloraxis\":{\"colorbar\":{\"outlinewidth\":0,\"ticks\":\"\"}},\"colorscale\":{\"sequential\":[[0.0,\"#0d0887\"],[0.1111111111111111,\"#46039f\"],[0.2222222222222222,\"#7201a8\"],[0.3333333333333333,\"#9c179e\"],[0.4444444444444444,\"#bd3786\"],[0.5555555555555556,\"#d8576b\"],[0.6666666666666666,\"#ed7953\"],[0.7777777777777778,\"#fb9f3a\"],[0.8888888888888888,\"#fdca26\"],[1.0,\"#f0f921\"]],\"sequentialminus\":[[0.0,\"#0d0887\"],[0.1111111111111111,\"#46039f\"],[0.2222222222222222,\"#7201a8\"],[0.3333333333333333,\"#9c179e\"],[0.4444444444444444,\"#bd3786\"],[0.5555555555555556,\"#d8576b\"],[0.6666666666666666,\"#ed7953\"],[0.7777777777777778,\"#fb9f3a\"],[0.8888888888888888,\"#fdca26\"],[1.0,\"#f0f921\"]],\"diverging\":[[0,\"#8e0152\"],[0.1,\"#c51b7d\"],[0.2,\"#de77ae\"],[0.3,\"#f1b6da\"],[0.4,\"#fde0ef\"],[0.5,\"#f7f7f7\"],[0.6,\"#e6f5d0\"],[0.7,\"#b8e186\"],[0.8,\"#7fbc41\"],[0.9,\"#4d9221\"],[1,\"#276419\"]]},\"xaxis\":{\"gridcolor\":\"white\",\"linecolor\":\"white\",\"ticks\":\"\",\"title\":{\"standoff\":15},\"zerolinecolor\":\"white\",\"automargin\":true,\"zerolinewidth\":2},\"yaxis\":{\"gridcolor\":\"white\",\"linecolor\":\"white\",\"ticks\":\"\",\"title\":{\"standoff\":15},\"zerolinecolor\":\"white\",\"automargin\":true,\"zerolinewidth\":2},\"scene\":{\"xaxis\":{\"backgroundcolor\":\"#E5ECF6\",\"gridcolor\":\"white\",\"linecolor\":\"white\",\"showbackground\":true,\"ticks\":\"\",\"zerolinecolor\":\"white\",\"gridwidth\":2},\"yaxis\":{\"backgroundcolor\":\"#E5ECF6\",\"gridcolor\":\"white\",\"linecolor\":\"white\",\"showbackground\":true,\"ticks\":\"\",\"zerolinecolor\":\"white\",\"gridwidth\":2},\"zaxis\":{\"backgroundcolor\":\"#E5ECF6\",\"gridcolor\":\"white\",\"linecolor\":\"white\",\"showbackground\":true,\"ticks\":\"\",\"zerolinecolor\":\"white\",\"gridwidth\":2}},\"shapedefaults\":{\"line\":{\"color\":\"#2a3f5f\"}},\"annotationdefaults\":{\"arrowcolor\":\"#2a3f5f\",\"arrowhead\":0,\"arrowwidth\":1},\"geo\":{\"bgcolor\":\"white\",\"landcolor\":\"#E5ECF6\",\"subunitcolor\":\"white\",\"showland\":true,\"showlakes\":true,\"lakecolor\":\"white\"},\"title\":{\"x\":0.05},\"mapbox\":{\"style\":\"light\"}}},\"xaxis\":{\"anchor\":\"y\",\"domain\":[0.0,0.45]},\"yaxis\":{\"anchor\":\"x\",\"domain\":[0.0,1.0]},\"xaxis2\":{\"anchor\":\"y2\",\"domain\":[0.55,1.0]},\"yaxis2\":{\"anchor\":\"x2\",\"domain\":[0.0,1.0]},\"annotations\":[{\"font\":{\"size\":16},\"showarrow\":false,\"text\":\"Historical Net Migration\",\"x\":0.225,\"xanchor\":\"center\",\"xref\":\"paper\",\"y\":1.0,\"yanchor\":\"bottom\",\"yref\":\"paper\"}],\"title\":{\"text\":\"Historical Net Migration Heatmap\"},\"height\":600,\"width\":1200},                        {\"responsive\": true}                    ).then(function(){\n",
              "                            \n",
              "var gd = document.getElementById('9336763f-fd97-4a7e-8872-3568a767f377');\n",
              "var x = new MutationObserver(function (mutations, observer) {{\n",
              "        var display = window.getComputedStyle(gd).display;\n",
              "        if (!display || display === 'none') {{\n",
              "            console.log([gd, 'removed!']);\n",
              "            Plotly.purge(gd);\n",
              "            observer.disconnect();\n",
              "        }}\n",
              "}});\n",
              "\n",
              "// Listen for the removal of the full notebook cells\n",
              "var notebookContainer = gd.closest('#notebook-container');\n",
              "if (notebookContainer) {{\n",
              "    x.observe(notebookContainer, {childList: true});\n",
              "}}\n",
              "\n",
              "// Listen for the clearing of the current output cell\n",
              "var outputEl = gd.closest('.output');\n",
              "if (outputEl) {{\n",
              "    x.observe(outputEl, {childList: true});\n",
              "}}\n",
              "\n",
              "                        })                };                            </script>        </div>\n",
              "</body>\n",
              "</html>"
            ]
          },
          "metadata": {}
        },
        {
          "output_type": "display_data",
          "data": {
            "text/html": [
              "<html>\n",
              "<head><meta charset=\"utf-8\" /></head>\n",
              "<body>\n",
              "    <div>            <script src=\"https://cdnjs.cloudflare.com/ajax/libs/mathjax/2.7.5/MathJax.js?config=TeX-AMS-MML_SVG\"></script><script type=\"text/javascript\">if (window.MathJax && window.MathJax.Hub && window.MathJax.Hub.Config) {window.MathJax.Hub.Config({SVG: {font: \"STIX-Web\"}});}</script>                <script type=\"text/javascript\">window.PlotlyConfig = {MathJaxConfig: 'local'};</script>\n",
              "        <script charset=\"utf-8\" src=\"https://cdn.plot.ly/plotly-2.24.1.min.js\"></script>                <div id=\"7b2b6d31-08e1-4869-9afd-c9d055836a8a\" class=\"plotly-graph-div\" style=\"height:600px; width:1200px;\"></div>            <script type=\"text/javascript\">                                    window.PLOTLYENV=window.PLOTLYENV || {};                                    if (document.getElementById(\"7b2b6d31-08e1-4869-9afd-c9d055836a8a\")) {                    Plotly.newPlot(                        \"7b2b6d31-08e1-4869-9afd-c9d055836a8a\",                        [{\"colorbar\":{\"title\":{\"text\":\"Net Migration (Arrivals - Departures)\"}},\"colorscale\":[[0.0,\"rgb(255,255,217)\"],[0.125,\"rgb(237,248,177)\"],[0.25,\"rgb(199,233,180)\"],[0.375,\"rgb(127,205,187)\"],[0.5,\"rgb(65,182,196)\"],[0.625,\"rgb(29,145,192)\"],[0.75,\"rgb(34,94,168)\"],[0.875,\"rgb(37,52,148)\"],[1.0,\"rgb(8,29,88)\"]],\"hovertemplate\":\"Country: %{y}\\u003cbr\\u003eCitizenship: %{x}\\u003cbr\\u003eNet Migration: %{z}\",\"name\":\"Predicted Net Migration\",\"x\":[\"Australian Citizen\",\"New Zealand Citizen\",\"Other Citizenship\",\"Australian Citizen\",\"New Zealand Citizen\",\"Other Citizenship\",\"Australian Citizen\",\"New Zealand Citizen\",\"Other Citizenship\",\"Australian Citizen\",\"New Zealand Citizen\",\"Other Citizenship\",\"Australian Citizen\",\"New Zealand Citizen\",\"Other Citizenship\"],\"y\":[\"Bangladesh\",\"Bangladesh\",\"Bangladesh\",\"Brazil\",\"Brazil\",\"Brazil\",\"India\",\"India\",\"India\",\"Nigeria\",\"Nigeria\",\"Nigeria\",\"USA\",\"USA\",\"USA\"],\"z\":[32560.0,35670.0,28390.0,39130.0,20050.0,26210.0,34080.0,25760.0,42200.0,25750.0,32910.0,33280.0,28130.0,16330.0,41200.0],\"type\":\"heatmap\",\"xaxis\":\"x\",\"yaxis\":\"y\"}],                        {\"template\":{\"data\":{\"histogram2dcontour\":[{\"type\":\"histogram2dcontour\",\"colorbar\":{\"outlinewidth\":0,\"ticks\":\"\"},\"colorscale\":[[0.0,\"#0d0887\"],[0.1111111111111111,\"#46039f\"],[0.2222222222222222,\"#7201a8\"],[0.3333333333333333,\"#9c179e\"],[0.4444444444444444,\"#bd3786\"],[0.5555555555555556,\"#d8576b\"],[0.6666666666666666,\"#ed7953\"],[0.7777777777777778,\"#fb9f3a\"],[0.8888888888888888,\"#fdca26\"],[1.0,\"#f0f921\"]]}],\"choropleth\":[{\"type\":\"choropleth\",\"colorbar\":{\"outlinewidth\":0,\"ticks\":\"\"}}],\"histogram2d\":[{\"type\":\"histogram2d\",\"colorbar\":{\"outlinewidth\":0,\"ticks\":\"\"},\"colorscale\":[[0.0,\"#0d0887\"],[0.1111111111111111,\"#46039f\"],[0.2222222222222222,\"#7201a8\"],[0.3333333333333333,\"#9c179e\"],[0.4444444444444444,\"#bd3786\"],[0.5555555555555556,\"#d8576b\"],[0.6666666666666666,\"#ed7953\"],[0.7777777777777778,\"#fb9f3a\"],[0.8888888888888888,\"#fdca26\"],[1.0,\"#f0f921\"]]}],\"heatmap\":[{\"type\":\"heatmap\",\"colorbar\":{\"outlinewidth\":0,\"ticks\":\"\"},\"colorscale\":[[0.0,\"#0d0887\"],[0.1111111111111111,\"#46039f\"],[0.2222222222222222,\"#7201a8\"],[0.3333333333333333,\"#9c179e\"],[0.4444444444444444,\"#bd3786\"],[0.5555555555555556,\"#d8576b\"],[0.6666666666666666,\"#ed7953\"],[0.7777777777777778,\"#fb9f3a\"],[0.8888888888888888,\"#fdca26\"],[1.0,\"#f0f921\"]]}],\"heatmapgl\":[{\"type\":\"heatmapgl\",\"colorbar\":{\"outlinewidth\":0,\"ticks\":\"\"},\"colorscale\":[[0.0,\"#0d0887\"],[0.1111111111111111,\"#46039f\"],[0.2222222222222222,\"#7201a8\"],[0.3333333333333333,\"#9c179e\"],[0.4444444444444444,\"#bd3786\"],[0.5555555555555556,\"#d8576b\"],[0.6666666666666666,\"#ed7953\"],[0.7777777777777778,\"#fb9f3a\"],[0.8888888888888888,\"#fdca26\"],[1.0,\"#f0f921\"]]}],\"contourcarpet\":[{\"type\":\"contourcarpet\",\"colorbar\":{\"outlinewidth\":0,\"ticks\":\"\"}}],\"contour\":[{\"type\":\"contour\",\"colorbar\":{\"outlinewidth\":0,\"ticks\":\"\"},\"colorscale\":[[0.0,\"#0d0887\"],[0.1111111111111111,\"#46039f\"],[0.2222222222222222,\"#7201a8\"],[0.3333333333333333,\"#9c179e\"],[0.4444444444444444,\"#bd3786\"],[0.5555555555555556,\"#d8576b\"],[0.6666666666666666,\"#ed7953\"],[0.7777777777777778,\"#fb9f3a\"],[0.8888888888888888,\"#fdca26\"],[1.0,\"#f0f921\"]]}],\"surface\":[{\"type\":\"surface\",\"colorbar\":{\"outlinewidth\":0,\"ticks\":\"\"},\"colorscale\":[[0.0,\"#0d0887\"],[0.1111111111111111,\"#46039f\"],[0.2222222222222222,\"#7201a8\"],[0.3333333333333333,\"#9c179e\"],[0.4444444444444444,\"#bd3786\"],[0.5555555555555556,\"#d8576b\"],[0.6666666666666666,\"#ed7953\"],[0.7777777777777778,\"#fb9f3a\"],[0.8888888888888888,\"#fdca26\"],[1.0,\"#f0f921\"]]}],\"mesh3d\":[{\"type\":\"mesh3d\",\"colorbar\":{\"outlinewidth\":0,\"ticks\":\"\"}}],\"scatter\":[{\"fillpattern\":{\"fillmode\":\"overlay\",\"size\":10,\"solidity\":0.2},\"type\":\"scatter\"}],\"parcoords\":[{\"type\":\"parcoords\",\"line\":{\"colorbar\":{\"outlinewidth\":0,\"ticks\":\"\"}}}],\"scatterpolargl\":[{\"type\":\"scatterpolargl\",\"marker\":{\"colorbar\":{\"outlinewidth\":0,\"ticks\":\"\"}}}],\"bar\":[{\"error_x\":{\"color\":\"#2a3f5f\"},\"error_y\":{\"color\":\"#2a3f5f\"},\"marker\":{\"line\":{\"color\":\"#E5ECF6\",\"width\":0.5},\"pattern\":{\"fillmode\":\"overlay\",\"size\":10,\"solidity\":0.2}},\"type\":\"bar\"}],\"scattergeo\":[{\"type\":\"scattergeo\",\"marker\":{\"colorbar\":{\"outlinewidth\":0,\"ticks\":\"\"}}}],\"scatterpolar\":[{\"type\":\"scatterpolar\",\"marker\":{\"colorbar\":{\"outlinewidth\":0,\"ticks\":\"\"}}}],\"histogram\":[{\"marker\":{\"pattern\":{\"fillmode\":\"overlay\",\"size\":10,\"solidity\":0.2}},\"type\":\"histogram\"}],\"scattergl\":[{\"type\":\"scattergl\",\"marker\":{\"colorbar\":{\"outlinewidth\":0,\"ticks\":\"\"}}}],\"scatter3d\":[{\"type\":\"scatter3d\",\"line\":{\"colorbar\":{\"outlinewidth\":0,\"ticks\":\"\"}},\"marker\":{\"colorbar\":{\"outlinewidth\":0,\"ticks\":\"\"}}}],\"scattermapbox\":[{\"type\":\"scattermapbox\",\"marker\":{\"colorbar\":{\"outlinewidth\":0,\"ticks\":\"\"}}}],\"scatterternary\":[{\"type\":\"scatterternary\",\"marker\":{\"colorbar\":{\"outlinewidth\":0,\"ticks\":\"\"}}}],\"scattercarpet\":[{\"type\":\"scattercarpet\",\"marker\":{\"colorbar\":{\"outlinewidth\":0,\"ticks\":\"\"}}}],\"carpet\":[{\"aaxis\":{\"endlinecolor\":\"#2a3f5f\",\"gridcolor\":\"white\",\"linecolor\":\"white\",\"minorgridcolor\":\"white\",\"startlinecolor\":\"#2a3f5f\"},\"baxis\":{\"endlinecolor\":\"#2a3f5f\",\"gridcolor\":\"white\",\"linecolor\":\"white\",\"minorgridcolor\":\"white\",\"startlinecolor\":\"#2a3f5f\"},\"type\":\"carpet\"}],\"table\":[{\"cells\":{\"fill\":{\"color\":\"#EBF0F8\"},\"line\":{\"color\":\"white\"}},\"header\":{\"fill\":{\"color\":\"#C8D4E3\"},\"line\":{\"color\":\"white\"}},\"type\":\"table\"}],\"barpolar\":[{\"marker\":{\"line\":{\"color\":\"#E5ECF6\",\"width\":0.5},\"pattern\":{\"fillmode\":\"overlay\",\"size\":10,\"solidity\":0.2}},\"type\":\"barpolar\"}],\"pie\":[{\"automargin\":true,\"type\":\"pie\"}]},\"layout\":{\"autotypenumbers\":\"strict\",\"colorway\":[\"#636efa\",\"#EF553B\",\"#00cc96\",\"#ab63fa\",\"#FFA15A\",\"#19d3f3\",\"#FF6692\",\"#B6E880\",\"#FF97FF\",\"#FECB52\"],\"font\":{\"color\":\"#2a3f5f\"},\"hovermode\":\"closest\",\"hoverlabel\":{\"align\":\"left\"},\"paper_bgcolor\":\"white\",\"plot_bgcolor\":\"#E5ECF6\",\"polar\":{\"bgcolor\":\"#E5ECF6\",\"angularaxis\":{\"gridcolor\":\"white\",\"linecolor\":\"white\",\"ticks\":\"\"},\"radialaxis\":{\"gridcolor\":\"white\",\"linecolor\":\"white\",\"ticks\":\"\"}},\"ternary\":{\"bgcolor\":\"#E5ECF6\",\"aaxis\":{\"gridcolor\":\"white\",\"linecolor\":\"white\",\"ticks\":\"\"},\"baxis\":{\"gridcolor\":\"white\",\"linecolor\":\"white\",\"ticks\":\"\"},\"caxis\":{\"gridcolor\":\"white\",\"linecolor\":\"white\",\"ticks\":\"\"}},\"coloraxis\":{\"colorbar\":{\"outlinewidth\":0,\"ticks\":\"\"}},\"colorscale\":{\"sequential\":[[0.0,\"#0d0887\"],[0.1111111111111111,\"#46039f\"],[0.2222222222222222,\"#7201a8\"],[0.3333333333333333,\"#9c179e\"],[0.4444444444444444,\"#bd3786\"],[0.5555555555555556,\"#d8576b\"],[0.6666666666666666,\"#ed7953\"],[0.7777777777777778,\"#fb9f3a\"],[0.8888888888888888,\"#fdca26\"],[1.0,\"#f0f921\"]],\"sequentialminus\":[[0.0,\"#0d0887\"],[0.1111111111111111,\"#46039f\"],[0.2222222222222222,\"#7201a8\"],[0.3333333333333333,\"#9c179e\"],[0.4444444444444444,\"#bd3786\"],[0.5555555555555556,\"#d8576b\"],[0.6666666666666666,\"#ed7953\"],[0.7777777777777778,\"#fb9f3a\"],[0.8888888888888888,\"#fdca26\"],[1.0,\"#f0f921\"]],\"diverging\":[[0,\"#8e0152\"],[0.1,\"#c51b7d\"],[0.2,\"#de77ae\"],[0.3,\"#f1b6da\"],[0.4,\"#fde0ef\"],[0.5,\"#f7f7f7\"],[0.6,\"#e6f5d0\"],[0.7,\"#b8e186\"],[0.8,\"#7fbc41\"],[0.9,\"#4d9221\"],[1,\"#276419\"]]},\"xaxis\":{\"gridcolor\":\"white\",\"linecolor\":\"white\",\"ticks\":\"\",\"title\":{\"standoff\":15},\"zerolinecolor\":\"white\",\"automargin\":true,\"zerolinewidth\":2},\"yaxis\":{\"gridcolor\":\"white\",\"linecolor\":\"white\",\"ticks\":\"\",\"title\":{\"standoff\":15},\"zerolinecolor\":\"white\",\"automargin\":true,\"zerolinewidth\":2},\"scene\":{\"xaxis\":{\"backgroundcolor\":\"#E5ECF6\",\"gridcolor\":\"white\",\"linecolor\":\"white\",\"showbackground\":true,\"ticks\":\"\",\"zerolinecolor\":\"white\",\"gridwidth\":2},\"yaxis\":{\"backgroundcolor\":\"#E5ECF6\",\"gridcolor\":\"white\",\"linecolor\":\"white\",\"showbackground\":true,\"ticks\":\"\",\"zerolinecolor\":\"white\",\"gridwidth\":2},\"zaxis\":{\"backgroundcolor\":\"#E5ECF6\",\"gridcolor\":\"white\",\"linecolor\":\"white\",\"showbackground\":true,\"ticks\":\"\",\"zerolinecolor\":\"white\",\"gridwidth\":2}},\"shapedefaults\":{\"line\":{\"color\":\"#2a3f5f\"}},\"annotationdefaults\":{\"arrowcolor\":\"#2a3f5f\",\"arrowhead\":0,\"arrowwidth\":1},\"geo\":{\"bgcolor\":\"white\",\"landcolor\":\"#E5ECF6\",\"subunitcolor\":\"white\",\"showland\":true,\"showlakes\":true,\"lakecolor\":\"white\"},\"title\":{\"x\":0.05},\"mapbox\":{\"style\":\"light\"}}},\"xaxis\":{\"anchor\":\"y\",\"domain\":[0.0,0.45]},\"yaxis\":{\"anchor\":\"x\",\"domain\":[0.0,1.0]},\"xaxis2\":{\"anchor\":\"y2\",\"domain\":[0.55,1.0]},\"yaxis2\":{\"anchor\":\"x2\",\"domain\":[0.0,1.0]},\"annotations\":[{\"font\":{\"size\":16},\"showarrow\":false,\"text\":\"Predicted Net Migration\",\"x\":0.225,\"xanchor\":\"center\",\"xref\":\"paper\",\"y\":1.0,\"yanchor\":\"bottom\",\"yref\":\"paper\"}],\"title\":{\"text\":\"Predicted Net Migration Heatmap\"},\"height\":600,\"width\":1200},                        {\"responsive\": true}                    ).then(function(){\n",
              "                            \n",
              "var gd = document.getElementById('7b2b6d31-08e1-4869-9afd-c9d055836a8a');\n",
              "var x = new MutationObserver(function (mutations, observer) {{\n",
              "        var display = window.getComputedStyle(gd).display;\n",
              "        if (!display || display === 'none') {{\n",
              "            console.log([gd, 'removed!']);\n",
              "            Plotly.purge(gd);\n",
              "            observer.disconnect();\n",
              "        }}\n",
              "}});\n",
              "\n",
              "// Listen for the removal of the full notebook cells\n",
              "var notebookContainer = gd.closest('#notebook-container');\n",
              "if (notebookContainer) {{\n",
              "    x.observe(notebookContainer, {childList: true});\n",
              "}}\n",
              "\n",
              "// Listen for the clearing of the current output cell\n",
              "var outputEl = gd.closest('.output');\n",
              "if (outputEl) {{\n",
              "    x.observe(outputEl, {childList: true});\n",
              "}}\n",
              "\n",
              "                        })                };                            </script>        </div>\n",
              "</body>\n",
              "</html>"
            ]
          },
          "metadata": {}
        }
      ]
    },
    {
      "cell_type": "markdown",
      "source": [
        "#**KMeans Clustering**"
      ],
      "metadata": {
        "id": "7-_msj-6cp2P"
      }
    },
    {
      "cell_type": "code",
      "source": [
        "import plotly.express as px\n",
        "from sklearn.cluster import KMeans\n",
        "\n",
        "# Assuming 'migration_data' is your DataFrame with relevant features\n",
        "features = ['Citizenship', 'Measure', 'Year', 'Value']\n",
        "X = extended_df[features]\n",
        "\n",
        "# Convert categorical variables to numerical representations\n",
        "X = pd.get_dummies(X)\n",
        "\n",
        "# Apply K-Means clustering\n",
        "kmeans = KMeans(n_clusters=3, random_state=42)\n",
        "extended_df['Cluster'] = kmeans.fit_predict(X)\n",
        "\n",
        "# Create a 3D scatter plot with Plotly Express\n",
        "fig = px.scatter_3d(\n",
        "    extended_df,\n",
        "    x='Year',\n",
        "    y='Value',\n",
        "    z='Citizenship',  # You can choose another feature for the Z-axis\n",
        "    color='Cluster',\n",
        "    hover_data=['Country'],\n",
        "    title='3D Scatter Plot of K-Means Clustering',\n",
        "    labels={'Value': 'Migration Value'},\n",
        ")\n",
        "\n",
        "# Show the figure\n",
        "fig.show()\n"
      ],
      "metadata": {
        "colab": {
          "base_uri": "https://localhost:8080/",
          "height": 631
        },
        "id": "6RqkHk6i6Q5Q",
        "outputId": "8c92605c-875f-4cb3-e109-9a4ff69fb80a"
      },
      "execution_count": 219,
      "outputs": [
        {
          "output_type": "stream",
          "name": "stderr",
          "text": [
            "/usr/local/lib/python3.10/dist-packages/sklearn/cluster/_kmeans.py:870: FutureWarning:\n",
            "\n",
            "The default value of `n_init` will change from 10 to 'auto' in 1.4. Set the value of `n_init` explicitly to suppress the warning\n",
            "\n"
          ]
        },
        {
          "output_type": "display_data",
          "data": {
            "text/html": [
              "<html>\n",
              "<head><meta charset=\"utf-8\" /></head>\n",
              "<body>\n",
              "    <div>            <script src=\"https://cdnjs.cloudflare.com/ajax/libs/mathjax/2.7.5/MathJax.js?config=TeX-AMS-MML_SVG\"></script><script type=\"text/javascript\">if (window.MathJax && window.MathJax.Hub && window.MathJax.Hub.Config) {window.MathJax.Hub.Config({SVG: {font: \"STIX-Web\"}});}</script>                <script type=\"text/javascript\">window.PlotlyConfig = {MathJaxConfig: 'local'};</script>\n",
              "        <script charset=\"utf-8\" src=\"https://cdn.plot.ly/plotly-2.24.1.min.js\"></script>                <div id=\"f0f22d9a-d746-4b67-a7bd-53ffa9d66692\" class=\"plotly-graph-div\" style=\"height:525px; width:100%;\"></div>            <script type=\"text/javascript\">                                    window.PLOTLYENV=window.PLOTLYENV || {};                                    if (document.getElementById(\"f0f22d9a-d746-4b67-a7bd-53ffa9d66692\")) {                    Plotly.newPlot(                        \"f0f22d9a-d746-4b67-a7bd-53ffa9d66692\",                        [{\"customdata\":[[\"USA\"],[\"USA\"],[\"USA\"],[\"India\"],[\"India\"],[\"India\"],[\"Brazil\"],[\"Brazil\"],[\"Brazil\"],[\"Bangladesh\"],[\"Bangladesh\"],[\"Bangladesh\"],[\"Nigeria\"],[\"Nigeria\"],[\"Nigeria\"],[\"USA\"],[\"USA\"],[\"USA\"],[\"India\"],[\"India\"],[\"India\"],[\"Brazil\"],[\"Brazil\"],[\"Brazil\"],[\"Bangladesh\"],[\"Bangladesh\"],[\"Bangladesh\"],[\"Nigeria\"],[\"Nigeria\"],[\"Nigeria\"],[\"USA\"],[\"USA\"],[\"USA\"],[\"India\"],[\"India\"],[\"India\"],[\"Brazil\"],[\"Brazil\"],[\"Brazil\"],[\"Bangladesh\"],[\"Bangladesh\"],[\"Bangladesh\"],[\"Nigeria\"],[\"Nigeria\"],[\"Nigeria\"],[\"USA\"],[\"USA\"],[\"USA\"],[\"India\"],[\"India\"],[\"India\"],[\"Brazil\"],[\"Brazil\"],[\"Brazil\"],[\"Bangladesh\"],[\"Bangladesh\"],[\"Bangladesh\"],[\"Nigeria\"],[\"Nigeria\"],[\"Nigeria\"],[\"USA\"],[\"USA\"],[\"USA\"],[\"India\"],[\"India\"],[\"India\"],[\"Brazil\"],[\"Brazil\"],[\"Brazil\"],[\"Bangladesh\"],[\"Bangladesh\"],[\"Bangladesh\"],[\"Nigeria\"],[\"Nigeria\"],[\"Nigeria\"],[\"USA\"],[\"USA\"],[\"USA\"],[\"India\"],[\"India\"],[\"India\"],[\"Brazil\"],[\"Brazil\"],[\"Brazil\"],[\"Bangladesh\"],[\"Bangladesh\"],[\"Bangladesh\"],[\"Nigeria\"],[\"Nigeria\"],[\"Nigeria\"],[\"USA\"],[\"USA\"],[\"USA\"],[\"India\"],[\"India\"],[\"India\"],[\"Brazil\"],[\"Brazil\"],[\"Brazil\"],[\"Bangladesh\"],[\"Bangladesh\"],[\"Bangladesh\"],[\"Nigeria\"],[\"Nigeria\"],[\"Nigeria\"],[\"USA\"],[\"USA\"],[\"USA\"],[\"India\"],[\"India\"],[\"India\"],[\"Brazil\"],[\"Brazil\"],[\"Brazil\"],[\"Bangladesh\"],[\"Bangladesh\"],[\"Bangladesh\"],[\"Nigeria\"],[\"Nigeria\"],[\"Nigeria\"],[\"USA\"],[\"USA\"],[\"USA\"],[\"India\"],[\"India\"],[\"India\"],[\"Brazil\"],[\"Brazil\"],[\"Brazil\"],[\"Bangladesh\"],[\"Bangladesh\"],[\"Bangladesh\"],[\"Nigeria\"],[\"Nigeria\"],[\"Nigeria\"],[\"USA\"],[\"USA\"],[\"USA\"],[\"India\"],[\"India\"],[\"India\"],[\"Brazil\"],[\"Brazil\"],[\"Brazil\"],[\"Bangladesh\"],[\"Bangladesh\"],[\"Bangladesh\"],[\"Nigeria\"],[\"Nigeria\"],[\"Nigeria\"],[\"USA\"],[\"USA\"],[\"USA\"],[\"India\"],[\"India\"],[\"India\"],[\"Brazil\"],[\"Brazil\"],[\"Brazil\"],[\"Bangladesh\"],[\"Bangladesh\"],[\"Bangladesh\"],[\"Nigeria\"],[\"Nigeria\"],[\"Nigeria\"],[\"USA\"],[\"USA\"],[\"USA\"],[\"India\"],[\"India\"],[\"India\"],[\"Brazil\"],[\"Brazil\"],[\"Brazil\"],[\"Bangladesh\"],[\"Bangladesh\"],[\"Bangladesh\"],[\"Nigeria\"],[\"Nigeria\"],[\"Nigeria\"],[\"USA\"],[\"USA\"],[\"USA\"],[\"India\"],[\"India\"],[\"India\"],[\"Brazil\"],[\"Brazil\"],[\"Brazil\"],[\"Bangladesh\"],[\"Bangladesh\"],[\"Bangladesh\"],[\"Nigeria\"],[\"Nigeria\"],[\"Nigeria\"],[\"USA\"],[\"USA\"],[\"USA\"],[\"India\"],[\"India\"],[\"India\"],[\"Brazil\"],[\"Brazil\"],[\"Brazil\"],[\"Bangladesh\"],[\"Bangladesh\"],[\"Bangladesh\"],[\"Nigeria\"],[\"Nigeria\"],[\"Nigeria\"],[\"USA\"],[\"USA\"],[\"USA\"],[\"India\"],[\"India\"],[\"India\"],[\"Brazil\"],[\"Brazil\"],[\"Brazil\"],[\"Bangladesh\"],[\"Bangladesh\"],[\"Bangladesh\"],[\"Nigeria\"],[\"Nigeria\"],[\"Nigeria\"],[\"USA\"],[\"USA\"],[\"USA\"],[\"India\"],[\"India\"],[\"India\"],[\"Brazil\"],[\"Brazil\"],[\"Brazil\"],[\"Bangladesh\"],[\"Bangladesh\"],[\"Bangladesh\"],[\"Nigeria\"],[\"Nigeria\"],[\"Nigeria\"],[\"USA\"],[\"USA\"],[\"USA\"],[\"India\"],[\"India\"],[\"India\"],[\"Brazil\"],[\"Brazil\"],[\"Brazil\"],[\"Bangladesh\"],[\"Bangladesh\"],[\"Bangladesh\"],[\"Nigeria\"],[\"Nigeria\"],[\"Nigeria\"],[\"USA\"],[\"USA\"],[\"USA\"],[\"India\"],[\"India\"],[\"India\"],[\"Brazil\"],[\"Brazil\"],[\"Brazil\"],[\"Bangladesh\"],[\"Bangladesh\"],[\"Bangladesh\"],[\"Nigeria\"],[\"Nigeria\"],[\"Nigeria\"],[\"USA\"],[\"USA\"],[\"USA\"],[\"India\"],[\"India\"],[\"India\"],[\"Brazil\"],[\"Brazil\"],[\"Brazil\"],[\"Bangladesh\"],[\"Bangladesh\"],[\"Bangladesh\"],[\"Nigeria\"],[\"Nigeria\"],[\"Nigeria\"],[\"USA\"],[\"USA\"],[\"USA\"],[\"India\"],[\"India\"],[\"India\"],[\"Brazil\"],[\"Brazil\"],[\"Brazil\"],[\"Bangladesh\"],[\"Bangladesh\"],[\"Bangladesh\"],[\"Nigeria\"],[\"Nigeria\"],[\"Nigeria\"],[\"USA\"],[\"USA\"],[\"USA\"],[\"India\"],[\"India\"],[\"India\"],[\"Brazil\"],[\"Brazil\"],[\"Brazil\"],[\"Bangladesh\"],[\"Bangladesh\"],[\"Bangladesh\"],[\"Nigeria\"],[\"Nigeria\"],[\"Nigeria\"],[\"USA\"],[\"USA\"],[\"USA\"],[\"India\"],[\"India\"],[\"India\"],[\"Brazil\"],[\"Brazil\"],[\"Brazil\"],[\"Bangladesh\"],[\"Bangladesh\"],[\"Bangladesh\"],[\"Nigeria\"],[\"Nigeria\"],[\"Nigeria\"],[\"USA\"],[\"USA\"],[\"USA\"],[\"India\"],[\"India\"],[\"India\"],[\"Brazil\"],[\"Brazil\"],[\"Brazil\"],[\"Bangladesh\"],[\"Bangladesh\"],[\"Bangladesh\"],[\"Nigeria\"],[\"Nigeria\"],[\"Nigeria\"],[\"USA\"],[\"USA\"],[\"USA\"],[\"India\"],[\"India\"],[\"India\"],[\"Brazil\"],[\"Brazil\"],[\"Brazil\"],[\"Bangladesh\"],[\"Bangladesh\"],[\"Bangladesh\"],[\"Nigeria\"],[\"Nigeria\"],[\"Nigeria\"],[\"USA\"],[\"USA\"],[\"USA\"],[\"India\"],[\"India\"],[\"India\"],[\"Brazil\"],[\"Brazil\"],[\"Brazil\"],[\"Bangladesh\"],[\"Bangladesh\"],[\"Bangladesh\"],[\"Nigeria\"],[\"Nigeria\"],[\"Nigeria\"],[\"USA\"],[\"USA\"],[\"USA\"],[\"India\"],[\"India\"],[\"India\"],[\"Brazil\"],[\"Brazil\"],[\"Brazil\"],[\"Bangladesh\"],[\"Bangladesh\"],[\"Bangladesh\"],[\"Nigeria\"],[\"Nigeria\"],[\"Nigeria\"],[\"USA\"],[\"USA\"],[\"USA\"],[\"India\"],[\"India\"],[\"India\"],[\"Brazil\"],[\"Brazil\"],[\"Brazil\"],[\"Bangladesh\"],[\"Bangladesh\"],[\"Bangladesh\"],[\"Nigeria\"],[\"Nigeria\"],[\"Nigeria\"],[\"USA\"],[\"USA\"],[\"USA\"],[\"India\"],[\"India\"],[\"India\"],[\"Brazil\"],[\"Brazil\"],[\"Brazil\"],[\"Bangladesh\"],[\"Bangladesh\"],[\"Bangladesh\"],[\"Nigeria\"],[\"Nigeria\"],[\"Nigeria\"],[\"USA\"],[\"USA\"],[\"USA\"],[\"India\"],[\"India\"],[\"India\"],[\"Brazil\"],[\"Brazil\"],[\"Brazil\"],[\"Bangladesh\"],[\"Bangladesh\"],[\"Bangladesh\"],[\"Nigeria\"],[\"Nigeria\"],[\"Nigeria\"],[\"USA\"],[\"USA\"],[\"USA\"],[\"India\"],[\"India\"],[\"India\"],[\"Brazil\"],[\"Brazil\"],[\"Brazil\"],[\"Bangladesh\"],[\"Bangladesh\"],[\"Bangladesh\"],[\"Nigeria\"],[\"Nigeria\"],[\"Nigeria\"],[\"USA\"],[\"USA\"],[\"USA\"],[\"India\"],[\"India\"],[\"India\"],[\"Brazil\"],[\"Brazil\"],[\"Brazil\"],[\"Bangladesh\"],[\"Bangladesh\"],[\"Bangladesh\"],[\"Nigeria\"],[\"Nigeria\"],[\"Nigeria\"],[\"USA\"],[\"USA\"],[\"USA\"],[\"India\"],[\"India\"],[\"India\"],[\"Brazil\"],[\"Brazil\"],[\"Brazil\"],[\"Bangladesh\"],[\"Bangladesh\"],[\"Bangladesh\"],[\"Nigeria\"],[\"Nigeria\"],[\"Nigeria\"],[\"USA\"],[\"USA\"],[\"USA\"],[\"India\"],[\"India\"],[\"India\"],[\"Brazil\"],[\"Brazil\"],[\"Brazil\"],[\"Bangladesh\"],[\"Bangladesh\"],[\"Bangladesh\"],[\"Nigeria\"],[\"Nigeria\"],[\"Nigeria\"],[\"USA\"],[\"USA\"],[\"USA\"],[\"India\"],[\"India\"],[\"India\"],[\"Brazil\"],[\"Brazil\"],[\"Brazil\"],[\"Bangladesh\"],[\"Bangladesh\"],[\"Bangladesh\"],[\"Nigeria\"],[\"Nigeria\"],[\"Nigeria\"],[\"USA\"],[\"USA\"],[\"USA\"],[\"India\"],[\"India\"],[\"India\"],[\"Brazil\"],[\"Brazil\"],[\"Brazil\"],[\"Bangladesh\"],[\"Bangladesh\"],[\"Bangladesh\"],[\"Nigeria\"],[\"Nigeria\"],[\"Nigeria\"],[\"USA\"],[\"USA\"],[\"USA\"],[\"India\"],[\"India\"],[\"India\"],[\"Brazil\"],[\"Brazil\"],[\"Brazil\"],[\"Bangladesh\"],[\"Bangladesh\"],[\"Bangladesh\"],[\"Nigeria\"],[\"Nigeria\"],[\"Nigeria\"],[\"USA\"],[\"USA\"],[\"USA\"],[\"India\"],[\"India\"],[\"India\"],[\"Brazil\"],[\"Brazil\"],[\"Brazil\"],[\"Bangladesh\"],[\"Bangladesh\"],[\"Bangladesh\"],[\"Nigeria\"],[\"Nigeria\"],[\"Nigeria\"],[\"USA\"],[\"USA\"],[\"USA\"],[\"India\"],[\"India\"],[\"India\"],[\"Brazil\"],[\"Brazil\"],[\"Brazil\"],[\"Bangladesh\"],[\"Bangladesh\"],[\"Bangladesh\"],[\"Nigeria\"],[\"Nigeria\"],[\"Nigeria\"],[\"USA\"],[\"USA\"],[\"USA\"],[\"India\"],[\"India\"],[\"India\"],[\"Brazil\"],[\"Brazil\"],[\"Brazil\"],[\"Bangladesh\"],[\"Bangladesh\"],[\"Bangladesh\"],[\"Nigeria\"],[\"Nigeria\"],[\"Nigeria\"],[\"USA\"],[\"USA\"],[\"USA\"],[\"India\"],[\"India\"],[\"India\"],[\"Brazil\"],[\"Brazil\"],[\"Brazil\"],[\"Bangladesh\"],[\"Bangladesh\"],[\"Bangladesh\"],[\"Nigeria\"],[\"Nigeria\"],[\"Nigeria\"],[\"USA\"],[\"USA\"],[\"USA\"],[\"India\"],[\"India\"],[\"India\"],[\"Brazil\"],[\"Brazil\"],[\"Brazil\"],[\"Bangladesh\"],[\"Bangladesh\"],[\"Bangladesh\"],[\"Nigeria\"],[\"Nigeria\"],[\"Nigeria\"],[\"USA\"],[\"USA\"],[\"USA\"],[\"India\"],[\"India\"],[\"India\"],[\"Brazil\"],[\"Brazil\"],[\"Brazil\"],[\"Bangladesh\"],[\"Bangladesh\"],[\"Bangladesh\"],[\"Nigeria\"],[\"Nigeria\"],[\"Nigeria\"],[\"USA\"],[\"USA\"],[\"USA\"],[\"India\"],[\"India\"],[\"India\"],[\"Brazil\"],[\"Brazil\"],[\"Brazil\"],[\"Bangladesh\"],[\"Bangladesh\"],[\"Bangladesh\"],[\"Nigeria\"],[\"Nigeria\"],[\"Nigeria\"],[\"USA\"],[\"USA\"],[\"USA\"],[\"India\"],[\"India\"],[\"India\"],[\"Brazil\"],[\"Brazil\"],[\"Brazil\"],[\"Bangladesh\"],[\"Bangladesh\"],[\"Bangladesh\"],[\"Nigeria\"],[\"Nigeria\"],[\"Nigeria\"],[\"USA\"],[\"USA\"],[\"USA\"],[\"India\"],[\"India\"],[\"India\"],[\"Brazil\"],[\"Brazil\"],[\"Brazil\"],[\"Bangladesh\"],[\"Bangladesh\"],[\"Bangladesh\"],[\"Nigeria\"],[\"Nigeria\"],[\"Nigeria\"],[\"USA\"],[\"USA\"],[\"USA\"],[\"India\"],[\"India\"],[\"India\"],[\"Brazil\"],[\"Brazil\"],[\"Brazil\"],[\"Bangladesh\"],[\"Bangladesh\"],[\"Bangladesh\"],[\"Nigeria\"],[\"Nigeria\"],[\"Nigeria\"],[\"USA\"],[\"USA\"],[\"USA\"],[\"India\"],[\"India\"],[\"India\"],[\"Brazil\"],[\"Brazil\"],[\"Brazil\"],[\"Bangladesh\"],[\"Bangladesh\"],[\"Bangladesh\"],[\"Nigeria\"],[\"Nigeria\"],[\"Nigeria\"],[\"USA\"],[\"USA\"],[\"USA\"],[\"India\"],[\"India\"],[\"India\"],[\"Brazil\"],[\"Brazil\"],[\"Brazil\"],[\"Bangladesh\"],[\"Bangladesh\"],[\"Bangladesh\"],[\"Nigeria\"],[\"Nigeria\"],[\"Nigeria\"]],\"hovertemplate\":\"Year=%{x}\\u003cbr\\u003eMigration Value=%{y}\\u003cbr\\u003eCitizenship=%{z}\\u003cbr\\u003eCountry=%{customdata[0]}\\u003cbr\\u003eCluster=%{marker.color}\\u003cextra\\u003e\\u003c\\u002fextra\\u003e\",\"legendgroup\":\"\",\"marker\":{\"color\":[0,0,0,0,0,0,0,0,0,0,0,0,0,0,0,0,0,0,0,0,0,0,0,0,0,0,0,0,0,0,0,0,0,0,0,0,0,0,0,0,0,0,0,0,0,0,0,0,0,0,0,0,0,0,0,0,0,0,0,0,0,0,0,0,0,0,0,0,0,0,0,0,0,0,0,0,0,0,0,0,0,0,0,0,0,0,0,0,0,0,0,0,0,0,0,0,0,0,0,0,0,0,0,0,0,0,0,0,0,0,0,0,0,0,0,0,0,0,0,0,0,0,0,0,0,0,0,0,0,0,0,0,0,0,0,0,0,0,0,0,0,0,0,0,0,0,0,0,0,0,0,0,0,0,0,0,0,0,0,0,0,0,0,0,0,0,0,0,0,0,0,0,0,0,0,0,0,0,0,0,0,0,0,0,0,0,0,0,0,0,0,0,0,0,0,0,0,0,0,0,0,0,0,0,0,0,0,0,0,0,0,0,0,0,0,0,0,0,0,0,0,0,0,0,0,0,0,0,0,0,0,0,0,0,0,0,0,0,0,0,0,0,0,0,0,0,0,0,0,0,0,0,0,0,0,0,0,0,0,0,1,0,0,0,0,0,0,0,0,0,0,0,0,0,0,0,0,0,0,0,0,0,0,0,0,0,0,0,0,0,0,0,0,0,0,0,0,0,0,0,0,0,0,0,0,0,0,0,0,0,0,0,0,0,0,0,0,0,0,0,1,0,0,0,0,0,0,0,0,0,0,0,0,0,0,1,0,0,0,0,0,0,0,0,0,0,0,0,0,0,1,0,0,0,0,0,0,0,0,0,0,0,0,0,0,1,0,0,0,0,0,0,0,0,0,0,0,0,0,0,1,0,0,0,0,0,0,0,0,0,0,0,0,0,0,1,0,0,0,0,0,0,0,0,0,0,0,0,0,0,1,0,0,0,0,0,0,0,0,0,0,0,0,0,0,1,0,0,0,0,0,0,0,0,0,0,0,0,0,0,1,0,0,0,0,0,0,0,0,0,0,0,0,0,0,1,0,0,0,0,0,0,0,0,0,0,0,0,0,0,1,0,0,0,0,0,0,0,0,0,0,0,0,0,0,1,0,0,0,0,0,0,0,0,0,0,0,0,0,0,1,0,0,0,0,0,0,0,0,0,0,0,0,0,0,1,0,0,0,0,0,0,0,0,0,0,0,0,0,0,2,0,0,0,0,0,0,0,0,0,0,0,0,0,0,2,0,0,0,0,0,0,0,0,0,0,0,0,0,0,2,0,0,0,0,0,0,0,0,0,0,1,1,1,1,1,1,1,1,1,1,1,1,1,1,0,1,1,1,1,1,1,1,1,1,1,1,1,1,1,0,1,1,1,1,1,1,1,1,1,1,1,1,1,1,0,1,1,1,1,1,1,1,1,1,1,1,1,1,1,0,1,1,1,1,1,1,1,1,1,1,1,1,1,1,0,1,1,1,1,1,1,1,1,1,1,1,1,1,1,0,1,1,1,1,1,1,1,1,1,1,1,1,1,1,0,1,1,1,1,1,1,1,1,1,1,1,1,1,1,0,1,1,1,1,1,1,1,1,1,1,1,1,1,1,0,1,1,1,1,1,1,1,1,1,1,1,1,1,1],\"coloraxis\":\"coloraxis\",\"symbol\":\"circle\"},\"mode\":\"markers\",\"name\":\"\",\"scene\":\"scene\",\"showlegend\":false,\"x\":[1979,1979,1979,1979,1979,1979,1979,1979,1979,1979,1979,1979,1979,1979,1979,1980,1980,1980,1980,1980,1980,1980,1980,1980,1980,1980,1980,1980,1980,1980,1981,1981,1981,1981,1981,1981,1981,1981,1981,1981,1981,1981,1981,1981,1981,1982,1982,1982,1982,1982,1982,1982,1982,1982,1982,1982,1982,1982,1982,1982,1983,1983,1983,1983,1983,1983,1983,1983,1983,1983,1983,1983,1983,1983,1983,1984,1984,1984,1984,1984,1984,1984,1984,1984,1984,1984,1984,1984,1984,1984,1985,1985,1985,1985,1985,1985,1985,1985,1985,1985,1985,1985,1985,1985,1985,1986,1986,1986,1986,1986,1986,1986,1986,1986,1986,1986,1986,1986,1986,1986,1987,1987,1987,1987,1987,1987,1987,1987,1987,1987,1987,1987,1987,1987,1987,1988,1988,1988,1988,1988,1988,1988,1988,1988,1988,1988,1988,1988,1988,1988,1989,1989,1989,1989,1989,1989,1989,1989,1989,1989,1989,1989,1989,1989,1989,1990,1990,1990,1990,1990,1990,1990,1990,1990,1990,1990,1990,1990,1990,1990,1991,1991,1991,1991,1991,1991,1991,1991,1991,1991,1991,1991,1991,1991,1991,1992,1992,1992,1992,1992,1992,1992,1992,1992,1992,1992,1992,1992,1992,1992,1993,1993,1993,1993,1993,1993,1993,1993,1993,1993,1993,1993,1993,1993,1993,1994,1994,1994,1994,1994,1994,1994,1994,1994,1994,1994,1994,1994,1994,1994,1995,1995,1995,1995,1995,1995,1995,1995,1995,1995,1995,1995,1995,1995,1995,1996,1996,1996,1996,1996,1996,1996,1996,1996,1996,1996,1996,1996,1996,1996,1997,1997,1997,1997,1997,1997,1997,1997,1997,1997,1997,1997,1997,1997,1997,1998,1998,1998,1998,1998,1998,1998,1998,1998,1998,1998,1998,1998,1998,1998,1999,1999,1999,1999,1999,1999,1999,1999,1999,1999,1999,1999,1999,1999,1999,2000,2000,2000,2000,2000,2000,2000,2000,2000,2000,2000,2000,2000,2000,2000,2001,2001,2001,2001,2001,2001,2001,2001,2001,2001,2001,2001,2001,2001,2001,2002,2002,2002,2002,2002,2002,2002,2002,2002,2002,2002,2002,2002,2002,2002,2003,2003,2003,2003,2003,2003,2003,2003,2003,2003,2003,2003,2003,2003,2003,2004,2004,2004,2004,2004,2004,2004,2004,2004,2004,2004,2004,2004,2004,2004,2005,2005,2005,2005,2005,2005,2005,2005,2005,2005,2005,2005,2005,2005,2005,2006,2006,2006,2006,2006,2006,2006,2006,2006,2006,2006,2006,2006,2006,2006,2007,2007,2007,2007,2007,2007,2007,2007,2007,2007,2007,2007,2007,2007,2007,2008,2008,2008,2008,2008,2008,2008,2008,2008,2008,2008,2008,2008,2008,2008,2009,2009,2009,2009,2009,2009,2009,2009,2009,2009,2009,2009,2009,2009,2009,2010,2010,2010,2010,2010,2010,2010,2010,2010,2010,2010,2010,2010,2010,2010,2011,2011,2011,2011,2011,2011,2011,2011,2011,2011,2011,2011,2011,2011,2011,2012,2012,2012,2012,2012,2012,2012,2012,2012,2012,2012,2012,2012,2012,2012,2013,2013,2013,2013,2013,2013,2013,2013,2013,2013,2013,2013,2013,2013,2013,2014,2014,2014,2014,2014,2014,2014,2014,2014,2014,2014,2014,2014,2014,2014,2015,2015,2015,2015,2015,2015,2015,2015,2015,2015,2015,2015,2015,2015,2015,2016,2016,2016,2016,2016,2016,2016,2016,2016,2016,2016,2016,2016,2016,2016,2017,2017,2017,2017,2017,2017,2017,2017,2017,2017,2017,2017,2017,2017,2017,2018,2018,2018,2018,2018,2018,2018,2018,2018,2018,2018,2018,2018,2018,2018,2019,2019,2019,2019,2019,2019,2019,2019,2019,2019,2019,2019,2019,2019,2019,2020,2020,2020,2020,2020,2020,2020,2020,2020,2020,2020,2020,2020,2020,2020,2021,2021,2021,2021,2021,2021,2021,2021,2021,2021,2021,2021,2021,2021,2021,2022,2022,2022,2022,2022,2022,2022,2022,2022,2022,2022,2022,2022,2022,2022,2023,2023,2023,2023,2023,2023,2023,2023,2023,2023,2023,2023,2023,2023,2023,2024,2024,2024,2024,2024,2024,2024,2024,2024,2024,2024,2024,2024,2024,2024,2025,2025,2025,2025,2025,2025,2025,2025,2025,2025,2025,2025,2025,2025,2025,2026,2026,2026,2026,2026,2026,2026,2026,2026,2026,2026,2026,2026,2026,2026],\"y\":[-2.0,0.0,-6.0,-65.0,-4.0,-39.0,-5.0,0.0,-2.0,-736.0,2.0,-797.0,5.0,0.0,16.0,-2.0,1.0,6.0,10.0,-3.0,81.0,-11.0,0.0,-14.0,-438.0,11.0,-292.0,3.0,0.0,11.0,0.0,0.0,4.0,2.0,-7.0,62.0,-10.0,-1.0,2.0,-162.0,0.0,16.0,5.0,1.0,6.0,3.0,0.0,5.0,-14.0,5.0,25.0,-3.0,0.0,1.0,-8.0,7.0,350.0,5.0,-4.0,16.0,0.0,0.0,-5.0,-15.0,-4.0,-18.0,7.0,0.0,12.0,76.0,-1.0,323.0,11.0,1.0,15.0,12.0,0.0,12.0,22.0,-1.0,52.0,-3.0,0.0,2.0,-89.0,-13.0,70.0,0.0,1.0,4.0,-14.0,-1.0,-24.0,7.0,4.0,10.0,5.0,0.0,21.0,-109.0,7.0,14.0,11.0,1.0,19.0,-14.0,0.0,-17.0,4.0,-5.0,67.0,-9.0,0.0,-4.0,-42.0,11.0,308.0,-11.0,0.0,2.0,2.0,0.0,9.0,15.0,2.0,139.0,-21.0,0.0,-7.0,318.0,15.0,780.0,5.0,0.0,11.0,13.0,0.0,15.0,-16.0,0.0,127.0,-11.0,0.0,-6.0,-74.0,-1.0,33.0,-1.0,0.0,1.0,-5.0,0.0,-11.0,-10.0,3.0,117.0,-4.0,0.0,8.0,-127.0,19.0,159.0,0.0,0.0,0.0,-12.0,0.0,-13.0,2.0,-2.0,80.0,-19.0,-1.0,1.0,-70.0,7.0,210.0,-1.0,0.0,1.0,6.0,0.0,4.0,-62.0,-1.0,-105.0,-36.0,1.0,-21.0,-316.0,14.0,-229.0,-9.0,0.0,-11.0,-5.0,0.0,0.0,-25.0,0.0,110.0,-11.0,0.0,-8.0,-301.0,-3.0,-213.0,-5.0,0.0,-8.0,-9.0,0.0,35.0,-14.0,0.0,367.0,-11.0,0.0,9.0,-189.0,15.0,240.0,-3.0,0.0,2.0,-2.0,0.0,127.0,-14.0,-5.0,836.0,-27.0,0.0,-1.0,108.0,16.0,842.0,4.0,0.0,15.0,-21.0,1.0,738.0,-30.0,0.0,1645.0,-11.0,0.0,43.0,186.0,23.0,992.0,12.0,0.0,45.0,-4.0,0.0,699.0,20.0,1.0,2294.0,-29.0,0.0,6.0,-79.0,23.0,494.0,3.0,0.0,19.0,-9.0,1.0,53.0,-27.0,-8.0,1443.0,-4.0,0.0,33.0,-438.0,5.0,-126.0,5.0,0.0,25.0,7.0,0.0,81.0,-14.0,-4.0,1154.0,-38.0,4.0,-13.0,-411.0,-10.0,-633.0,4.0,0.0,15.0,-1.0,0.0,90.0,-25.0,2.0,1580.0,-26.0,0.0,8.0,-675.0,5.0,-498.0,-1.0,0.0,9.0,-9.0,0.0,177.0,-25.0,4.0,2235.0,-8.0,0.0,52.0,-1133.0,-15.0,-941.0,-7.0,0.0,9.0,-6.0,0.0,132.0,-9.0,5.0,3973.0,-28.0,0.0,26.0,-759.0,9.0,-369.0,3.0,0.0,22.0,0.0,0.0,111.0,7.0,2.0,6581.0,-12.0,-1.0,63.0,47.0,16.0,871.0,-3.0,0.0,19.0,-11.0,0.0,109.0,-11.0,4.0,4855.0,-1.0,-1.0,49.0,219.0,18.0,1180.0,-10.0,0.0,27.0,6.0,1.0,48.0,-22.0,3.0,2449.0,-13.0,-1.0,-4.0,80.0,36.0,1120.0,2.0,0.0,7.0,0.0,0.0,24.0,-59.0,0.0,1947.0,-22.0,1.0,-87.0,-108.0,32.0,874.0,-2.0,-1.0,25.0,-2.0,0.0,36.0,-154.0,-1.0,2125.0,-23.0,0.0,-86.0,-87.0,43.0,1040.0,21.0,0.0,38.0,1.0,-1.0,43.0,-166.0,5.0,3576.0,-18.0,-3.0,-57.0,-186.0,12.0,1046.0,-1.0,1.0,15.0,9.0,0.0,57.0,-100.0,1.0,5168.0,-39.0,2.0,-186.0,-79.0,11.0,946.0,-8.0,0.0,23.0,4.0,0.0,91.0,-20.0,-4.0,5951.0,0.0,-4.0,-190.0,142.0,4.0,1248.0,6.0,0.0,27.0,4.0,0.0,57.0,-85.0,5.0,6314.0,-30.0,-1.0,-254.0,-7.0,18.0,812.0,-5.0,2.0,14.0,9.0,3.0,54.0,6.0,7.0,4933.0,2.0,1.0,-99.0,-94.0,36.0,1105.0,7.0,1.0,33.0,-7.0,0.0,90.0,-30.0,7.0,5099.0,-14.0,3.0,-56.0,-247.0,8.0,808.0,-5.0,0.0,17.0,13.0,0.0,113.0,30.0,2.0,5370.0,-30.0,3.0,2.0,-278.0,9.0,879.0,6.0,0.0,28.0,1.0,0.0,223.0,-15.0,3.0,10088.0,10.0,4.0,279.0,-320.0,-28.0,912.0,1.0,0.0,42.0,12.0,1.0,341.0,72.0,4.0,13292.0,21.0,-1.0,338.0,-193.0,12.0,1142.0,1.0,0.0,57.0,-1.0,0.0,156.0,89.0,3.0,8899.0,22.0,0.0,366.0,-214.0,0.0,1286.0,5.0,0.0,64.0,1633.0,2813.0,4120.0,2576.0,3408.0,4220.0,2005.0,3913.0,2621.0,3567.0,3256.0,2839.0,3291.0,2575.0,3328.0,1633.0,2813.0,4120.0,2576.0,3408.0,4220.0,2005.0,3913.0,2621.0,3567.0,3256.0,2839.0,3291.0,2575.0,3328.0,1633.0,2813.0,4120.0,2576.0,3408.0,4220.0,2005.0,3913.0,2621.0,3567.0,3256.0,2839.0,3291.0,2575.0,3328.0,1633.0,2813.0,4120.0,2576.0,3408.0,4220.0,2005.0,3913.0,2621.0,3567.0,3256.0,2839.0,3291.0,2575.0,3328.0,1633.0,2813.0,4120.0,2576.0,3408.0,4220.0,2005.0,3913.0,2621.0,3567.0,3256.0,2839.0,3291.0,2575.0,3328.0,1633.0,2813.0,4120.0,2576.0,3408.0,4220.0,2005.0,3913.0,2621.0,3567.0,3256.0,2839.0,3291.0,2575.0,3328.0,1633.0,2813.0,4120.0,2576.0,3408.0,4220.0,2005.0,3913.0,2621.0,3567.0,3256.0,2839.0,3291.0,2575.0,3328.0,1633.0,2813.0,4120.0,2576.0,3408.0,4220.0,2005.0,3913.0,2621.0,3567.0,3256.0,2839.0,3291.0,2575.0,3328.0,1633.0,2813.0,4120.0,2576.0,3408.0,4220.0,2005.0,3913.0,2621.0,3567.0,3256.0,2839.0,3291.0,2575.0,3328.0,1633.0,2813.0,4120.0,2576.0,3408.0,4220.0,2005.0,3913.0,2621.0,3567.0,3256.0,2839.0,3291.0,2575.0,3328.0],\"z\":[\"New Zealand Citizen\",\"Australian Citizen\",\"Other Citizenship\",\"New Zealand Citizen\",\"Australian Citizen\",\"Other Citizenship\",\"New Zealand Citizen\",\"Australian Citizen\",\"Other Citizenship\",\"New Zealand Citizen\",\"Australian Citizen\",\"Other Citizenship\",\"New Zealand Citizen\",\"Australian Citizen\",\"Other Citizenship\",\"New Zealand Citizen\",\"Australian Citizen\",\"Other Citizenship\",\"New Zealand Citizen\",\"Australian Citizen\",\"Other Citizenship\",\"New Zealand Citizen\",\"Australian Citizen\",\"Other Citizenship\",\"New Zealand Citizen\",\"Australian Citizen\",\"Other Citizenship\",\"New Zealand Citizen\",\"Australian Citizen\",\"Other Citizenship\",\"New Zealand Citizen\",\"Australian Citizen\",\"Other Citizenship\",\"New Zealand Citizen\",\"Australian Citizen\",\"Other Citizenship\",\"New Zealand Citizen\",\"Australian Citizen\",\"Other Citizenship\",\"New Zealand Citizen\",\"Australian Citizen\",\"Other Citizenship\",\"New Zealand Citizen\",\"Australian Citizen\",\"Other Citizenship\",\"New Zealand Citizen\",\"Australian Citizen\",\"Other Citizenship\",\"New Zealand Citizen\",\"Australian Citizen\",\"Other Citizenship\",\"New Zealand Citizen\",\"Australian Citizen\",\"Other Citizenship\",\"New Zealand Citizen\",\"Australian Citizen\",\"Other Citizenship\",\"New Zealand Citizen\",\"Australian Citizen\",\"Other Citizenship\",\"New Zealand Citizen\",\"Australian Citizen\",\"Other Citizenship\",\"New Zealand Citizen\",\"Australian Citizen\",\"Other Citizenship\",\"New Zealand Citizen\",\"Australian Citizen\",\"Other Citizenship\",\"New Zealand Citizen\",\"Australian Citizen\",\"Other Citizenship\",\"New Zealand Citizen\",\"Australian Citizen\",\"Other Citizenship\",\"New Zealand Citizen\",\"Australian Citizen\",\"Other Citizenship\",\"New Zealand Citizen\",\"Australian Citizen\",\"Other Citizenship\",\"New Zealand Citizen\",\"Australian Citizen\",\"Other Citizenship\",\"New Zealand Citizen\",\"Australian Citizen\",\"Other Citizenship\",\"New Zealand Citizen\",\"Australian Citizen\",\"Other Citizenship\",\"New Zealand Citizen\",\"Australian Citizen\",\"Other Citizenship\",\"New Zealand Citizen\",\"Australian Citizen\",\"Other Citizenship\",\"New Zealand Citizen\",\"Australian Citizen\",\"Other Citizenship\",\"New Zealand Citizen\",\"Australian Citizen\",\"Other Citizenship\",\"New Zealand Citizen\",\"Australian Citizen\",\"Other Citizenship\",\"New Zealand Citizen\",\"Australian Citizen\",\"Other Citizenship\",\"New Zealand Citizen\",\"Australian Citizen\",\"Other Citizenship\",\"New Zealand Citizen\",\"Australian Citizen\",\"Other Citizenship\",\"New Zealand Citizen\",\"Australian Citizen\",\"Other Citizenship\",\"New Zealand Citizen\",\"Australian Citizen\",\"Other Citizenship\",\"New Zealand Citizen\",\"Australian Citizen\",\"Other Citizenship\",\"New Zealand Citizen\",\"Australian Citizen\",\"Other Citizenship\",\"New Zealand Citizen\",\"Australian Citizen\",\"Other Citizenship\",\"New Zealand Citizen\",\"Australian Citizen\",\"Other Citizenship\",\"New Zealand Citizen\",\"Australian Citizen\",\"Other Citizenship\",\"New Zealand Citizen\",\"Australian Citizen\",\"Other Citizenship\",\"New Zealand Citizen\",\"Australian Citizen\",\"Other Citizenship\",\"New Zealand Citizen\",\"Australian Citizen\",\"Other Citizenship\",\"New Zealand Citizen\",\"Australian Citizen\",\"Other Citizenship\",\"New Zealand Citizen\",\"Australian Citizen\",\"Other Citizenship\",\"New Zealand Citizen\",\"Australian Citizen\",\"Other Citizenship\",\"New Zealand Citizen\",\"Australian Citizen\",\"Other Citizenship\",\"New Zealand Citizen\",\"Australian Citizen\",\"Other Citizenship\",\"New Zealand Citizen\",\"Australian Citizen\",\"Other Citizenship\",\"New Zealand Citizen\",\"Australian Citizen\",\"Other Citizenship\",\"New Zealand Citizen\",\"Australian Citizen\",\"Other Citizenship\",\"New Zealand Citizen\",\"Australian Citizen\",\"Other Citizenship\",\"New Zealand Citizen\",\"Australian Citizen\",\"Other Citizenship\",\"New Zealand Citizen\",\"Australian Citizen\",\"Other Citizenship\",\"New Zealand Citizen\",\"Australian Citizen\",\"Other Citizenship\",\"New Zealand Citizen\",\"Australian Citizen\",\"Other Citizenship\",\"New Zealand Citizen\",\"Australian Citizen\",\"Other Citizenship\",\"New Zealand Citizen\",\"Australian Citizen\",\"Other Citizenship\",\"New Zealand Citizen\",\"Australian Citizen\",\"Other Citizenship\",\"New Zealand Citizen\",\"Australian Citizen\",\"Other Citizenship\",\"New Zealand Citizen\",\"Australian Citizen\",\"Other Citizenship\",\"New Zealand Citizen\",\"Australian Citizen\",\"Other Citizenship\",\"New Zealand Citizen\",\"Australian Citizen\",\"Other Citizenship\",\"New Zealand Citizen\",\"Australian Citizen\",\"Other Citizenship\",\"New Zealand Citizen\",\"Australian Citizen\",\"Other Citizenship\",\"New Zealand Citizen\",\"Australian Citizen\",\"Other Citizenship\",\"New Zealand Citizen\",\"Australian Citizen\",\"Other Citizenship\",\"New Zealand Citizen\",\"Australian Citizen\",\"Other Citizenship\",\"New Zealand Citizen\",\"Australian Citizen\",\"Other Citizenship\",\"New Zealand Citizen\",\"Australian Citizen\",\"Other Citizenship\",\"New Zealand Citizen\",\"Australian Citizen\",\"Other Citizenship\",\"New Zealand Citizen\",\"Australian Citizen\",\"Other Citizenship\",\"New Zealand Citizen\",\"Australian Citizen\",\"Other Citizenship\",\"New Zealand Citizen\",\"Australian Citizen\",\"Other Citizenship\",\"New Zealand Citizen\",\"Australian Citizen\",\"Other Citizenship\",\"New Zealand Citizen\",\"Australian Citizen\",\"Other Citizenship\",\"New Zealand Citizen\",\"Australian Citizen\",\"Other Citizenship\",\"New Zealand Citizen\",\"Australian Citizen\",\"Other Citizenship\",\"New Zealand Citizen\",\"Australian Citizen\",\"Other Citizenship\",\"New Zealand Citizen\",\"Australian Citizen\",\"Other Citizenship\",\"New Zealand Citizen\",\"Australian Citizen\",\"Other Citizenship\",\"New Zealand Citizen\",\"Australian Citizen\",\"Other Citizenship\",\"New Zealand Citizen\",\"Australian Citizen\",\"Other Citizenship\",\"New Zealand Citizen\",\"Australian Citizen\",\"Other Citizenship\",\"New Zealand Citizen\",\"Australian Citizen\",\"Other Citizenship\",\"New Zealand Citizen\",\"Australian Citizen\",\"Other Citizenship\",\"New Zealand Citizen\",\"Australian Citizen\",\"Other Citizenship\",\"New Zealand Citizen\",\"Australian Citizen\",\"Other Citizenship\",\"New Zealand Citizen\",\"Australian Citizen\",\"Other Citizenship\",\"New Zealand Citizen\",\"Australian Citizen\",\"Other Citizenship\",\"New Zealand Citizen\",\"Australian Citizen\",\"Other Citizenship\",\"New Zealand Citizen\",\"Australian Citizen\",\"Other Citizenship\",\"New Zealand Citizen\",\"Australian Citizen\",\"Other Citizenship\",\"New Zealand Citizen\",\"Australian Citizen\",\"Other Citizenship\",\"New Zealand Citizen\",\"Australian Citizen\",\"Other Citizenship\",\"New Zealand Citizen\",\"Australian Citizen\",\"Other Citizenship\",\"New Zealand Citizen\",\"Australian Citizen\",\"Other Citizenship\",\"New Zealand Citizen\",\"Australian Citizen\",\"Other Citizenship\",\"New Zealand Citizen\",\"Australian Citizen\",\"Other Citizenship\",\"New Zealand Citizen\",\"Australian Citizen\",\"Other Citizenship\",\"New Zealand Citizen\",\"Australian Citizen\",\"Other Citizenship\",\"New Zealand Citizen\",\"Australian Citizen\",\"Other Citizenship\",\"New Zealand Citizen\",\"Australian Citizen\",\"Other Citizenship\",\"New Zealand Citizen\",\"Australian Citizen\",\"Other Citizenship\",\"New Zealand Citizen\",\"Australian Citizen\",\"Other Citizenship\",\"New Zealand Citizen\",\"Australian Citizen\",\"Other Citizenship\",\"New Zealand Citizen\",\"Australian Citizen\",\"Other Citizenship\",\"New Zealand Citizen\",\"Australian Citizen\",\"Other Citizenship\",\"New Zealand Citizen\",\"Australian Citizen\",\"Other Citizenship\",\"New Zealand Citizen\",\"Australian Citizen\",\"Other Citizenship\",\"New Zealand Citizen\",\"Australian Citizen\",\"Other Citizenship\",\"New Zealand Citizen\",\"Australian Citizen\",\"Other Citizenship\",\"New Zealand Citizen\",\"Australian Citizen\",\"Other Citizenship\",\"New Zealand Citizen\",\"Australian Citizen\",\"Other Citizenship\",\"New Zealand Citizen\",\"Australian Citizen\",\"Other Citizenship\",\"New Zealand Citizen\",\"Australian Citizen\",\"Other Citizenship\",\"New Zealand Citizen\",\"Australian Citizen\",\"Other Citizenship\",\"New Zealand Citizen\",\"Australian Citizen\",\"Other Citizenship\",\"New Zealand Citizen\",\"Australian Citizen\",\"Other Citizenship\",\"New Zealand Citizen\",\"Australian Citizen\",\"Other Citizenship\",\"New Zealand Citizen\",\"Australian Citizen\",\"Other Citizenship\",\"New Zealand Citizen\",\"Australian Citizen\",\"Other Citizenship\",\"New Zealand Citizen\",\"Australian Citizen\",\"Other Citizenship\",\"New Zealand Citizen\",\"Australian Citizen\",\"Other Citizenship\",\"New Zealand Citizen\",\"Australian Citizen\",\"Other Citizenship\",\"New Zealand Citizen\",\"Australian Citizen\",\"Other Citizenship\",\"New Zealand Citizen\",\"Australian Citizen\",\"Other Citizenship\",\"New Zealand Citizen\",\"Australian Citizen\",\"Other Citizenship\",\"New Zealand Citizen\",\"Australian Citizen\",\"Other Citizenship\",\"New Zealand Citizen\",\"Australian Citizen\",\"Other Citizenship\",\"New Zealand Citizen\",\"Australian Citizen\",\"Other Citizenship\",\"New Zealand Citizen\",\"Australian Citizen\",\"Other Citizenship\",\"New Zealand Citizen\",\"Australian Citizen\",\"Other Citizenship\",\"New Zealand Citizen\",\"Australian Citizen\",\"Other Citizenship\",\"New Zealand Citizen\",\"Australian Citizen\",\"Other Citizenship\",\"New Zealand Citizen\",\"Australian Citizen\",\"Other Citizenship\",\"New Zealand Citizen\",\"Australian Citizen\",\"Other Citizenship\",\"New Zealand Citizen\",\"Australian Citizen\",\"Other Citizenship\",\"New Zealand Citizen\",\"Australian Citizen\",\"Other Citizenship\",\"New Zealand Citizen\",\"Australian Citizen\",\"Other Citizenship\",\"New Zealand Citizen\",\"Australian Citizen\",\"Other Citizenship\",\"New Zealand Citizen\",\"Australian Citizen\",\"Other Citizenship\",\"New Zealand Citizen\",\"Australian Citizen\",\"Other Citizenship\",\"New Zealand Citizen\",\"Australian Citizen\",\"Other Citizenship\",\"New Zealand Citizen\",\"Australian Citizen\",\"Other Citizenship\",\"New Zealand Citizen\",\"Australian Citizen\",\"Other Citizenship\",\"New Zealand Citizen\",\"Australian Citizen\",\"Other Citizenship\",\"New Zealand Citizen\",\"Australian Citizen\",\"Other Citizenship\",\"New Zealand Citizen\",\"Australian Citizen\",\"Other Citizenship\",\"New Zealand Citizen\",\"Australian Citizen\",\"Other Citizenship\",\"New Zealand Citizen\",\"Australian Citizen\",\"Other Citizenship\",\"New Zealand Citizen\",\"Australian Citizen\",\"Other Citizenship\",\"New Zealand Citizen\",\"Australian Citizen\",\"Other Citizenship\",\"New Zealand Citizen\",\"Australian Citizen\",\"Other Citizenship\",\"New Zealand Citizen\",\"Australian Citizen\",\"Other Citizenship\",\"New Zealand Citizen\",\"Australian Citizen\",\"Other Citizenship\",\"New Zealand Citizen\",\"Australian Citizen\",\"Other Citizenship\",\"New Zealand Citizen\",\"Australian Citizen\",\"Other Citizenship\",\"New Zealand Citizen\",\"Australian Citizen\",\"Other Citizenship\",\"New Zealand Citizen\",\"Australian Citizen\",\"Other Citizenship\",\"New Zealand Citizen\",\"Australian Citizen\",\"Other Citizenship\",\"New Zealand Citizen\",\"Australian Citizen\",\"Other Citizenship\",\"New Zealand Citizen\",\"Australian Citizen\",\"Other Citizenship\",\"New Zealand Citizen\",\"Australian Citizen\",\"Other Citizenship\",\"New Zealand Citizen\",\"Australian Citizen\",\"Other Citizenship\",\"New Zealand Citizen\",\"Australian Citizen\",\"Other Citizenship\",\"New Zealand Citizen\",\"Australian Citizen\",\"Other Citizenship\",\"New Zealand Citizen\",\"Australian Citizen\",\"Other Citizenship\",\"New Zealand Citizen\",\"Australian Citizen\",\"Other Citizenship\",\"New Zealand Citizen\",\"Australian Citizen\",\"Other Citizenship\",\"New Zealand Citizen\",\"Australian Citizen\",\"Other Citizenship\",\"New Zealand Citizen\",\"Australian Citizen\",\"Other Citizenship\",\"New Zealand Citizen\",\"Australian Citizen\",\"Other Citizenship\",\"New Zealand Citizen\",\"Australian Citizen\",\"Other Citizenship\",\"New Zealand Citizen\",\"Australian Citizen\",\"Other Citizenship\",\"New Zealand Citizen\",\"Australian Citizen\",\"Other Citizenship\",\"New Zealand Citizen\",\"Australian Citizen\",\"Other Citizenship\",\"New Zealand Citizen\",\"Australian Citizen\",\"Other Citizenship\",\"New Zealand Citizen\",\"Australian Citizen\",\"Other Citizenship\",\"New Zealand Citizen\",\"Australian Citizen\",\"Other Citizenship\",\"New Zealand Citizen\",\"Australian Citizen\",\"Other Citizenship\",\"New Zealand Citizen\",\"Australian Citizen\",\"Other Citizenship\",\"New Zealand Citizen\",\"Australian Citizen\",\"Other Citizenship\",\"New Zealand Citizen\",\"Australian Citizen\",\"Other Citizenship\",\"New Zealand Citizen\",\"Australian Citizen\",\"Other Citizenship\",\"New Zealand Citizen\",\"Australian Citizen\",\"Other Citizenship\",\"New Zealand Citizen\",\"Australian Citizen\",\"Other Citizenship\",\"New Zealand Citizen\",\"Australian Citizen\",\"Other Citizenship\",\"New Zealand Citizen\",\"Australian Citizen\",\"Other Citizenship\",\"New Zealand Citizen\",\"Australian Citizen\",\"Other Citizenship\",\"New Zealand Citizen\",\"Australian Citizen\",\"Other Citizenship\",\"New Zealand Citizen\",\"Australian Citizen\",\"Other Citizenship\",\"New Zealand Citizen\",\"Australian Citizen\",\"Other Citizenship\",\"New Zealand Citizen\",\"Australian Citizen\",\"Other Citizenship\",\"New Zealand Citizen\",\"Australian Citizen\",\"Other Citizenship\",\"New Zealand Citizen\",\"Australian Citizen\",\"Other Citizenship\",\"New Zealand Citizen\",\"Australian Citizen\",\"Other Citizenship\",\"New Zealand Citizen\",\"Australian Citizen\",\"Other Citizenship\",\"New Zealand Citizen\",\"Australian Citizen\",\"Other Citizenship\",\"New Zealand Citizen\",\"Australian Citizen\",\"Other Citizenship\",\"New Zealand Citizen\",\"Australian Citizen\",\"Other Citizenship\",\"New Zealand Citizen\",\"Australian Citizen\",\"Other Citizenship\",\"New Zealand Citizen\",\"Australian Citizen\",\"Other Citizenship\",\"New Zealand Citizen\",\"Australian Citizen\",\"Other Citizenship\",\"New Zealand Citizen\",\"Australian Citizen\",\"Other Citizenship\",\"New Zealand Citizen\",\"Australian Citizen\",\"Other Citizenship\",\"New Zealand Citizen\",\"Australian Citizen\",\"Other Citizenship\",\"New Zealand Citizen\",\"Australian Citizen\",\"Other Citizenship\",\"New Zealand Citizen\",\"Australian Citizen\",\"Other Citizenship\",\"New Zealand Citizen\",\"Australian Citizen\",\"Other Citizenship\",\"New Zealand Citizen\",\"Australian Citizen\",\"Other Citizenship\",\"New Zealand Citizen\",\"Australian Citizen\",\"Other Citizenship\",\"New Zealand Citizen\",\"Australian Citizen\",\"Other Citizenship\",\"New Zealand Citizen\",\"Australian Citizen\",\"Other Citizenship\",\"New Zealand Citizen\",\"Australian Citizen\",\"Other Citizenship\",\"New Zealand Citizen\",\"Australian Citizen\",\"Other Citizenship\",\"New Zealand Citizen\",\"Australian Citizen\",\"Other Citizenship\",\"New Zealand Citizen\",\"Australian Citizen\",\"Other Citizenship\",\"New Zealand Citizen\",\"Australian Citizen\",\"Other Citizenship\",\"New Zealand Citizen\",\"Australian Citizen\",\"Other Citizenship\",\"New Zealand Citizen\",\"Australian Citizen\",\"Other Citizenship\",\"New Zealand Citizen\",\"Australian Citizen\",\"Other Citizenship\",\"New Zealand Citizen\",\"Australian Citizen\",\"Other Citizenship\",\"New Zealand Citizen\",\"Australian Citizen\",\"Other Citizenship\",\"New Zealand Citizen\",\"Australian Citizen\",\"Other Citizenship\",\"New Zealand Citizen\",\"Australian Citizen\",\"Other Citizenship\",\"New Zealand Citizen\",\"Australian Citizen\",\"Other Citizenship\",\"New Zealand Citizen\",\"Australian Citizen\",\"Other Citizenship\",\"New Zealand Citizen\",\"Australian Citizen\",\"Other Citizenship\",\"New Zealand Citizen\",\"Australian Citizen\",\"Other Citizenship\",\"New Zealand Citizen\",\"Australian Citizen\",\"Other Citizenship\",\"New Zealand Citizen\",\"Australian Citizen\",\"Other Citizenship\",\"New Zealand Citizen\",\"Australian Citizen\",\"Other Citizenship\",\"New Zealand Citizen\",\"Australian Citizen\",\"Other Citizenship\",\"New Zealand Citizen\",\"Australian Citizen\",\"Other Citizenship\"],\"type\":\"scatter3d\"}],                        {\"template\":{\"data\":{\"histogram2dcontour\":[{\"type\":\"histogram2dcontour\",\"colorbar\":{\"outlinewidth\":0,\"ticks\":\"\"},\"colorscale\":[[0.0,\"#0d0887\"],[0.1111111111111111,\"#46039f\"],[0.2222222222222222,\"#7201a8\"],[0.3333333333333333,\"#9c179e\"],[0.4444444444444444,\"#bd3786\"],[0.5555555555555556,\"#d8576b\"],[0.6666666666666666,\"#ed7953\"],[0.7777777777777778,\"#fb9f3a\"],[0.8888888888888888,\"#fdca26\"],[1.0,\"#f0f921\"]]}],\"choropleth\":[{\"type\":\"choropleth\",\"colorbar\":{\"outlinewidth\":0,\"ticks\":\"\"}}],\"histogram2d\":[{\"type\":\"histogram2d\",\"colorbar\":{\"outlinewidth\":0,\"ticks\":\"\"},\"colorscale\":[[0.0,\"#0d0887\"],[0.1111111111111111,\"#46039f\"],[0.2222222222222222,\"#7201a8\"],[0.3333333333333333,\"#9c179e\"],[0.4444444444444444,\"#bd3786\"],[0.5555555555555556,\"#d8576b\"],[0.6666666666666666,\"#ed7953\"],[0.7777777777777778,\"#fb9f3a\"],[0.8888888888888888,\"#fdca26\"],[1.0,\"#f0f921\"]]}],\"heatmap\":[{\"type\":\"heatmap\",\"colorbar\":{\"outlinewidth\":0,\"ticks\":\"\"},\"colorscale\":[[0.0,\"#0d0887\"],[0.1111111111111111,\"#46039f\"],[0.2222222222222222,\"#7201a8\"],[0.3333333333333333,\"#9c179e\"],[0.4444444444444444,\"#bd3786\"],[0.5555555555555556,\"#d8576b\"],[0.6666666666666666,\"#ed7953\"],[0.7777777777777778,\"#fb9f3a\"],[0.8888888888888888,\"#fdca26\"],[1.0,\"#f0f921\"]]}],\"heatmapgl\":[{\"type\":\"heatmapgl\",\"colorbar\":{\"outlinewidth\":0,\"ticks\":\"\"},\"colorscale\":[[0.0,\"#0d0887\"],[0.1111111111111111,\"#46039f\"],[0.2222222222222222,\"#7201a8\"],[0.3333333333333333,\"#9c179e\"],[0.4444444444444444,\"#bd3786\"],[0.5555555555555556,\"#d8576b\"],[0.6666666666666666,\"#ed7953\"],[0.7777777777777778,\"#fb9f3a\"],[0.8888888888888888,\"#fdca26\"],[1.0,\"#f0f921\"]]}],\"contourcarpet\":[{\"type\":\"contourcarpet\",\"colorbar\":{\"outlinewidth\":0,\"ticks\":\"\"}}],\"contour\":[{\"type\":\"contour\",\"colorbar\":{\"outlinewidth\":0,\"ticks\":\"\"},\"colorscale\":[[0.0,\"#0d0887\"],[0.1111111111111111,\"#46039f\"],[0.2222222222222222,\"#7201a8\"],[0.3333333333333333,\"#9c179e\"],[0.4444444444444444,\"#bd3786\"],[0.5555555555555556,\"#d8576b\"],[0.6666666666666666,\"#ed7953\"],[0.7777777777777778,\"#fb9f3a\"],[0.8888888888888888,\"#fdca26\"],[1.0,\"#f0f921\"]]}],\"surface\":[{\"type\":\"surface\",\"colorbar\":{\"outlinewidth\":0,\"ticks\":\"\"},\"colorscale\":[[0.0,\"#0d0887\"],[0.1111111111111111,\"#46039f\"],[0.2222222222222222,\"#7201a8\"],[0.3333333333333333,\"#9c179e\"],[0.4444444444444444,\"#bd3786\"],[0.5555555555555556,\"#d8576b\"],[0.6666666666666666,\"#ed7953\"],[0.7777777777777778,\"#fb9f3a\"],[0.8888888888888888,\"#fdca26\"],[1.0,\"#f0f921\"]]}],\"mesh3d\":[{\"type\":\"mesh3d\",\"colorbar\":{\"outlinewidth\":0,\"ticks\":\"\"}}],\"scatter\":[{\"fillpattern\":{\"fillmode\":\"overlay\",\"size\":10,\"solidity\":0.2},\"type\":\"scatter\"}],\"parcoords\":[{\"type\":\"parcoords\",\"line\":{\"colorbar\":{\"outlinewidth\":0,\"ticks\":\"\"}}}],\"scatterpolargl\":[{\"type\":\"scatterpolargl\",\"marker\":{\"colorbar\":{\"outlinewidth\":0,\"ticks\":\"\"}}}],\"bar\":[{\"error_x\":{\"color\":\"#2a3f5f\"},\"error_y\":{\"color\":\"#2a3f5f\"},\"marker\":{\"line\":{\"color\":\"#E5ECF6\",\"width\":0.5},\"pattern\":{\"fillmode\":\"overlay\",\"size\":10,\"solidity\":0.2}},\"type\":\"bar\"}],\"scattergeo\":[{\"type\":\"scattergeo\",\"marker\":{\"colorbar\":{\"outlinewidth\":0,\"ticks\":\"\"}}}],\"scatterpolar\":[{\"type\":\"scatterpolar\",\"marker\":{\"colorbar\":{\"outlinewidth\":0,\"ticks\":\"\"}}}],\"histogram\":[{\"marker\":{\"pattern\":{\"fillmode\":\"overlay\",\"size\":10,\"solidity\":0.2}},\"type\":\"histogram\"}],\"scattergl\":[{\"type\":\"scattergl\",\"marker\":{\"colorbar\":{\"outlinewidth\":0,\"ticks\":\"\"}}}],\"scatter3d\":[{\"type\":\"scatter3d\",\"line\":{\"colorbar\":{\"outlinewidth\":0,\"ticks\":\"\"}},\"marker\":{\"colorbar\":{\"outlinewidth\":0,\"ticks\":\"\"}}}],\"scattermapbox\":[{\"type\":\"scattermapbox\",\"marker\":{\"colorbar\":{\"outlinewidth\":0,\"ticks\":\"\"}}}],\"scatterternary\":[{\"type\":\"scatterternary\",\"marker\":{\"colorbar\":{\"outlinewidth\":0,\"ticks\":\"\"}}}],\"scattercarpet\":[{\"type\":\"scattercarpet\",\"marker\":{\"colorbar\":{\"outlinewidth\":0,\"ticks\":\"\"}}}],\"carpet\":[{\"aaxis\":{\"endlinecolor\":\"#2a3f5f\",\"gridcolor\":\"white\",\"linecolor\":\"white\",\"minorgridcolor\":\"white\",\"startlinecolor\":\"#2a3f5f\"},\"baxis\":{\"endlinecolor\":\"#2a3f5f\",\"gridcolor\":\"white\",\"linecolor\":\"white\",\"minorgridcolor\":\"white\",\"startlinecolor\":\"#2a3f5f\"},\"type\":\"carpet\"}],\"table\":[{\"cells\":{\"fill\":{\"color\":\"#EBF0F8\"},\"line\":{\"color\":\"white\"}},\"header\":{\"fill\":{\"color\":\"#C8D4E3\"},\"line\":{\"color\":\"white\"}},\"type\":\"table\"}],\"barpolar\":[{\"marker\":{\"line\":{\"color\":\"#E5ECF6\",\"width\":0.5},\"pattern\":{\"fillmode\":\"overlay\",\"size\":10,\"solidity\":0.2}},\"type\":\"barpolar\"}],\"pie\":[{\"automargin\":true,\"type\":\"pie\"}]},\"layout\":{\"autotypenumbers\":\"strict\",\"colorway\":[\"#636efa\",\"#EF553B\",\"#00cc96\",\"#ab63fa\",\"#FFA15A\",\"#19d3f3\",\"#FF6692\",\"#B6E880\",\"#FF97FF\",\"#FECB52\"],\"font\":{\"color\":\"#2a3f5f\"},\"hovermode\":\"closest\",\"hoverlabel\":{\"align\":\"left\"},\"paper_bgcolor\":\"white\",\"plot_bgcolor\":\"#E5ECF6\",\"polar\":{\"bgcolor\":\"#E5ECF6\",\"angularaxis\":{\"gridcolor\":\"white\",\"linecolor\":\"white\",\"ticks\":\"\"},\"radialaxis\":{\"gridcolor\":\"white\",\"linecolor\":\"white\",\"ticks\":\"\"}},\"ternary\":{\"bgcolor\":\"#E5ECF6\",\"aaxis\":{\"gridcolor\":\"white\",\"linecolor\":\"white\",\"ticks\":\"\"},\"baxis\":{\"gridcolor\":\"white\",\"linecolor\":\"white\",\"ticks\":\"\"},\"caxis\":{\"gridcolor\":\"white\",\"linecolor\":\"white\",\"ticks\":\"\"}},\"coloraxis\":{\"colorbar\":{\"outlinewidth\":0,\"ticks\":\"\"}},\"colorscale\":{\"sequential\":[[0.0,\"#0d0887\"],[0.1111111111111111,\"#46039f\"],[0.2222222222222222,\"#7201a8\"],[0.3333333333333333,\"#9c179e\"],[0.4444444444444444,\"#bd3786\"],[0.5555555555555556,\"#d8576b\"],[0.6666666666666666,\"#ed7953\"],[0.7777777777777778,\"#fb9f3a\"],[0.8888888888888888,\"#fdca26\"],[1.0,\"#f0f921\"]],\"sequentialminus\":[[0.0,\"#0d0887\"],[0.1111111111111111,\"#46039f\"],[0.2222222222222222,\"#7201a8\"],[0.3333333333333333,\"#9c179e\"],[0.4444444444444444,\"#bd3786\"],[0.5555555555555556,\"#d8576b\"],[0.6666666666666666,\"#ed7953\"],[0.7777777777777778,\"#fb9f3a\"],[0.8888888888888888,\"#fdca26\"],[1.0,\"#f0f921\"]],\"diverging\":[[0,\"#8e0152\"],[0.1,\"#c51b7d\"],[0.2,\"#de77ae\"],[0.3,\"#f1b6da\"],[0.4,\"#fde0ef\"],[0.5,\"#f7f7f7\"],[0.6,\"#e6f5d0\"],[0.7,\"#b8e186\"],[0.8,\"#7fbc41\"],[0.9,\"#4d9221\"],[1,\"#276419\"]]},\"xaxis\":{\"gridcolor\":\"white\",\"linecolor\":\"white\",\"ticks\":\"\",\"title\":{\"standoff\":15},\"zerolinecolor\":\"white\",\"automargin\":true,\"zerolinewidth\":2},\"yaxis\":{\"gridcolor\":\"white\",\"linecolor\":\"white\",\"ticks\":\"\",\"title\":{\"standoff\":15},\"zerolinecolor\":\"white\",\"automargin\":true,\"zerolinewidth\":2},\"scene\":{\"xaxis\":{\"backgroundcolor\":\"#E5ECF6\",\"gridcolor\":\"white\",\"linecolor\":\"white\",\"showbackground\":true,\"ticks\":\"\",\"zerolinecolor\":\"white\",\"gridwidth\":2},\"yaxis\":{\"backgroundcolor\":\"#E5ECF6\",\"gridcolor\":\"white\",\"linecolor\":\"white\",\"showbackground\":true,\"ticks\":\"\",\"zerolinecolor\":\"white\",\"gridwidth\":2},\"zaxis\":{\"backgroundcolor\":\"#E5ECF6\",\"gridcolor\":\"white\",\"linecolor\":\"white\",\"showbackground\":true,\"ticks\":\"\",\"zerolinecolor\":\"white\",\"gridwidth\":2}},\"shapedefaults\":{\"line\":{\"color\":\"#2a3f5f\"}},\"annotationdefaults\":{\"arrowcolor\":\"#2a3f5f\",\"arrowhead\":0,\"arrowwidth\":1},\"geo\":{\"bgcolor\":\"white\",\"landcolor\":\"#E5ECF6\",\"subunitcolor\":\"white\",\"showland\":true,\"showlakes\":true,\"lakecolor\":\"white\"},\"title\":{\"x\":0.05},\"mapbox\":{\"style\":\"light\"}}},\"scene\":{\"domain\":{\"x\":[0.0,1.0],\"y\":[0.0,1.0]},\"xaxis\":{\"title\":{\"text\":\"Year\"}},\"yaxis\":{\"title\":{\"text\":\"Migration Value\"}},\"zaxis\":{\"title\":{\"text\":\"Citizenship\"}}},\"coloraxis\":{\"colorbar\":{\"title\":{\"text\":\"Cluster\"}},\"colorscale\":[[0.0,\"#0d0887\"],[0.1111111111111111,\"#46039f\"],[0.2222222222222222,\"#7201a8\"],[0.3333333333333333,\"#9c179e\"],[0.4444444444444444,\"#bd3786\"],[0.5555555555555556,\"#d8576b\"],[0.6666666666666666,\"#ed7953\"],[0.7777777777777778,\"#fb9f3a\"],[0.8888888888888888,\"#fdca26\"],[1.0,\"#f0f921\"]]},\"legend\":{\"tracegroupgap\":0},\"title\":{\"text\":\"3D Scatter Plot of K-Means Clustering\"}},                        {\"responsive\": true}                    ).then(function(){\n",
              "                            \n",
              "var gd = document.getElementById('f0f22d9a-d746-4b67-a7bd-53ffa9d66692');\n",
              "var x = new MutationObserver(function (mutations, observer) {{\n",
              "        var display = window.getComputedStyle(gd).display;\n",
              "        if (!display || display === 'none') {{\n",
              "            console.log([gd, 'removed!']);\n",
              "            Plotly.purge(gd);\n",
              "            observer.disconnect();\n",
              "        }}\n",
              "}});\n",
              "\n",
              "// Listen for the removal of the full notebook cells\n",
              "var notebookContainer = gd.closest('#notebook-container');\n",
              "if (notebookContainer) {{\n",
              "    x.observe(notebookContainer, {childList: true});\n",
              "}}\n",
              "\n",
              "// Listen for the clearing of the current output cell\n",
              "var outputEl = gd.closest('.output');\n",
              "if (outputEl) {{\n",
              "    x.observe(outputEl, {childList: true});\n",
              "}}\n",
              "\n",
              "                        })                };                            </script>        </div>\n",
              "</body>\n",
              "</html>"
            ]
          },
          "metadata": {}
        }
      ]
    }
  ]
}